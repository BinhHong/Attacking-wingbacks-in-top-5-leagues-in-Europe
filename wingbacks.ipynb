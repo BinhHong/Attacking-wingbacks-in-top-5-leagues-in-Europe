{
 "cells": [
  {
   "cell_type": "markdown",
   "source": "# I. Introduction\n***\nTraditionally, we often think about fullbacks, the left and right defenders, as players whose main roles are to prevent opponents from scoring and stay back while their teammates are attacking. In modern football, their duties are much more than that. Not only defending well, but they must also participate in attacking. Hence comes the name **wingbacks**, meaning that they often press so high that they can be seen as a mixture of a fullback and a winger. In some teams, we even see that wingbacks focus more on attacking, while the gaps behind are usually covered by central midfielders. \n\nThe idea of wingbacks has been implemented quite a time ago, but until recently, we see the abundance of excellent wingbacks grown. This is due to the rise of many innovative managers, typically Pep Guardiola, who is famous for his **\"tiki-taka\"** and Jurgen Klopp, with his **\"heavy metal football\"**.\n\n<figure>\n<img src=\"https://derivates.kicker.de/image/fetch/f_webp,w_800,h_600,c_fill,g_auto,q_auto:best/http%3A%2F%2Fmediadb.kicker.de%2Fnews%2F1000%2F1020%2F1100%2F8000%2F8201%2Fartikel02%2F1023186%2Fklopp-1525514203.jpg\" alt=\"Trulli\" style=\"width:100%\">\n<figcaption align = \"center\"><b>Jurgen Klopp and Pep Guardiola. Source: kicker.de</b></figcaption>\n</figure>\n<br/>\n\nBecause of the special playstyle, wingbacks are required to have a very strong physical endurance and fast speed, as well as skills from a midfielder like passing and scoring. To evaluate the performance of a wingback, we have to assess not only defending abilities like `tackling`, `interceptions`, `clearances` ..., but also attacking perspectives like `key passes`, `goals`, `assists` etc.  \n\n<figure>\n<img src=\"https://d3j2s6hdd6a7rg.cloudfront.net/v2/uploads/media/default/0001/97/thumb_96635_default_news_size_5.jpeg\" alt=\"Trulli\" style=\"width:100%\">\n<figcaption align = \"center\"><b>Trent Alexander-Arnold and Andy Robertson, outstanding wingbacks couple from Liverpool. Photo: Liverpool FC via Getty</b></figcaption>\n</figure>\n<br/>\n\nIn this project I will focus on attacking aspects of a wingback and evaluate how well he takes part in bulding up his team's play, in terms of a stat called `xGChain`. The notion was introduced by `statsbomb` at https://statsbomb.com/2018/08/introducing-xgchain-and-xgbuildup/.\nBasically, it measures the involvement of a player in attacking by assigning to him a number, which is deduced from the expected goal of all possessions he joins (only possesions which lead to a shot are counted). \n\nThe reason behind this choice is quite simple. We cannot expect a wingback to score or assist as effectively as other positions like strikers or midfielders. What we measure him in attacking can only be seen by his contribution to dangerous situations that his team creates. This reflects how well he cooperates with his teammates, from which it leads to a shot. In some cases, he can even be the one who score a goal. Also by this reason, I decide to choose `xGChain` instead of `xGBuildup`.\n\nI will scrape data from https://understat.com/ and make an analysis on the trend of wingbacks in football teams in top 5 leagues in Europe. At the end, I also highlight some of the best players.",
   "metadata": {
    "cell_id": "82a00276-c686-4c86-ade7-128ac23fb33f",
    "deepnote_app_coordinates": {
     "x": 0,
     "y": null,
     "w": 12,
     "h": 5
    },
    "deepnote_cell_type": "markdown",
    "deepnote_cell_height": 1950.09375
   }
  },
  {
   "cell_type": "markdown",
   "source": "### Acknowledgement:\n***\n\nThis project is inspired by [Edd Webster](https://github.com/eddwebster), [Sergi Lehkyi](https://towardsdatascience.com/web-scraping-advanced-football-statistics-11cace1d863a) and [Khuyen Tran](https://github.com/khuyentran1401).\n\n",
   "metadata": {
    "cell_id": "bc7c9e34-d5aa-45f1-b884-81242b461040",
    "tags": [],
    "deepnote_app_coordinates": {
     "x": 0,
     "y": 372,
     "w": 12,
     "h": 4
    },
    "deepnote_cell_type": "markdown",
    "deepnote_cell_height": 101.390625
   }
  },
  {
   "cell_type": "markdown",
   "source": "# II. Scraping and cleanse data\n***\n\n## 1. Import involved libraries\n***",
   "metadata": {
    "cell_id": "00001-77ce5e23-b0d8-4242-9990-d218c55dc633",
    "deepnote_app_coordinates": {
     "x": 0,
     "y": 6,
     "w": 12,
     "h": 5
    },
    "deepnote_cell_type": "markdown",
    "deepnote_cell_height": 156
   }
  },
  {
   "cell_type": "code",
   "metadata": {
    "cell_id": "00002-d316fe6f-38ab-48a3-9284-4604e820896f",
    "deepnote_to_be_reexecuted": false,
    "source_hash": "1f529218",
    "execution_start": 1654031065213,
    "execution_millis": 1,
    "deepnote_app_coordinates": {
     "x": 0,
     "y": 12,
     "w": 12,
     "h": 5
    },
    "deepnote_cell_type": "code",
    "deepnote_cell_height": 297
   },
   "source": "import requests\nfrom bs4 import BeautifulSoup\nimport json\nimport pandas as pd\nimport plotly.express as px\n\nimport matplotlib as mpl\nimport matplotlib.pyplot as plt\n\nimport seaborn as sns\nimport numpy as np\n%matplotlib inline\n",
   "execution_count": 2,
   "outputs": []
  },
  {
   "cell_type": "markdown",
   "source": "## 2. Examine the site\n***\n\nhttps://understat.com/ is structured as follows:\n\n- There are total 6 leagues\n- Stats are collected from season 2014/2015\n- The data at each season is given under the link of the form https://understat.com/league/EPL/2020 (for season 2020/2021 England Premier League)\n- Inspecting the page shows that data is stored in tabs called `script`\n![understat.png](understat.png)\n- There are 3 important types of data here:\n\n    - `teamsData`: extracting JSON data gives us a list, keys are `id`s of each team and values are again lists with 3 keys: `id`, `title`, and `history`.\n    - `playersData`: results in a list, containing information of all players in season 2020, Premier League. Basically, an element of this list is a dictionary consisting of all stats of a player in the whole season.\n    - `datesData`: this will give a list that stores info on all matches of a season. So, each element of this list is a dictionary, corresponding to a specific match. There is a key called `isResult`, if its value is `True` then this match already happened. We are only interested in the `id` of each match and use `playersData` for collecting the `id`'s of all matches.\n    \nSince my purpose is to gather info on players who played at the wingback positions, I expect to see it is stored in `playersData`. However, for some reasons, https://understat.com/ doesn't show info I need, such as the exact position for each player. Therefore, I decide to scrape through all matches. Despite time consuming, it is totally worth since I have accurate and detailed stats for all players. \n\n- Each match under the link, e.g https://understat.com/match/14795 has two types of data:\n    - `shotsData`: lists all situations happened in this match. \n    - `rostersData`: gives us a dictionary with two keys: `h` stands for the home team and `a` for the away team. The values corresponding to the key `h`, for example, have all information of each players in the home team, including `position`, `shots`, `xG` ... And that is exactly what I need!",
   "metadata": {
    "cell_id": "00003-243eb625-9189-4e03-a281-33d3c71dd9ef",
    "deepnote_app_coordinates": {
     "x": 0,
     "y": 18,
     "w": 12,
     "h": 5
    },
    "deepnote_cell_type": "markdown",
    "deepnote_cell_height": 733.1875
   }
  },
  {
   "cell_type": "markdown",
   "source": "## 3. Scrape and cleanse data\n***\n### Scrape data\n\nThe basic idea is: \n- Looping through all leagues, \n    - For each league we loop again through all seasons from 2014/2015. Inside each season:\n\n        - Make a ranking table for all teams, filtering down to top 5, based on points\n        - Collect all match id's\n        - Make another loop over all matches:\n            - Pick stats of all players playing in one of 4 positions: `DL`, `DR`, `DML`, `DMR`\n            - Append stat of each player into a temporary list\n            - Make a dataframe based on this list\n- concatenating all dataframes for each season and finally for each league into one\n    ",
   "metadata": {
    "cell_id": "00004-7035dc8d-1336-4aa7-b05b-aecc0b089d2f",
    "deepnote_app_coordinates": {
     "x": 0,
     "y": 24,
     "w": 12,
     "h": 5
    },
    "deepnote_cell_type": "markdown",
    "deepnote_cell_height": 433
   }
  },
  {
   "cell_type": "markdown",
   "source": "The code to get the dataframe for all wingbacks in top 5 teams each league and each season can be found [here](./scrape_data.py).",
   "metadata": {
    "cell_id": "24e8c856-8bac-4181-913a-5a27db368676",
    "tags": [],
    "deepnote_app_coordinates": {
     "x": 0,
     "y": 30,
     "w": 12,
     "h": 5
    },
    "deepnote_cell_type": "markdown",
    "deepnote_cell_height": 52.390625
   }
  },
  {
   "cell_type": "markdown",
   "source": "### Check data",
   "metadata": {
    "cell_id": "00009-2461571e-6f80-4d02-9290-d57580cd43a1",
    "deepnote_app_coordinates": {
     "x": 0,
     "y": 36,
     "w": 12,
     "h": 5
    },
    "deepnote_cell_type": "markdown",
    "deepnote_cell_height": 62
   }
  },
  {
   "cell_type": "code",
   "metadata": {
    "scrolled": true,
    "cell_id": "00010-6985dd77-1dcb-42ef-8e19-1a91616b03e6",
    "deepnote_to_be_reexecuted": false,
    "source_hash": "b36be458",
    "execution_start": 1654031065214,
    "execution_millis": 341,
    "deepnote_table_state": {
     "pageSize": 100,
     "pageIndex": 0,
     "filters": [],
     "sortBy": []
    },
    "deepnote_table_loading": false,
    "deepnote_app_coordinates": {
     "x": 0,
     "y": 42,
     "w": 12,
     "h": 5
    },
    "deepnote_cell_type": "code",
    "deepnote_cell_height": 706.796875
   },
   "source": "data=pd.read_csv('wingbacks_topteams.csv')\n\n# rename 2 unnamed columns\ndata.rename(columns={'Unnamed: 0':'league','Unnamed: 1': 'season'},inplace= True) \ndata.drop('Unnamed: 2',1,inplace=True)\ndata.head(10)",
   "execution_count": 3,
   "outputs": [
    {
     "output_type": "execute_result",
     "execution_count": 3,
     "data": {
      "application/vnd.deepnote.dataframe.v3+json": {
       "column_count": 15,
       "row_count": 10,
       "columns": [
        {
         "name": "league",
         "dtype": "object",
         "stats": {
          "unique_count": 1,
          "nan_count": 0,
          "categories": [
           {
            "name": "EPL",
            "count": 10
           }
          ]
         }
        },
        {
         "name": "season",
         "dtype": "int64",
         "stats": {
          "unique_count": 1,
          "nan_count": 0,
          "min": "2014",
          "max": "2014",
          "histogram": [
           {
            "bin_start": 2013.5,
            "bin_end": 2013.6,
            "count": 0
           },
           {
            "bin_start": 2013.6,
            "bin_end": 2013.7,
            "count": 0
           },
           {
            "bin_start": 2013.7,
            "bin_end": 2013.8,
            "count": 0
           },
           {
            "bin_start": 2013.8,
            "bin_end": 2013.9,
            "count": 0
           },
           {
            "bin_start": 2013.9,
            "bin_end": 2014,
            "count": 0
           },
           {
            "bin_start": 2014,
            "bin_end": 2014.1,
            "count": 10
           },
           {
            "bin_start": 2014.1,
            "bin_end": 2014.2,
            "count": 0
           },
           {
            "bin_start": 2014.2,
            "bin_end": 2014.3,
            "count": 0
           },
           {
            "bin_start": 2014.3,
            "bin_end": 2014.4,
            "count": 0
           },
           {
            "bin_start": 2014.4,
            "bin_end": 2014.5,
            "count": 0
           }
          ]
         }
        },
        {
         "name": "player",
         "dtype": "object",
         "stats": {
          "unique_count": 8,
          "nan_count": 0,
          "categories": [
           {
            "name": "Branislav Ivanovic",
            "count": 2
           },
           {
            "name": "César Azpilicueta",
            "count": 2
           },
           {
            "name": "6 others",
            "count": 6
           }
          ]
         }
        },
        {
         "name": "team_id",
         "dtype": "int64",
         "stats": {
          "unique_count": 4,
          "nan_count": 0,
          "min": "80",
          "max": "88",
          "histogram": [
           {
            "bin_start": 80,
            "bin_end": 80.8,
            "count": 4
           },
           {
            "bin_start": 80.8,
            "bin_end": 81.6,
            "count": 0
           },
           {
            "bin_start": 81.6,
            "bin_end": 82.4,
            "count": 2
           },
           {
            "bin_start": 82.4,
            "bin_end": 83.2,
            "count": 2
           },
           {
            "bin_start": 83.2,
            "bin_end": 84,
            "count": 0
           },
           {
            "bin_start": 84,
            "bin_end": 84.8,
            "count": 0
           },
           {
            "bin_start": 84.8,
            "bin_end": 85.6,
            "count": 0
           },
           {
            "bin_start": 85.6,
            "bin_end": 86.4,
            "count": 0
           },
           {
            "bin_start": 86.4,
            "bin_end": 87.2,
            "count": 0
           },
           {
            "bin_start": 87.2,
            "bin_end": 88,
            "count": 2
           }
          ]
         }
        },
        {
         "name": "position",
         "dtype": "object",
         "stats": {
          "unique_count": 2,
          "nan_count": 0,
          "categories": [
           {
            "name": "DR",
            "count": 5
           },
           {
            "name": "DL",
            "count": 5
           }
          ]
         }
        },
        {
         "name": "goals",
         "dtype": "int64",
         "stats": {
          "unique_count": 2,
          "nan_count": 0,
          "min": "0",
          "max": "1",
          "histogram": [
           {
            "bin_start": 0,
            "bin_end": 0.1,
            "count": 9
           },
           {
            "bin_start": 0.1,
            "bin_end": 0.2,
            "count": 0
           },
           {
            "bin_start": 0.2,
            "bin_end": 0.30000000000000004,
            "count": 0
           },
           {
            "bin_start": 0.30000000000000004,
            "bin_end": 0.4,
            "count": 0
           },
           {
            "bin_start": 0.4,
            "bin_end": 0.5,
            "count": 0
           },
           {
            "bin_start": 0.5,
            "bin_end": 0.6000000000000001,
            "count": 0
           },
           {
            "bin_start": 0.6000000000000001,
            "bin_end": 0.7000000000000001,
            "count": 0
           },
           {
            "bin_start": 0.7000000000000001,
            "bin_end": 0.8,
            "count": 0
           },
           {
            "bin_start": 0.8,
            "bin_end": 0.9,
            "count": 0
           },
           {
            "bin_start": 0.9,
            "bin_end": 1,
            "count": 1
           }
          ]
         }
        },
        {
         "name": "assists",
         "dtype": "int64",
         "stats": {
          "unique_count": 1,
          "nan_count": 0,
          "min": "0",
          "max": "0",
          "histogram": [
           {
            "bin_start": -0.5,
            "bin_end": -0.4,
            "count": 0
           },
           {
            "bin_start": -0.4,
            "bin_end": -0.3,
            "count": 0
           },
           {
            "bin_start": -0.3,
            "bin_end": -0.19999999999999996,
            "count": 0
           },
           {
            "bin_start": -0.19999999999999996,
            "bin_end": -0.09999999999999998,
            "count": 0
           },
           {
            "bin_start": -0.09999999999999998,
            "bin_end": 0,
            "count": 0
           },
           {
            "bin_start": 0,
            "bin_end": 0.10000000000000009,
            "count": 10
           },
           {
            "bin_start": 0.10000000000000009,
            "bin_end": 0.20000000000000007,
            "count": 0
           },
           {
            "bin_start": 0.20000000000000007,
            "bin_end": 0.30000000000000004,
            "count": 0
           },
           {
            "bin_start": 0.30000000000000004,
            "bin_end": 0.4,
            "count": 0
           },
           {
            "bin_start": 0.4,
            "bin_end": 0.5,
            "count": 0
           }
          ]
         }
        },
        {
         "name": "key_passes",
         "dtype": "int64",
         "stats": {
          "unique_count": 3,
          "nan_count": 0,
          "min": "0",
          "max": "2",
          "histogram": [
           {
            "bin_start": 0,
            "bin_end": 0.2,
            "count": 6
           },
           {
            "bin_start": 0.2,
            "bin_end": 0.4,
            "count": 0
           },
           {
            "bin_start": 0.4,
            "bin_end": 0.6000000000000001,
            "count": 0
           },
           {
            "bin_start": 0.6000000000000001,
            "bin_end": 0.8,
            "count": 0
           },
           {
            "bin_start": 0.8,
            "bin_end": 1,
            "count": 0
           },
           {
            "bin_start": 1,
            "bin_end": 1.2000000000000002,
            "count": 3
           },
           {
            "bin_start": 1.2000000000000002,
            "bin_end": 1.4000000000000001,
            "count": 0
           },
           {
            "bin_start": 1.4000000000000001,
            "bin_end": 1.6,
            "count": 0
           },
           {
            "bin_start": 1.6,
            "bin_end": 1.8,
            "count": 0
           },
           {
            "bin_start": 1.8,
            "bin_end": 2,
            "count": 1
           }
          ]
         }
        },
        {
         "name": "xG",
         "dtype": "float64",
         "stats": {
          "unique_count": 4,
          "nan_count": 0,
          "min": "0.0",
          "max": "0.6645569205284119",
          "histogram": [
           {
            "bin_start": 0,
            "bin_end": 0.06645569205284119,
            "count": 7
           },
           {
            "bin_start": 0.06645569205284119,
            "bin_end": 0.13291138410568237,
            "count": 1
           },
           {
            "bin_start": 0.13291138410568237,
            "bin_end": 0.19936707615852356,
            "count": 0
           },
           {
            "bin_start": 0.19936707615852356,
            "bin_end": 0.26582276821136475,
            "count": 0
           },
           {
            "bin_start": 0.26582276821136475,
            "bin_end": 0.33227846026420593,
            "count": 0
           },
           {
            "bin_start": 0.33227846026420593,
            "bin_end": 0.3987341523170471,
            "count": 0
           },
           {
            "bin_start": 0.3987341523170471,
            "bin_end": 0.4651898443698883,
            "count": 0
           },
           {
            "bin_start": 0.4651898443698883,
            "bin_end": 0.5316455364227295,
            "count": 1
           },
           {
            "bin_start": 0.5316455364227295,
            "bin_end": 0.5981012284755707,
            "count": 0
           },
           {
            "bin_start": 0.5981012284755707,
            "bin_end": 0.6645569205284119,
            "count": 1
           }
          ]
         }
        },
        {
         "name": "xA",
         "dtype": "float64",
         "stats": {
          "unique_count": 5,
          "nan_count": 0,
          "min": "0.0",
          "max": "0.3638066053390503",
          "histogram": [
           {
            "bin_start": 0,
            "bin_end": 0.036380660533905027,
            "count": 8
           },
           {
            "bin_start": 0.036380660533905027,
            "bin_end": 0.07276132106781005,
            "count": 1
           },
           {
            "bin_start": 0.07276132106781005,
            "bin_end": 0.10914198160171508,
            "count": 0
           },
           {
            "bin_start": 0.10914198160171508,
            "bin_end": 0.1455226421356201,
            "count": 0
           },
           {
            "bin_start": 0.1455226421356201,
            "bin_end": 0.18190330266952515,
            "count": 0
           },
           {
            "bin_start": 0.18190330266952515,
            "bin_end": 0.21828396320343016,
            "count": 0
           },
           {
            "bin_start": 0.21828396320343016,
            "bin_end": 0.25466462373733517,
            "count": 0
           },
           {
            "bin_start": 0.25466462373733517,
            "bin_end": 0.2910452842712402,
            "count": 0
           },
           {
            "bin_start": 0.2910452842712402,
            "bin_end": 0.32742594480514525,
            "count": 0
           },
           {
            "bin_start": 0.32742594480514525,
            "bin_end": 0.3638066053390503,
            "count": 1
           }
          ]
         }
        },
        {
         "name": "time",
         "dtype": "int64",
         "stats": {
          "unique_count": 3,
          "nan_count": 0,
          "min": "28",
          "max": "90",
          "histogram": [
           {
            "bin_start": 28,
            "bin_end": 34.2,
            "count": 1
           },
           {
            "bin_start": 34.2,
            "bin_end": 40.4,
            "count": 0
           },
           {
            "bin_start": 40.4,
            "bin_end": 46.6,
            "count": 0
           },
           {
            "bin_start": 46.6,
            "bin_end": 52.8,
            "count": 0
           },
           {
            "bin_start": 52.8,
            "bin_end": 59,
            "count": 1
           },
           {
            "bin_start": 59,
            "bin_end": 65.2,
            "count": 0
           },
           {
            "bin_start": 65.2,
            "bin_end": 71.4,
            "count": 0
           },
           {
            "bin_start": 71.4,
            "bin_end": 77.6,
            "count": 0
           },
           {
            "bin_start": 77.6,
            "bin_end": 83.80000000000001,
            "count": 0
           },
           {
            "bin_start": 83.80000000000001,
            "bin_end": 90,
            "count": 8
           }
          ]
         }
        },
        {
         "name": "shots",
         "dtype": "int64",
         "stats": {
          "unique_count": 4,
          "nan_count": 0,
          "min": "0",
          "max": "3",
          "histogram": [
           {
            "bin_start": 0,
            "bin_end": 0.3,
            "count": 7
           },
           {
            "bin_start": 0.3,
            "bin_end": 0.6,
            "count": 0
           },
           {
            "bin_start": 0.6,
            "bin_end": 0.8999999999999999,
            "count": 0
           },
           {
            "bin_start": 0.8999999999999999,
            "bin_end": 1.2,
            "count": 1
           },
           {
            "bin_start": 1.2,
            "bin_end": 1.5,
            "count": 0
           },
           {
            "bin_start": 1.5,
            "bin_end": 1.7999999999999998,
            "count": 0
           },
           {
            "bin_start": 1.7999999999999998,
            "bin_end": 2.1,
            "count": 1
           },
           {
            "bin_start": 2.1,
            "bin_end": 2.4,
            "count": 0
           },
           {
            "bin_start": 2.4,
            "bin_end": 2.6999999999999997,
            "count": 0
           },
           {
            "bin_start": 2.6999999999999997,
            "bin_end": 3,
            "count": 1
           }
          ]
         }
        },
        {
         "name": "player_id",
         "dtype": "int64",
         "stats": {
          "unique_count": 8,
          "nan_count": 0,
          "min": "545",
          "max": "967",
          "histogram": [
           {
            "bin_start": 545,
            "bin_end": 587.2,
            "count": 1
           },
           {
            "bin_start": 587.2,
            "bin_end": 629.4,
            "count": 2
           },
           {
            "bin_start": 629.4,
            "bin_end": 671.6,
            "count": 1
           },
           {
            "bin_start": 671.6,
            "bin_end": 713.8,
            "count": 4
           },
           {
            "bin_start": 713.8,
            "bin_end": 756,
            "count": 1
           },
           {
            "bin_start": 756,
            "bin_end": 798.2,
            "count": 0
           },
           {
            "bin_start": 798.2,
            "bin_end": 840.4000000000001,
            "count": 0
           },
           {
            "bin_start": 840.4000000000001,
            "bin_end": 882.6,
            "count": 0
           },
           {
            "bin_start": 882.6,
            "bin_end": 924.8,
            "count": 0
           },
           {
            "bin_start": 924.8,
            "bin_end": 967,
            "count": 1
           }
          ]
         }
        },
        {
         "name": "xGChain",
         "dtype": "float64",
         "stats": {
          "unique_count": 8,
          "nan_count": 0,
          "min": "0.0",
          "max": "0.694835901260376",
          "histogram": [
           {
            "bin_start": 0,
            "bin_end": 0.0694835901260376,
            "count": 3
           },
           {
            "bin_start": 0.0694835901260376,
            "bin_end": 0.1389671802520752,
            "count": 0
           },
           {
            "bin_start": 0.1389671802520752,
            "bin_end": 0.20845077037811277,
            "count": 1
           },
           {
            "bin_start": 0.20845077037811277,
            "bin_end": 0.2779343605041504,
            "count": 2
           },
           {
            "bin_start": 0.2779343605041504,
            "bin_end": 0.347417950630188,
            "count": 0
           },
           {
            "bin_start": 0.347417950630188,
            "bin_end": 0.41690154075622554,
            "count": 0
           },
           {
            "bin_start": 0.41690154075622554,
            "bin_end": 0.48638513088226315,
            "count": 0
           },
           {
            "bin_start": 0.48638513088226315,
            "bin_end": 0.5558687210083008,
            "count": 1
           },
           {
            "bin_start": 0.5558687210083008,
            "bin_end": 0.6253523111343383,
            "count": 0
           },
           {
            "bin_start": 0.6253523111343383,
            "bin_end": 0.694835901260376,
            "count": 3
           }
          ]
         }
        },
        {
         "name": "xGBuildup",
         "dtype": "float64",
         "stats": {
          "unique_count": 9,
          "nan_count": 0,
          "min": "0.0",
          "max": "0.694835901260376",
          "histogram": [
           {
            "bin_start": 0,
            "bin_end": 0.0694835901260376,
            "count": 3
           },
           {
            "bin_start": 0.0694835901260376,
            "bin_end": 0.1389671802520752,
            "count": 1
           },
           {
            "bin_start": 0.1389671802520752,
            "bin_end": 0.20845077037811277,
            "count": 1
           },
           {
            "bin_start": 0.20845077037811277,
            "bin_end": 0.2779343605041504,
            "count": 2
           },
           {
            "bin_start": 0.2779343605041504,
            "bin_end": 0.347417950630188,
            "count": 0
           },
           {
            "bin_start": 0.347417950630188,
            "bin_end": 0.41690154075622554,
            "count": 0
           },
           {
            "bin_start": 0.41690154075622554,
            "bin_end": 0.48638513088226315,
            "count": 0
           },
           {
            "bin_start": 0.48638513088226315,
            "bin_end": 0.5558687210083008,
            "count": 0
           },
           {
            "bin_start": 0.5558687210083008,
            "bin_end": 0.6253523111343383,
            "count": 0
           },
           {
            "bin_start": 0.6253523111343383,
            "bin_end": 0.694835901260376,
            "count": 3
           }
          ]
         }
        },
        {
         "name": "_deepnote_index_column",
         "dtype": "int64"
        }
       ],
       "rows": [
        {
         "league": "EPL",
         "season": 2014,
         "player": "Kyle Naughton",
         "team_id": 82,
         "position": "DR",
         "goals": 0,
         "assists": 0,
         "key_passes": 0,
         "xG": 0,
         "xA": 0,
         "time": 28,
         "shots": 0,
         "player_id": 718,
         "xGChain": 0,
         "xGBuildup": 0,
         "_deepnote_index_column": 0
        },
        {
         "league": "EPL",
         "season": 2014,
         "player": "Danny Rose",
         "team_id": 82,
         "position": "DL",
         "goals": 0,
         "assists": 0,
         "key_passes": 0,
         "xG": 0,
         "xA": 0,
         "time": 90,
         "shots": 0,
         "player_id": 641,
         "xGChain": 0.633840024471283,
         "xGBuildup": 0.633840024471283,
         "_deepnote_index_column": 1
        },
        {
         "league": "EPL",
         "season": 2014,
         "player": "Mathieu Debuchy",
         "team_id": 83,
         "position": "DR",
         "goals": 0,
         "assists": 0,
         "key_passes": 0,
         "xG": 0.4914089143276214,
         "xA": 0,
         "time": 90,
         "shots": 1,
         "player_id": 967,
         "xGChain": 0.0473348312079906,
         "xGBuildup": 0.0473348312079906,
         "_deepnote_index_column": 2
        },
        {
         "league": "EPL",
         "season": 2014,
         "player": "Kieran Gibbs",
         "team_id": 83,
         "position": "DL",
         "goals": 0,
         "assists": 0,
         "key_passes": 0,
         "xG": 0,
         "xA": 0,
         "time": 55,
         "shots": 0,
         "player_id": 545,
         "xGChain": 0,
         "xGBuildup": 0,
         "_deepnote_index_column": 3
        },
        {
         "league": "EPL",
         "season": 2014,
         "player": "Gaël Clichy",
         "team_id": 88,
         "position": "DR",
         "goals": 0,
         "assists": 0,
         "key_passes": 0,
         "xG": 0,
         "xA": 0,
         "time": 90,
         "shots": 0,
         "player_id": 613,
         "xGChain": 0.1393173187971115,
         "xGBuildup": 0.1393173187971115,
         "_deepnote_index_column": 4
        },
        {
         "league": "EPL",
         "season": 2014,
         "player": "Aleksandar Kolarov",
         "team_id": 88,
         "position": "DL",
         "goals": 0,
         "assists": 0,
         "key_passes": 1,
         "xG": 0,
         "xA": 0.0229819398373365,
         "time": 90,
         "shots": 0,
         "player_id": 621,
         "xGChain": 0.2439465075731277,
         "xGBuildup": 0.2439465075731277,
         "_deepnote_index_column": 5
        },
        {
         "league": "EPL",
         "season": 2014,
         "player": "Branislav Ivanovic",
         "team_id": 80,
         "position": "DR",
         "goals": 1,
         "assists": 0,
         "key_passes": 1,
         "xG": 0.6645569205284119,
         "xA": 0.045406624674797,
         "time": 90,
         "shots": 2,
         "player_id": 682,
         "xGChain": 0.694835901260376,
         "xGBuildup": 0.6494292616844177,
         "_deepnote_index_column": 6
        },
        {
         "league": "EPL",
         "season": 2014,
         "player": "César Azpilicueta",
         "team_id": 80,
         "position": "DL",
         "goals": 0,
         "assists": 0,
         "key_passes": 0,
         "xG": 0,
         "xA": 0,
         "time": 90,
         "shots": 0,
         "player_id": 681,
         "xGChain": 0.694835901260376,
         "xGBuildup": 0.694835901260376,
         "_deepnote_index_column": 7
        },
        {
         "league": "EPL",
         "season": 2014,
         "player": "Branislav Ivanovic",
         "team_id": 80,
         "position": "DR",
         "goals": 0,
         "assists": 0,
         "key_passes": 2,
         "xG": 0.0873320028185844,
         "xA": 0.3638066053390503,
         "time": 90,
         "shots": 3,
         "player_id": 682,
         "xGChain": 0.5422351360321045,
         "xGBuildup": 0.1273859143257141,
         "_deepnote_index_column": 8
        },
        {
         "league": "EPL",
         "season": 2014,
         "player": "César Azpilicueta",
         "team_id": 80,
         "position": "DL",
         "goals": 0,
         "assists": 0,
         "key_passes": 1,
         "xG": 0,
         "xA": 0.0348095446825027,
         "time": 90,
         "shots": 0,
         "player_id": 681,
         "xGChain": 0.2485952526330948,
         "xGBuildup": 0.2485952526330948,
         "_deepnote_index_column": 9
        }
       ]
      },
      "text/plain": "  league  season              player  team_id position  goals  assists  \\\n0    EPL    2014       Kyle Naughton       82       DR      0        0   \n1    EPL    2014          Danny Rose       82       DL      0        0   \n2    EPL    2014     Mathieu Debuchy       83       DR      0        0   \n3    EPL    2014        Kieran Gibbs       83       DL      0        0   \n4    EPL    2014         Gaël Clichy       88       DR      0        0   \n5    EPL    2014  Aleksandar Kolarov       88       DL      0        0   \n6    EPL    2014  Branislav Ivanovic       80       DR      1        0   \n7    EPL    2014   César Azpilicueta       80       DL      0        0   \n8    EPL    2014  Branislav Ivanovic       80       DR      0        0   \n9    EPL    2014   César Azpilicueta       80       DL      0        0   \n\n   key_passes        xG        xA  time  shots  player_id   xGChain  xGBuildup  \n0           0  0.000000  0.000000    28      0        718  0.000000   0.000000  \n1           0  0.000000  0.000000    90      0        641  0.633840   0.633840  \n2           0  0.491409  0.000000    90      1        967  0.047335   0.047335  \n3           0  0.000000  0.000000    55      0        545  0.000000   0.000000  \n4           0  0.000000  0.000000    90      0        613  0.139317   0.139317  \n5           1  0.000000  0.022982    90      0        621  0.243947   0.243947  \n6           1  0.664557  0.045407    90      2        682  0.694836   0.649429  \n7           0  0.000000  0.000000    90      0        681  0.694836   0.694836  \n8           2  0.087332  0.363807    90      3        682  0.542235   0.127386  \n9           1  0.000000  0.034810    90      0        681  0.248595   0.248595  ",
      "text/html": "<div>\n<style scoped>\n    .dataframe tbody tr th:only-of-type {\n        vertical-align: middle;\n    }\n\n    .dataframe tbody tr th {\n        vertical-align: top;\n    }\n\n    .dataframe thead th {\n        text-align: right;\n    }\n</style>\n<table border=\"1\" class=\"dataframe\">\n  <thead>\n    <tr style=\"text-align: right;\">\n      <th></th>\n      <th>league</th>\n      <th>season</th>\n      <th>player</th>\n      <th>team_id</th>\n      <th>position</th>\n      <th>goals</th>\n      <th>assists</th>\n      <th>key_passes</th>\n      <th>xG</th>\n      <th>xA</th>\n      <th>time</th>\n      <th>shots</th>\n      <th>player_id</th>\n      <th>xGChain</th>\n      <th>xGBuildup</th>\n    </tr>\n  </thead>\n  <tbody>\n    <tr>\n      <th>0</th>\n      <td>EPL</td>\n      <td>2014</td>\n      <td>Kyle Naughton</td>\n      <td>82</td>\n      <td>DR</td>\n      <td>0</td>\n      <td>0</td>\n      <td>0</td>\n      <td>0.000000</td>\n      <td>0.000000</td>\n      <td>28</td>\n      <td>0</td>\n      <td>718</td>\n      <td>0.000000</td>\n      <td>0.000000</td>\n    </tr>\n    <tr>\n      <th>1</th>\n      <td>EPL</td>\n      <td>2014</td>\n      <td>Danny Rose</td>\n      <td>82</td>\n      <td>DL</td>\n      <td>0</td>\n      <td>0</td>\n      <td>0</td>\n      <td>0.000000</td>\n      <td>0.000000</td>\n      <td>90</td>\n      <td>0</td>\n      <td>641</td>\n      <td>0.633840</td>\n      <td>0.633840</td>\n    </tr>\n    <tr>\n      <th>2</th>\n      <td>EPL</td>\n      <td>2014</td>\n      <td>Mathieu Debuchy</td>\n      <td>83</td>\n      <td>DR</td>\n      <td>0</td>\n      <td>0</td>\n      <td>0</td>\n      <td>0.491409</td>\n      <td>0.000000</td>\n      <td>90</td>\n      <td>1</td>\n      <td>967</td>\n      <td>0.047335</td>\n      <td>0.047335</td>\n    </tr>\n    <tr>\n      <th>3</th>\n      <td>EPL</td>\n      <td>2014</td>\n      <td>Kieran Gibbs</td>\n      <td>83</td>\n      <td>DL</td>\n      <td>0</td>\n      <td>0</td>\n      <td>0</td>\n      <td>0.000000</td>\n      <td>0.000000</td>\n      <td>55</td>\n      <td>0</td>\n      <td>545</td>\n      <td>0.000000</td>\n      <td>0.000000</td>\n    </tr>\n    <tr>\n      <th>4</th>\n      <td>EPL</td>\n      <td>2014</td>\n      <td>Gaël Clichy</td>\n      <td>88</td>\n      <td>DR</td>\n      <td>0</td>\n      <td>0</td>\n      <td>0</td>\n      <td>0.000000</td>\n      <td>0.000000</td>\n      <td>90</td>\n      <td>0</td>\n      <td>613</td>\n      <td>0.139317</td>\n      <td>0.139317</td>\n    </tr>\n    <tr>\n      <th>5</th>\n      <td>EPL</td>\n      <td>2014</td>\n      <td>Aleksandar Kolarov</td>\n      <td>88</td>\n      <td>DL</td>\n      <td>0</td>\n      <td>0</td>\n      <td>1</td>\n      <td>0.000000</td>\n      <td>0.022982</td>\n      <td>90</td>\n      <td>0</td>\n      <td>621</td>\n      <td>0.243947</td>\n      <td>0.243947</td>\n    </tr>\n    <tr>\n      <th>6</th>\n      <td>EPL</td>\n      <td>2014</td>\n      <td>Branislav Ivanovic</td>\n      <td>80</td>\n      <td>DR</td>\n      <td>1</td>\n      <td>0</td>\n      <td>1</td>\n      <td>0.664557</td>\n      <td>0.045407</td>\n      <td>90</td>\n      <td>2</td>\n      <td>682</td>\n      <td>0.694836</td>\n      <td>0.649429</td>\n    </tr>\n    <tr>\n      <th>7</th>\n      <td>EPL</td>\n      <td>2014</td>\n      <td>César Azpilicueta</td>\n      <td>80</td>\n      <td>DL</td>\n      <td>0</td>\n      <td>0</td>\n      <td>0</td>\n      <td>0.000000</td>\n      <td>0.000000</td>\n      <td>90</td>\n      <td>0</td>\n      <td>681</td>\n      <td>0.694836</td>\n      <td>0.694836</td>\n    </tr>\n    <tr>\n      <th>8</th>\n      <td>EPL</td>\n      <td>2014</td>\n      <td>Branislav Ivanovic</td>\n      <td>80</td>\n      <td>DR</td>\n      <td>0</td>\n      <td>0</td>\n      <td>2</td>\n      <td>0.087332</td>\n      <td>0.363807</td>\n      <td>90</td>\n      <td>3</td>\n      <td>682</td>\n      <td>0.542235</td>\n      <td>0.127386</td>\n    </tr>\n    <tr>\n      <th>9</th>\n      <td>EPL</td>\n      <td>2014</td>\n      <td>César Azpilicueta</td>\n      <td>80</td>\n      <td>DL</td>\n      <td>0</td>\n      <td>0</td>\n      <td>1</td>\n      <td>0.000000</td>\n      <td>0.034810</td>\n      <td>90</td>\n      <td>0</td>\n      <td>681</td>\n      <td>0.248595</td>\n      <td>0.248595</td>\n    </tr>\n  </tbody>\n</table>\n</div>"
     },
     "metadata": {}
    }
   ]
  },
  {
   "cell_type": "markdown",
   "source": "# III. Some visualizations and analysis\n***\n",
   "metadata": {
    "cell_id": "00023-b31ee861-5aed-4b6d-8da2-ba0ffdd7221b",
    "deepnote_app_coordinates": {
     "x": 0,
     "y": 48,
     "w": 12,
     "h": 5
    },
    "deepnote_cell_type": "markdown",
    "deepnote_cell_height": 99
   }
  },
  {
   "cell_type": "markdown",
   "source": "The leagues considered are top 5 leagues in Europe and seasons are from 2014/2015 to 2021/2022",
   "metadata": {
    "cell_id": "00025-bcf0e6ad-d992-4027-9dc3-4e6ac57768ec",
    "deepnote_app_coordinates": {
     "x": 0,
     "y": 54,
     "w": 12,
     "h": 5
    },
    "deepnote_cell_type": "markdown",
    "deepnote_cell_height": 52.390625
   }
  },
  {
   "cell_type": "code",
   "metadata": {
    "cell_id": "4980d00f-afec-4fc5-b579-8a5ea1dd6ae5",
    "tags": [],
    "deepnote_to_be_reexecuted": false,
    "source_hash": "8eda0e1f",
    "execution_start": 1654031065381,
    "execution_millis": 1,
    "deepnote_app_coordinates": {
     "x": 0,
     "y": 60,
     "w": 12,
     "h": 5
    },
    "deepnote_cell_type": "code",
    "deepnote_cell_height": 99
   },
   "source": "leagues=['EPL','La_liga','Bundesliga','Serie_A','Ligue_1']  \nseasons=[2014, 2015, 2016, 2017, 2018, 2019, 2020, 2021]",
   "execution_count": 4,
   "outputs": []
  },
  {
   "cell_type": "markdown",
   "source": "For each league and each season, we take the sum of stats of all wingbacks",
   "metadata": {
    "cell_id": "0596aae3-9f76-4b07-ac85-294b068271b0",
    "tags": [],
    "deepnote_app_coordinates": {
     "x": 0,
     "y": 66,
     "w": 12,
     "h": 5
    },
    "deepnote_cell_type": "markdown",
    "deepnote_cell_height": 52.390625
   }
  },
  {
   "cell_type": "code",
   "metadata": {
    "cell_id": "1e11554d-7871-4813-8d85-4e3f1f547f8d",
    "tags": [],
    "deepnote_to_be_reexecuted": false,
    "source_hash": "4aa39b52",
    "execution_start": 1654031065386,
    "execution_millis": 171,
    "deepnote_table_state": {
     "pageSize": 10,
     "pageIndex": 0,
     "filters": [],
     "sortBy": []
    },
    "deepnote_table_loading": false,
    "deepnote_app_coordinates": {
     "x": 0,
     "y": 72,
     "w": 12,
     "h": 5
    },
    "deepnote_cell_type": "code",
    "deepnote_cell_height": 706.796875
   },
   "source": "# Data is grouped by `league` and `season`, then taking the sum of stats \nsum_df = data.groupby(['league','season']).sum().reset_index()\nsum_df.drop(['player_id','team_id'],axis = 1, inplace = True)\n\n# Round the decimal to 2 digits\nsum_df.round(2)",
   "execution_count": 5,
   "outputs": [
    {
     "output_type": "execute_result",
     "execution_count": 5,
     "data": {
      "application/vnd.deepnote.dataframe.v3+json": {
       "column_count": 11,
       "row_count": 40,
       "columns": [
        {
         "name": "league",
         "dtype": "object",
         "stats": {
          "unique_count": 5,
          "nan_count": 0,
          "categories": [
           {
            "name": "Bundesliga",
            "count": 8
           },
           {
            "name": "EPL",
            "count": 8
           },
           {
            "name": "3 others",
            "count": 24
           }
          ]
         }
        },
        {
         "name": "season",
         "dtype": "int64",
         "stats": {
          "unique_count": 8,
          "nan_count": 0,
          "min": "2014",
          "max": "2021",
          "histogram": [
           {
            "bin_start": 2014,
            "bin_end": 2014.7,
            "count": 5
           },
           {
            "bin_start": 2014.7,
            "bin_end": 2015.4,
            "count": 5
           },
           {
            "bin_start": 2015.4,
            "bin_end": 2016.1,
            "count": 5
           },
           {
            "bin_start": 2016.1,
            "bin_end": 2016.8,
            "count": 0
           },
           {
            "bin_start": 2016.8,
            "bin_end": 2017.5,
            "count": 5
           },
           {
            "bin_start": 2017.5,
            "bin_end": 2018.2,
            "count": 5
           },
           {
            "bin_start": 2018.2,
            "bin_end": 2018.9,
            "count": 0
           },
           {
            "bin_start": 2018.9,
            "bin_end": 2019.6,
            "count": 5
           },
           {
            "bin_start": 2019.6,
            "bin_end": 2020.3,
            "count": 5
           },
           {
            "bin_start": 2020.3,
            "bin_end": 2021,
            "count": 5
           }
          ]
         }
        },
        {
         "name": "goals",
         "dtype": "int64",
         "stats": {
          "unique_count": 17,
          "nan_count": 0,
          "min": "8",
          "max": "35",
          "histogram": [
           {
            "bin_start": 8,
            "bin_end": 10.7,
            "count": 13
           },
           {
            "bin_start": 10.7,
            "bin_end": 13.4,
            "count": 3
           },
           {
            "bin_start": 13.4,
            "bin_end": 16.1,
            "count": 9
           },
           {
            "bin_start": 16.1,
            "bin_end": 18.8,
            "count": 2
           },
           {
            "bin_start": 18.8,
            "bin_end": 21.5,
            "count": 8
           },
           {
            "bin_start": 21.5,
            "bin_end": 24.200000000000003,
            "count": 2
           },
           {
            "bin_start": 24.200000000000003,
            "bin_end": 26.900000000000002,
            "count": 0
           },
           {
            "bin_start": 26.900000000000002,
            "bin_end": 29.6,
            "count": 1
           },
           {
            "bin_start": 29.6,
            "bin_end": 32.3,
            "count": 0
           },
           {
            "bin_start": 32.3,
            "bin_end": 35,
            "count": 2
           }
          ]
         }
        },
        {
         "name": "assists",
         "dtype": "int64",
         "stats": {
          "unique_count": 25,
          "nan_count": 0,
          "min": "15",
          "max": "69",
          "histogram": [
           {
            "bin_start": 15,
            "bin_end": 20.4,
            "count": 2
           },
           {
            "bin_start": 20.4,
            "bin_end": 25.8,
            "count": 6
           },
           {
            "bin_start": 25.8,
            "bin_end": 31.200000000000003,
            "count": 4
           },
           {
            "bin_start": 31.200000000000003,
            "bin_end": 36.6,
            "count": 8
           },
           {
            "bin_start": 36.6,
            "bin_end": 42,
            "count": 7
           },
           {
            "bin_start": 42,
            "bin_end": 47.400000000000006,
            "count": 7
           },
           {
            "bin_start": 47.400000000000006,
            "bin_end": 52.800000000000004,
            "count": 4
           },
           {
            "bin_start": 52.800000000000004,
            "bin_end": 58.2,
            "count": 1
           },
           {
            "bin_start": 58.2,
            "bin_end": 63.6,
            "count": 0
           },
           {
            "bin_start": 63.6,
            "bin_end": 69,
            "count": 1
           }
          ]
         }
        },
        {
         "name": "key_passes",
         "dtype": "int64",
         "stats": {
          "unique_count": 36,
          "nan_count": 0,
          "min": "126",
          "max": "468",
          "histogram": [
           {
            "bin_start": 126,
            "bin_end": 160.2,
            "count": 1
           },
           {
            "bin_start": 160.2,
            "bin_end": 194.4,
            "count": 2
           },
           {
            "bin_start": 194.4,
            "bin_end": 228.60000000000002,
            "count": 2
           },
           {
            "bin_start": 228.60000000000002,
            "bin_end": 262.8,
            "count": 3
           },
           {
            "bin_start": 262.8,
            "bin_end": 297,
            "count": 5
           },
           {
            "bin_start": 297,
            "bin_end": 331.20000000000005,
            "count": 13
           },
           {
            "bin_start": 331.20000000000005,
            "bin_end": 365.40000000000003,
            "count": 8
           },
           {
            "bin_start": 365.40000000000003,
            "bin_end": 399.6,
            "count": 2
           },
           {
            "bin_start": 399.6,
            "bin_end": 433.8,
            "count": 2
           },
           {
            "bin_start": 433.8,
            "bin_end": 468,
            "count": 2
           }
          ]
         }
        },
        {
         "name": "xG",
         "dtype": "float64",
         "stats": {
          "unique_count": 39,
          "nan_count": 0,
          "min": "6.22",
          "max": "33.0",
          "histogram": [
           {
            "bin_start": 6.22,
            "bin_end": 8.898,
            "count": 2
           },
           {
            "bin_start": 8.898,
            "bin_end": 11.576,
            "count": 8
           },
           {
            "bin_start": 11.576,
            "bin_end": 14.253999999999998,
            "count": 8
           },
           {
            "bin_start": 14.253999999999998,
            "bin_end": 16.932,
            "count": 7
           },
           {
            "bin_start": 16.932,
            "bin_end": 19.61,
            "count": 9
           },
           {
            "bin_start": 19.61,
            "bin_end": 22.287999999999997,
            "count": 3
           },
           {
            "bin_start": 22.287999999999997,
            "bin_end": 24.965999999999998,
            "count": 1
           },
           {
            "bin_start": 24.965999999999998,
            "bin_end": 27.644,
            "count": 0
           },
           {
            "bin_start": 27.644,
            "bin_end": 30.322,
            "count": 1
           },
           {
            "bin_start": 30.322,
            "bin_end": 33,
            "count": 1
           }
          ]
         }
        },
        {
         "name": "xA",
         "dtype": "float64",
         "stats": {
          "unique_count": 40,
          "nan_count": 0,
          "min": "16.26",
          "max": "55.3",
          "histogram": [
           {
            "bin_start": 16.26,
            "bin_end": 20.164,
            "count": 2
           },
           {
            "bin_start": 20.164,
            "bin_end": 24.067999999999998,
            "count": 4
           },
           {
            "bin_start": 24.067999999999998,
            "bin_end": 27.971999999999998,
            "count": 2
           },
           {
            "bin_start": 27.971999999999998,
            "bin_end": 31.875999999999998,
            "count": 5
           },
           {
            "bin_start": 31.875999999999998,
            "bin_end": 35.78,
            "count": 5
           },
           {
            "bin_start": 35.78,
            "bin_end": 39.684,
            "count": 6
           },
           {
            "bin_start": 39.684,
            "bin_end": 43.587999999999994,
            "count": 7
           },
           {
            "bin_start": 43.587999999999994,
            "bin_end": 47.49199999999999,
            "count": 7
           },
           {
            "bin_start": 47.49199999999999,
            "bin_end": 51.39599999999999,
            "count": 1
           },
           {
            "bin_start": 51.39599999999999,
            "bin_end": 55.3,
            "count": 1
           }
          ]
         }
        },
        {
         "name": "time",
         "dtype": "int64",
         "stats": {
          "unique_count": 40,
          "nan_count": 0,
          "min": "14127",
          "max": "33007",
          "histogram": [
           {
            "bin_start": 14127,
            "bin_end": 16015,
            "count": 3
           },
           {
            "bin_start": 16015,
            "bin_end": 17903,
            "count": 2
           },
           {
            "bin_start": 17903,
            "bin_end": 19791,
            "count": 0
           },
           {
            "bin_start": 19791,
            "bin_end": 21679,
            "count": 2
           },
           {
            "bin_start": 21679,
            "bin_end": 23567,
            "count": 1
           },
           {
            "bin_start": 23567,
            "bin_end": 25455,
            "count": 5
           },
           {
            "bin_start": 25455,
            "bin_end": 27343,
            "count": 1
           },
           {
            "bin_start": 27343,
            "bin_end": 29231,
            "count": 6
           },
           {
            "bin_start": 29231,
            "bin_end": 31119,
            "count": 6
           },
           {
            "bin_start": 31119,
            "bin_end": 33007,
            "count": 14
           }
          ]
         }
        },
        {
         "name": "shots",
         "dtype": "int64",
         "stats": {
          "unique_count": 33,
          "nan_count": 0,
          "min": "87",
          "max": "298",
          "histogram": [
           {
            "bin_start": 87,
            "bin_end": 108.1,
            "count": 2
           },
           {
            "bin_start": 108.1,
            "bin_end": 129.2,
            "count": 1
           },
           {
            "bin_start": 129.2,
            "bin_end": 150.3,
            "count": 2
           },
           {
            "bin_start": 150.3,
            "bin_end": 171.4,
            "count": 4
           },
           {
            "bin_start": 171.4,
            "bin_end": 192.5,
            "count": 8
           },
           {
            "bin_start": 192.5,
            "bin_end": 213.60000000000002,
            "count": 8
           },
           {
            "bin_start": 213.60000000000002,
            "bin_end": 234.70000000000002,
            "count": 5
           },
           {
            "bin_start": 234.70000000000002,
            "bin_end": 255.8,
            "count": 4
           },
           {
            "bin_start": 255.8,
            "bin_end": 276.9,
            "count": 3
           },
           {
            "bin_start": 276.9,
            "bin_end": 298,
            "count": 3
           }
          ]
         }
        },
        {
         "name": "xGChain",
         "dtype": "float64",
         "stats": {
          "unique_count": 39,
          "nan_count": 0,
          "min": "66.68",
          "max": "185.26",
          "histogram": [
           {
            "bin_start": 66.68,
            "bin_end": 78.53800000000001,
            "count": 3
           },
           {
            "bin_start": 78.53800000000001,
            "bin_end": 90.396,
            "count": 1
           },
           {
            "bin_start": 90.396,
            "bin_end": 102.254,
            "count": 4
           },
           {
            "bin_start": 102.254,
            "bin_end": 114.112,
            "count": 1
           },
           {
            "bin_start": 114.112,
            "bin_end": 125.97,
            "count": 7
           },
           {
            "bin_start": 125.97,
            "bin_end": 137.828,
            "count": 4
           },
           {
            "bin_start": 137.828,
            "bin_end": 149.68599999999998,
            "count": 7
           },
           {
            "bin_start": 149.68599999999998,
            "bin_end": 161.54399999999998,
            "count": 8
           },
           {
            "bin_start": 161.54399999999998,
            "bin_end": 173.402,
            "count": 2
           },
           {
            "bin_start": 173.402,
            "bin_end": 185.26,
            "count": 3
           }
          ]
         }
        },
        {
         "name": "xGBuildup",
         "dtype": "float64",
         "stats": {
          "unique_count": 40,
          "nan_count": 0,
          "min": "49.52",
          "max": "148.16",
          "histogram": [
           {
            "bin_start": 49.52,
            "bin_end": 59.384,
            "count": 4
           },
           {
            "bin_start": 59.384,
            "bin_end": 69.248,
            "count": 0
           },
           {
            "bin_start": 69.248,
            "bin_end": 79.112,
            "count": 2
           },
           {
            "bin_start": 79.112,
            "bin_end": 88.976,
            "count": 4
           },
           {
            "bin_start": 88.976,
            "bin_end": 98.84,
            "count": 6
           },
           {
            "bin_start": 98.84,
            "bin_end": 108.70400000000001,
            "count": 4
           },
           {
            "bin_start": 108.70400000000001,
            "bin_end": 118.56799999999998,
            "count": 8
           },
           {
            "bin_start": 118.56799999999998,
            "bin_end": 128.432,
            "count": 7
           },
           {
            "bin_start": 128.432,
            "bin_end": 138.296,
            "count": 3
           },
           {
            "bin_start": 138.296,
            "bin_end": 148.16,
            "count": 2
           }
          ]
         }
        },
        {
         "name": "_deepnote_index_column",
         "dtype": "int64"
        }
       ],
       "rows": [
        {
         "league": "Bundesliga",
         "season": 2014,
         "goals": 19,
         "assists": 27,
         "key_passes": 304,
         "xG": 17.38,
         "xA": 29.57,
         "time": 28027,
         "shots": 199,
         "xGChain": 101.49,
         "xGBuildup": 78.27,
         "_deepnote_index_column": 0
        },
        {
         "league": "Bundesliga",
         "season": 2015,
         "goals": 11,
         "assists": 23,
         "key_passes": 280,
         "xG": 11.86,
         "xA": 27.68,
         "time": 24675,
         "shots": 173,
         "xGChain": 121.39,
         "xGBuildup": 97.04,
         "_deepnote_index_column": 1
        },
        {
         "league": "Bundesliga",
         "season": 2016,
         "goals": 16,
         "assists": 23,
         "key_passes": 253,
         "xG": 12.52,
         "xA": 27.87,
         "time": 21018,
         "shots": 173,
         "xGChain": 99.51,
         "xGBuildup": 78.57,
         "_deepnote_index_column": 2
        },
        {
         "league": "Bundesliga",
         "season": 2017,
         "goals": 11,
         "assists": 36,
         "key_passes": 285,
         "xG": 12.11,
         "xA": 30.6,
         "time": 21091,
         "shots": 188,
         "xGChain": 116.25,
         "xGBuildup": 94.87,
         "_deepnote_index_column": 3
        },
        {
         "league": "Bundesliga",
         "season": 2018,
         "goals": 22,
         "assists": 43,
         "key_passes": 322,
         "xG": 19.7,
         "xA": 46.11,
         "time": 27738,
         "shots": 215,
         "xGChain": 154.31,
         "xGBuildup": 119.19,
         "_deepnote_index_column": 4
        },
        {
         "league": "Bundesliga",
         "season": 2019,
         "goals": 33,
         "assists": 36,
         "key_passes": 323,
         "xG": 28.77,
         "xA": 41.97,
         "time": 27164,
         "shots": 242,
         "xGChain": 174.07,
         "xGBuildup": 135.86,
         "_deepnote_index_column": 5
        },
        {
         "league": "Bundesliga",
         "season": 2020,
         "goals": 19,
         "assists": 44,
         "key_passes": 318,
         "xG": 18.94,
         "xA": 40.15,
         "time": 24398,
         "shots": 236,
         "xGChain": 137.98,
         "xGBuildup": 101.81,
         "_deepnote_index_column": 6
        },
        {
         "league": "Bundesliga",
         "season": 2021,
         "goals": 9,
         "assists": 26,
         "key_passes": 199,
         "xG": 10.98,
         "xA": 23.16,
         "time": 14127,
         "shots": 127,
         "xGChain": 69.42,
         "xGBuildup": 49.52,
         "_deepnote_index_column": 7
        },
        {
         "league": "EPL",
         "season": 2014,
         "goals": 15,
         "assists": 32,
         "key_passes": 294,
         "xG": 15.4,
         "xA": 30.34,
         "time": 31080,
         "shots": 199,
         "xGChain": 135.51,
         "xGBuildup": 112.38,
         "_deepnote_index_column": 8
        },
        {
         "league": "EPL",
         "season": 2015,
         "goals": 8,
         "assists": 35,
         "key_passes": 311,
         "xG": 10,
         "xA": 34.94,
         "time": 32755,
         "shots": 188,
         "xGChain": 125.45,
         "xGBuildup": 101.4,
         "_deepnote_index_column": 9
        }
       ]
      },
      "text/plain": "        league  season  goals  assists  key_passes     xG     xA   time  \\\n0   Bundesliga    2014     19       27         304  17.38  29.57  28027   \n1   Bundesliga    2015     11       23         280  11.86  27.68  24675   \n2   Bundesliga    2016     16       23         253  12.52  27.87  21018   \n3   Bundesliga    2017     11       36         285  12.11  30.60  21091   \n4   Bundesliga    2018     22       43         322  19.70  46.11  27738   \n5   Bundesliga    2019     33       36         323  28.77  41.97  27164   \n6   Bundesliga    2020     19       44         318  18.94  40.15  24398   \n7   Bundesliga    2021      9       26         199  10.98  23.16  14127   \n8          EPL    2014     15       32         294  15.40  30.34  31080   \n9          EPL    2015      8       35         311  10.00  34.94  32755   \n10         EPL    2016     13       19         258  16.25  21.74  23421   \n11         EPL    2017     24       44         380  17.90  41.59  31897   \n12         EPL    2018      9       69         372  14.18  51.16  31463   \n13         EPL    2019     20       50         468  19.39  55.30  32061   \n14         EPL    2020     21       43         459  18.00  45.22  30615   \n15         EPL    2021     16       37         258  13.19  31.88  17533   \n16     La_liga    2014      8       45         328  14.09  39.17  32604   \n17     La_liga    2015     10       41         297   9.69  34.09  33007   \n18     La_liga    2016     15       49         345  16.05  43.26  30841   \n19     La_liga    2017      9       42         342  10.69  44.27  32936   \n20     La_liga    2018     14       36         332  17.60  43.64  30695   \n21     La_liga    2019     14       41         403  15.29  46.38  32199   \n22     La_liga    2020     10       40         363  12.84  42.56  28417   \n23     La_liga    2021      9       22         189   6.22  19.40  15064   \n24     Ligue_1    2014     14       34         297  14.59  36.15  31459   \n25     Ligue_1    2015     27       39         292  24.57  36.90  31372   \n26     Ligue_1    2016     10       52         321  17.25  46.25  32202   \n27     Ligue_1    2017     15       54         321  10.29  40.38  32836   \n28     Ligue_1    2018     17       39         315  15.41  38.23  29556   \n29     Ligue_1    2019      9       22         188   9.90  20.50  23777   \n30     Ligue_1    2020     15       31         310  10.29  36.19  30413   \n31     Ligue_1    2021      8       15         126   6.50  16.26  14779   \n32     Serie_A    2014     17       38         357  17.64  35.43  32228   \n33     Serie_A    2015     19       23         325  15.01  31.83  28549   \n34     Serie_A    2016     10       27         290  10.17  29.26  23749   \n35     Serie_A    2017     20       45         414  21.54  39.86  32672   \n36     Serie_A    2018     10       34         342  12.91  34.45  27356   \n37     Serie_A    2019     21       36         364  19.49  35.88  24488   \n38     Serie_A    2020     35       49         359  33.00  46.69  28353   \n39     Serie_A    2021     19       23         211  19.77  22.77  16490   \n\n    shots  xGChain  xGBuildup  \n0     199   101.49      78.27  \n1     173   121.39      97.04  \n2     173    99.51      78.57  \n3     188   116.25      94.87  \n4     215   154.31     119.19  \n5     242   174.07     135.86  \n6     236   137.98     101.81  \n7     127    69.42      49.52  \n8     199   135.51     112.38  \n9     188   125.45     101.40  \n10    173   101.49      83.94  \n11    298   168.59     133.53  \n12    243   173.56     140.68  \n13    275   185.26     148.16  \n14    263   158.69     126.14  \n15    204   105.45      81.58  \n16    183   158.99     127.30  \n17    153   154.47     127.22  \n18    208   157.40     123.74  \n19    168   168.57     134.14  \n20    220   150.25     114.18  \n21    179   155.53     118.61  \n22    165   149.23     116.97  \n23     91    66.68      49.53  \n24    206   131.05     105.62  \n25    221   128.59      95.72  \n26    222   146.59     113.25  \n27    211   143.21     118.93  \n28    184   125.15      96.92  \n29    131    96.65      81.51  \n30    130   143.06     116.27  \n31     87    67.24      54.55  \n32    263   132.55     100.14  \n33    227   120.89      93.83  \n34    166   118.90      96.72  \n35    279   143.27     112.53  \n36    204   138.83     112.15  \n37    250   118.89      87.76  \n38    291   161.45     111.57  \n39    199    86.06      56.97  ",
      "text/html": "<div>\n<style scoped>\n    .dataframe tbody tr th:only-of-type {\n        vertical-align: middle;\n    }\n\n    .dataframe tbody tr th {\n        vertical-align: top;\n    }\n\n    .dataframe thead th {\n        text-align: right;\n    }\n</style>\n<table border=\"1\" class=\"dataframe\">\n  <thead>\n    <tr style=\"text-align: right;\">\n      <th></th>\n      <th>league</th>\n      <th>season</th>\n      <th>goals</th>\n      <th>assists</th>\n      <th>key_passes</th>\n      <th>xG</th>\n      <th>xA</th>\n      <th>time</th>\n      <th>shots</th>\n      <th>xGChain</th>\n      <th>xGBuildup</th>\n    </tr>\n  </thead>\n  <tbody>\n    <tr>\n      <th>0</th>\n      <td>Bundesliga</td>\n      <td>2014</td>\n      <td>19</td>\n      <td>27</td>\n      <td>304</td>\n      <td>17.38</td>\n      <td>29.57</td>\n      <td>28027</td>\n      <td>199</td>\n      <td>101.49</td>\n      <td>78.27</td>\n    </tr>\n    <tr>\n      <th>1</th>\n      <td>Bundesliga</td>\n      <td>2015</td>\n      <td>11</td>\n      <td>23</td>\n      <td>280</td>\n      <td>11.86</td>\n      <td>27.68</td>\n      <td>24675</td>\n      <td>173</td>\n      <td>121.39</td>\n      <td>97.04</td>\n    </tr>\n    <tr>\n      <th>2</th>\n      <td>Bundesliga</td>\n      <td>2016</td>\n      <td>16</td>\n      <td>23</td>\n      <td>253</td>\n      <td>12.52</td>\n      <td>27.87</td>\n      <td>21018</td>\n      <td>173</td>\n      <td>99.51</td>\n      <td>78.57</td>\n    </tr>\n    <tr>\n      <th>3</th>\n      <td>Bundesliga</td>\n      <td>2017</td>\n      <td>11</td>\n      <td>36</td>\n      <td>285</td>\n      <td>12.11</td>\n      <td>30.60</td>\n      <td>21091</td>\n      <td>188</td>\n      <td>116.25</td>\n      <td>94.87</td>\n    </tr>\n    <tr>\n      <th>4</th>\n      <td>Bundesliga</td>\n      <td>2018</td>\n      <td>22</td>\n      <td>43</td>\n      <td>322</td>\n      <td>19.70</td>\n      <td>46.11</td>\n      <td>27738</td>\n      <td>215</td>\n      <td>154.31</td>\n      <td>119.19</td>\n    </tr>\n    <tr>\n      <th>5</th>\n      <td>Bundesliga</td>\n      <td>2019</td>\n      <td>33</td>\n      <td>36</td>\n      <td>323</td>\n      <td>28.77</td>\n      <td>41.97</td>\n      <td>27164</td>\n      <td>242</td>\n      <td>174.07</td>\n      <td>135.86</td>\n    </tr>\n    <tr>\n      <th>6</th>\n      <td>Bundesliga</td>\n      <td>2020</td>\n      <td>19</td>\n      <td>44</td>\n      <td>318</td>\n      <td>18.94</td>\n      <td>40.15</td>\n      <td>24398</td>\n      <td>236</td>\n      <td>137.98</td>\n      <td>101.81</td>\n    </tr>\n    <tr>\n      <th>7</th>\n      <td>Bundesliga</td>\n      <td>2021</td>\n      <td>9</td>\n      <td>26</td>\n      <td>199</td>\n      <td>10.98</td>\n      <td>23.16</td>\n      <td>14127</td>\n      <td>127</td>\n      <td>69.42</td>\n      <td>49.52</td>\n    </tr>\n    <tr>\n      <th>8</th>\n      <td>EPL</td>\n      <td>2014</td>\n      <td>15</td>\n      <td>32</td>\n      <td>294</td>\n      <td>15.40</td>\n      <td>30.34</td>\n      <td>31080</td>\n      <td>199</td>\n      <td>135.51</td>\n      <td>112.38</td>\n    </tr>\n    <tr>\n      <th>9</th>\n      <td>EPL</td>\n      <td>2015</td>\n      <td>8</td>\n      <td>35</td>\n      <td>311</td>\n      <td>10.00</td>\n      <td>34.94</td>\n      <td>32755</td>\n      <td>188</td>\n      <td>125.45</td>\n      <td>101.40</td>\n    </tr>\n    <tr>\n      <th>10</th>\n      <td>EPL</td>\n      <td>2016</td>\n      <td>13</td>\n      <td>19</td>\n      <td>258</td>\n      <td>16.25</td>\n      <td>21.74</td>\n      <td>23421</td>\n      <td>173</td>\n      <td>101.49</td>\n      <td>83.94</td>\n    </tr>\n    <tr>\n      <th>11</th>\n      <td>EPL</td>\n      <td>2017</td>\n      <td>24</td>\n      <td>44</td>\n      <td>380</td>\n      <td>17.90</td>\n      <td>41.59</td>\n      <td>31897</td>\n      <td>298</td>\n      <td>168.59</td>\n      <td>133.53</td>\n    </tr>\n    <tr>\n      <th>12</th>\n      <td>EPL</td>\n      <td>2018</td>\n      <td>9</td>\n      <td>69</td>\n      <td>372</td>\n      <td>14.18</td>\n      <td>51.16</td>\n      <td>31463</td>\n      <td>243</td>\n      <td>173.56</td>\n      <td>140.68</td>\n    </tr>\n    <tr>\n      <th>13</th>\n      <td>EPL</td>\n      <td>2019</td>\n      <td>20</td>\n      <td>50</td>\n      <td>468</td>\n      <td>19.39</td>\n      <td>55.30</td>\n      <td>32061</td>\n      <td>275</td>\n      <td>185.26</td>\n      <td>148.16</td>\n    </tr>\n    <tr>\n      <th>14</th>\n      <td>EPL</td>\n      <td>2020</td>\n      <td>21</td>\n      <td>43</td>\n      <td>459</td>\n      <td>18.00</td>\n      <td>45.22</td>\n      <td>30615</td>\n      <td>263</td>\n      <td>158.69</td>\n      <td>126.14</td>\n    </tr>\n    <tr>\n      <th>15</th>\n      <td>EPL</td>\n      <td>2021</td>\n      <td>16</td>\n      <td>37</td>\n      <td>258</td>\n      <td>13.19</td>\n      <td>31.88</td>\n      <td>17533</td>\n      <td>204</td>\n      <td>105.45</td>\n      <td>81.58</td>\n    </tr>\n    <tr>\n      <th>16</th>\n      <td>La_liga</td>\n      <td>2014</td>\n      <td>8</td>\n      <td>45</td>\n      <td>328</td>\n      <td>14.09</td>\n      <td>39.17</td>\n      <td>32604</td>\n      <td>183</td>\n      <td>158.99</td>\n      <td>127.30</td>\n    </tr>\n    <tr>\n      <th>17</th>\n      <td>La_liga</td>\n      <td>2015</td>\n      <td>10</td>\n      <td>41</td>\n      <td>297</td>\n      <td>9.69</td>\n      <td>34.09</td>\n      <td>33007</td>\n      <td>153</td>\n      <td>154.47</td>\n      <td>127.22</td>\n    </tr>\n    <tr>\n      <th>18</th>\n      <td>La_liga</td>\n      <td>2016</td>\n      <td>15</td>\n      <td>49</td>\n      <td>345</td>\n      <td>16.05</td>\n      <td>43.26</td>\n      <td>30841</td>\n      <td>208</td>\n      <td>157.40</td>\n      <td>123.74</td>\n    </tr>\n    <tr>\n      <th>19</th>\n      <td>La_liga</td>\n      <td>2017</td>\n      <td>9</td>\n      <td>42</td>\n      <td>342</td>\n      <td>10.69</td>\n      <td>44.27</td>\n      <td>32936</td>\n      <td>168</td>\n      <td>168.57</td>\n      <td>134.14</td>\n    </tr>\n    <tr>\n      <th>20</th>\n      <td>La_liga</td>\n      <td>2018</td>\n      <td>14</td>\n      <td>36</td>\n      <td>332</td>\n      <td>17.60</td>\n      <td>43.64</td>\n      <td>30695</td>\n      <td>220</td>\n      <td>150.25</td>\n      <td>114.18</td>\n    </tr>\n    <tr>\n      <th>21</th>\n      <td>La_liga</td>\n      <td>2019</td>\n      <td>14</td>\n      <td>41</td>\n      <td>403</td>\n      <td>15.29</td>\n      <td>46.38</td>\n      <td>32199</td>\n      <td>179</td>\n      <td>155.53</td>\n      <td>118.61</td>\n    </tr>\n    <tr>\n      <th>22</th>\n      <td>La_liga</td>\n      <td>2020</td>\n      <td>10</td>\n      <td>40</td>\n      <td>363</td>\n      <td>12.84</td>\n      <td>42.56</td>\n      <td>28417</td>\n      <td>165</td>\n      <td>149.23</td>\n      <td>116.97</td>\n    </tr>\n    <tr>\n      <th>23</th>\n      <td>La_liga</td>\n      <td>2021</td>\n      <td>9</td>\n      <td>22</td>\n      <td>189</td>\n      <td>6.22</td>\n      <td>19.40</td>\n      <td>15064</td>\n      <td>91</td>\n      <td>66.68</td>\n      <td>49.53</td>\n    </tr>\n    <tr>\n      <th>24</th>\n      <td>Ligue_1</td>\n      <td>2014</td>\n      <td>14</td>\n      <td>34</td>\n      <td>297</td>\n      <td>14.59</td>\n      <td>36.15</td>\n      <td>31459</td>\n      <td>206</td>\n      <td>131.05</td>\n      <td>105.62</td>\n    </tr>\n    <tr>\n      <th>25</th>\n      <td>Ligue_1</td>\n      <td>2015</td>\n      <td>27</td>\n      <td>39</td>\n      <td>292</td>\n      <td>24.57</td>\n      <td>36.90</td>\n      <td>31372</td>\n      <td>221</td>\n      <td>128.59</td>\n      <td>95.72</td>\n    </tr>\n    <tr>\n      <th>26</th>\n      <td>Ligue_1</td>\n      <td>2016</td>\n      <td>10</td>\n      <td>52</td>\n      <td>321</td>\n      <td>17.25</td>\n      <td>46.25</td>\n      <td>32202</td>\n      <td>222</td>\n      <td>146.59</td>\n      <td>113.25</td>\n    </tr>\n    <tr>\n      <th>27</th>\n      <td>Ligue_1</td>\n      <td>2017</td>\n      <td>15</td>\n      <td>54</td>\n      <td>321</td>\n      <td>10.29</td>\n      <td>40.38</td>\n      <td>32836</td>\n      <td>211</td>\n      <td>143.21</td>\n      <td>118.93</td>\n    </tr>\n    <tr>\n      <th>28</th>\n      <td>Ligue_1</td>\n      <td>2018</td>\n      <td>17</td>\n      <td>39</td>\n      <td>315</td>\n      <td>15.41</td>\n      <td>38.23</td>\n      <td>29556</td>\n      <td>184</td>\n      <td>125.15</td>\n      <td>96.92</td>\n    </tr>\n    <tr>\n      <th>29</th>\n      <td>Ligue_1</td>\n      <td>2019</td>\n      <td>9</td>\n      <td>22</td>\n      <td>188</td>\n      <td>9.90</td>\n      <td>20.50</td>\n      <td>23777</td>\n      <td>131</td>\n      <td>96.65</td>\n      <td>81.51</td>\n    </tr>\n    <tr>\n      <th>30</th>\n      <td>Ligue_1</td>\n      <td>2020</td>\n      <td>15</td>\n      <td>31</td>\n      <td>310</td>\n      <td>10.29</td>\n      <td>36.19</td>\n      <td>30413</td>\n      <td>130</td>\n      <td>143.06</td>\n      <td>116.27</td>\n    </tr>\n    <tr>\n      <th>31</th>\n      <td>Ligue_1</td>\n      <td>2021</td>\n      <td>8</td>\n      <td>15</td>\n      <td>126</td>\n      <td>6.50</td>\n      <td>16.26</td>\n      <td>14779</td>\n      <td>87</td>\n      <td>67.24</td>\n      <td>54.55</td>\n    </tr>\n    <tr>\n      <th>32</th>\n      <td>Serie_A</td>\n      <td>2014</td>\n      <td>17</td>\n      <td>38</td>\n      <td>357</td>\n      <td>17.64</td>\n      <td>35.43</td>\n      <td>32228</td>\n      <td>263</td>\n      <td>132.55</td>\n      <td>100.14</td>\n    </tr>\n    <tr>\n      <th>33</th>\n      <td>Serie_A</td>\n      <td>2015</td>\n      <td>19</td>\n      <td>23</td>\n      <td>325</td>\n      <td>15.01</td>\n      <td>31.83</td>\n      <td>28549</td>\n      <td>227</td>\n      <td>120.89</td>\n      <td>93.83</td>\n    </tr>\n    <tr>\n      <th>34</th>\n      <td>Serie_A</td>\n      <td>2016</td>\n      <td>10</td>\n      <td>27</td>\n      <td>290</td>\n      <td>10.17</td>\n      <td>29.26</td>\n      <td>23749</td>\n      <td>166</td>\n      <td>118.90</td>\n      <td>96.72</td>\n    </tr>\n    <tr>\n      <th>35</th>\n      <td>Serie_A</td>\n      <td>2017</td>\n      <td>20</td>\n      <td>45</td>\n      <td>414</td>\n      <td>21.54</td>\n      <td>39.86</td>\n      <td>32672</td>\n      <td>279</td>\n      <td>143.27</td>\n      <td>112.53</td>\n    </tr>\n    <tr>\n      <th>36</th>\n      <td>Serie_A</td>\n      <td>2018</td>\n      <td>10</td>\n      <td>34</td>\n      <td>342</td>\n      <td>12.91</td>\n      <td>34.45</td>\n      <td>27356</td>\n      <td>204</td>\n      <td>138.83</td>\n      <td>112.15</td>\n    </tr>\n    <tr>\n      <th>37</th>\n      <td>Serie_A</td>\n      <td>2019</td>\n      <td>21</td>\n      <td>36</td>\n      <td>364</td>\n      <td>19.49</td>\n      <td>35.88</td>\n      <td>24488</td>\n      <td>250</td>\n      <td>118.89</td>\n      <td>87.76</td>\n    </tr>\n    <tr>\n      <th>38</th>\n      <td>Serie_A</td>\n      <td>2020</td>\n      <td>35</td>\n      <td>49</td>\n      <td>359</td>\n      <td>33.00</td>\n      <td>46.69</td>\n      <td>28353</td>\n      <td>291</td>\n      <td>161.45</td>\n      <td>111.57</td>\n    </tr>\n    <tr>\n      <th>39</th>\n      <td>Serie_A</td>\n      <td>2021</td>\n      <td>19</td>\n      <td>23</td>\n      <td>211</td>\n      <td>19.77</td>\n      <td>22.77</td>\n      <td>16490</td>\n      <td>199</td>\n      <td>86.06</td>\n      <td>56.97</td>\n    </tr>\n  </tbody>\n</table>\n</div>"
     },
     "metadata": {}
    }
   ]
  },
  {
   "cell_type": "markdown",
   "source": "Add a column called `xGChain90`, i.e `xGChain` per 90 minutes",
   "metadata": {
    "cell_id": "00028-ca469037-e83f-4e58-85f1-304eb9563275",
    "deepnote_app_coordinates": {
     "x": 0,
     "y": 78,
     "w": 12,
     "h": 5
    },
    "deepnote_cell_type": "markdown",
    "deepnote_cell_height": 52.390625
   }
  },
  {
   "cell_type": "code",
   "metadata": {
    "cell_id": "00029-a25063f7-85c0-40ab-8456-644c6f360a70",
    "deepnote_to_be_reexecuted": false,
    "source_hash": "e94d3ee",
    "execution_start": 1654031065461,
    "execution_millis": 114,
    "deepnote_app_coordinates": {
     "x": 0,
     "y": 84,
     "w": 12,
     "h": 5
    },
    "deepnote_cell_type": "code",
    "deepnote_cell_height": 706.796875
   },
   "source": "funct = lambda row: row.xGChain*90/row.time # Define a function for the new column\ncol = sum_df.apply(funct, axis=1) # Get column data with an index\ndf = sum_df.assign(xGChain90=col.values) # Assign values to column 'xGChain90'\n\n# Format the float numbers for better reading\ndf.round(2)",
   "execution_count": 6,
   "outputs": [
    {
     "output_type": "execute_result",
     "execution_count": 6,
     "data": {
      "application/vnd.deepnote.dataframe.v3+json": {
       "column_count": 12,
       "row_count": 40,
       "columns": [
        {
         "name": "league",
         "dtype": "object",
         "stats": {
          "unique_count": 5,
          "nan_count": 0,
          "categories": [
           {
            "name": "Bundesliga",
            "count": 8
           },
           {
            "name": "EPL",
            "count": 8
           },
           {
            "name": "3 others",
            "count": 24
           }
          ]
         }
        },
        {
         "name": "season",
         "dtype": "int64",
         "stats": {
          "unique_count": 8,
          "nan_count": 0,
          "min": "2014",
          "max": "2021",
          "histogram": [
           {
            "bin_start": 2014,
            "bin_end": 2014.7,
            "count": 5
           },
           {
            "bin_start": 2014.7,
            "bin_end": 2015.4,
            "count": 5
           },
           {
            "bin_start": 2015.4,
            "bin_end": 2016.1,
            "count": 5
           },
           {
            "bin_start": 2016.1,
            "bin_end": 2016.8,
            "count": 0
           },
           {
            "bin_start": 2016.8,
            "bin_end": 2017.5,
            "count": 5
           },
           {
            "bin_start": 2017.5,
            "bin_end": 2018.2,
            "count": 5
           },
           {
            "bin_start": 2018.2,
            "bin_end": 2018.9,
            "count": 0
           },
           {
            "bin_start": 2018.9,
            "bin_end": 2019.6,
            "count": 5
           },
           {
            "bin_start": 2019.6,
            "bin_end": 2020.3,
            "count": 5
           },
           {
            "bin_start": 2020.3,
            "bin_end": 2021,
            "count": 5
           }
          ]
         }
        },
        {
         "name": "goals",
         "dtype": "int64",
         "stats": {
          "unique_count": 17,
          "nan_count": 0,
          "min": "8",
          "max": "35",
          "histogram": [
           {
            "bin_start": 8,
            "bin_end": 10.7,
            "count": 13
           },
           {
            "bin_start": 10.7,
            "bin_end": 13.4,
            "count": 3
           },
           {
            "bin_start": 13.4,
            "bin_end": 16.1,
            "count": 9
           },
           {
            "bin_start": 16.1,
            "bin_end": 18.8,
            "count": 2
           },
           {
            "bin_start": 18.8,
            "bin_end": 21.5,
            "count": 8
           },
           {
            "bin_start": 21.5,
            "bin_end": 24.200000000000003,
            "count": 2
           },
           {
            "bin_start": 24.200000000000003,
            "bin_end": 26.900000000000002,
            "count": 0
           },
           {
            "bin_start": 26.900000000000002,
            "bin_end": 29.6,
            "count": 1
           },
           {
            "bin_start": 29.6,
            "bin_end": 32.3,
            "count": 0
           },
           {
            "bin_start": 32.3,
            "bin_end": 35,
            "count": 2
           }
          ]
         }
        },
        {
         "name": "assists",
         "dtype": "int64",
         "stats": {
          "unique_count": 25,
          "nan_count": 0,
          "min": "15",
          "max": "69",
          "histogram": [
           {
            "bin_start": 15,
            "bin_end": 20.4,
            "count": 2
           },
           {
            "bin_start": 20.4,
            "bin_end": 25.8,
            "count": 6
           },
           {
            "bin_start": 25.8,
            "bin_end": 31.200000000000003,
            "count": 4
           },
           {
            "bin_start": 31.200000000000003,
            "bin_end": 36.6,
            "count": 8
           },
           {
            "bin_start": 36.6,
            "bin_end": 42,
            "count": 7
           },
           {
            "bin_start": 42,
            "bin_end": 47.400000000000006,
            "count": 7
           },
           {
            "bin_start": 47.400000000000006,
            "bin_end": 52.800000000000004,
            "count": 4
           },
           {
            "bin_start": 52.800000000000004,
            "bin_end": 58.2,
            "count": 1
           },
           {
            "bin_start": 58.2,
            "bin_end": 63.6,
            "count": 0
           },
           {
            "bin_start": 63.6,
            "bin_end": 69,
            "count": 1
           }
          ]
         }
        },
        {
         "name": "key_passes",
         "dtype": "int64",
         "stats": {
          "unique_count": 36,
          "nan_count": 0,
          "min": "126",
          "max": "468",
          "histogram": [
           {
            "bin_start": 126,
            "bin_end": 160.2,
            "count": 1
           },
           {
            "bin_start": 160.2,
            "bin_end": 194.4,
            "count": 2
           },
           {
            "bin_start": 194.4,
            "bin_end": 228.60000000000002,
            "count": 2
           },
           {
            "bin_start": 228.60000000000002,
            "bin_end": 262.8,
            "count": 3
           },
           {
            "bin_start": 262.8,
            "bin_end": 297,
            "count": 5
           },
           {
            "bin_start": 297,
            "bin_end": 331.20000000000005,
            "count": 13
           },
           {
            "bin_start": 331.20000000000005,
            "bin_end": 365.40000000000003,
            "count": 8
           },
           {
            "bin_start": 365.40000000000003,
            "bin_end": 399.6,
            "count": 2
           },
           {
            "bin_start": 399.6,
            "bin_end": 433.8,
            "count": 2
           },
           {
            "bin_start": 433.8,
            "bin_end": 468,
            "count": 2
           }
          ]
         }
        },
        {
         "name": "xG",
         "dtype": "float64",
         "stats": {
          "unique_count": 39,
          "nan_count": 0,
          "min": "6.22",
          "max": "33.0",
          "histogram": [
           {
            "bin_start": 6.22,
            "bin_end": 8.898,
            "count": 2
           },
           {
            "bin_start": 8.898,
            "bin_end": 11.576,
            "count": 8
           },
           {
            "bin_start": 11.576,
            "bin_end": 14.253999999999998,
            "count": 8
           },
           {
            "bin_start": 14.253999999999998,
            "bin_end": 16.932,
            "count": 7
           },
           {
            "bin_start": 16.932,
            "bin_end": 19.61,
            "count": 9
           },
           {
            "bin_start": 19.61,
            "bin_end": 22.287999999999997,
            "count": 3
           },
           {
            "bin_start": 22.287999999999997,
            "bin_end": 24.965999999999998,
            "count": 1
           },
           {
            "bin_start": 24.965999999999998,
            "bin_end": 27.644,
            "count": 0
           },
           {
            "bin_start": 27.644,
            "bin_end": 30.322,
            "count": 1
           },
           {
            "bin_start": 30.322,
            "bin_end": 33,
            "count": 1
           }
          ]
         }
        },
        {
         "name": "xA",
         "dtype": "float64",
         "stats": {
          "unique_count": 40,
          "nan_count": 0,
          "min": "16.26",
          "max": "55.3",
          "histogram": [
           {
            "bin_start": 16.26,
            "bin_end": 20.164,
            "count": 2
           },
           {
            "bin_start": 20.164,
            "bin_end": 24.067999999999998,
            "count": 4
           },
           {
            "bin_start": 24.067999999999998,
            "bin_end": 27.971999999999998,
            "count": 2
           },
           {
            "bin_start": 27.971999999999998,
            "bin_end": 31.875999999999998,
            "count": 5
           },
           {
            "bin_start": 31.875999999999998,
            "bin_end": 35.78,
            "count": 5
           },
           {
            "bin_start": 35.78,
            "bin_end": 39.684,
            "count": 6
           },
           {
            "bin_start": 39.684,
            "bin_end": 43.587999999999994,
            "count": 7
           },
           {
            "bin_start": 43.587999999999994,
            "bin_end": 47.49199999999999,
            "count": 7
           },
           {
            "bin_start": 47.49199999999999,
            "bin_end": 51.39599999999999,
            "count": 1
           },
           {
            "bin_start": 51.39599999999999,
            "bin_end": 55.3,
            "count": 1
           }
          ]
         }
        },
        {
         "name": "time",
         "dtype": "int64",
         "stats": {
          "unique_count": 40,
          "nan_count": 0,
          "min": "14127",
          "max": "33007",
          "histogram": [
           {
            "bin_start": 14127,
            "bin_end": 16015,
            "count": 3
           },
           {
            "bin_start": 16015,
            "bin_end": 17903,
            "count": 2
           },
           {
            "bin_start": 17903,
            "bin_end": 19791,
            "count": 0
           },
           {
            "bin_start": 19791,
            "bin_end": 21679,
            "count": 2
           },
           {
            "bin_start": 21679,
            "bin_end": 23567,
            "count": 1
           },
           {
            "bin_start": 23567,
            "bin_end": 25455,
            "count": 5
           },
           {
            "bin_start": 25455,
            "bin_end": 27343,
            "count": 1
           },
           {
            "bin_start": 27343,
            "bin_end": 29231,
            "count": 6
           },
           {
            "bin_start": 29231,
            "bin_end": 31119,
            "count": 6
           },
           {
            "bin_start": 31119,
            "bin_end": 33007,
            "count": 14
           }
          ]
         }
        },
        {
         "name": "shots",
         "dtype": "int64",
         "stats": {
          "unique_count": 33,
          "nan_count": 0,
          "min": "87",
          "max": "298",
          "histogram": [
           {
            "bin_start": 87,
            "bin_end": 108.1,
            "count": 2
           },
           {
            "bin_start": 108.1,
            "bin_end": 129.2,
            "count": 1
           },
           {
            "bin_start": 129.2,
            "bin_end": 150.3,
            "count": 2
           },
           {
            "bin_start": 150.3,
            "bin_end": 171.4,
            "count": 4
           },
           {
            "bin_start": 171.4,
            "bin_end": 192.5,
            "count": 8
           },
           {
            "bin_start": 192.5,
            "bin_end": 213.60000000000002,
            "count": 8
           },
           {
            "bin_start": 213.60000000000002,
            "bin_end": 234.70000000000002,
            "count": 5
           },
           {
            "bin_start": 234.70000000000002,
            "bin_end": 255.8,
            "count": 4
           },
           {
            "bin_start": 255.8,
            "bin_end": 276.9,
            "count": 3
           },
           {
            "bin_start": 276.9,
            "bin_end": 298,
            "count": 3
           }
          ]
         }
        },
        {
         "name": "xGChain",
         "dtype": "float64",
         "stats": {
          "unique_count": 39,
          "nan_count": 0,
          "min": "66.68",
          "max": "185.26",
          "histogram": [
           {
            "bin_start": 66.68,
            "bin_end": 78.53800000000001,
            "count": 3
           },
           {
            "bin_start": 78.53800000000001,
            "bin_end": 90.396,
            "count": 1
           },
           {
            "bin_start": 90.396,
            "bin_end": 102.254,
            "count": 4
           },
           {
            "bin_start": 102.254,
            "bin_end": 114.112,
            "count": 1
           },
           {
            "bin_start": 114.112,
            "bin_end": 125.97,
            "count": 7
           },
           {
            "bin_start": 125.97,
            "bin_end": 137.828,
            "count": 4
           },
           {
            "bin_start": 137.828,
            "bin_end": 149.68599999999998,
            "count": 7
           },
           {
            "bin_start": 149.68599999999998,
            "bin_end": 161.54399999999998,
            "count": 8
           },
           {
            "bin_start": 161.54399999999998,
            "bin_end": 173.402,
            "count": 2
           },
           {
            "bin_start": 173.402,
            "bin_end": 185.26,
            "count": 3
           }
          ]
         }
        },
        {
         "name": "xGBuildup",
         "dtype": "float64",
         "stats": {
          "unique_count": 40,
          "nan_count": 0,
          "min": "49.52",
          "max": "148.16",
          "histogram": [
           {
            "bin_start": 49.52,
            "bin_end": 59.384,
            "count": 4
           },
           {
            "bin_start": 59.384,
            "bin_end": 69.248,
            "count": 0
           },
           {
            "bin_start": 69.248,
            "bin_end": 79.112,
            "count": 2
           },
           {
            "bin_start": 79.112,
            "bin_end": 88.976,
            "count": 4
           },
           {
            "bin_start": 88.976,
            "bin_end": 98.84,
            "count": 6
           },
           {
            "bin_start": 98.84,
            "bin_end": 108.70400000000001,
            "count": 4
           },
           {
            "bin_start": 108.70400000000001,
            "bin_end": 118.56799999999998,
            "count": 8
           },
           {
            "bin_start": 118.56799999999998,
            "bin_end": 128.432,
            "count": 7
           },
           {
            "bin_start": 128.432,
            "bin_end": 138.296,
            "count": 3
           },
           {
            "bin_start": 138.296,
            "bin_end": 148.16,
            "count": 2
           }
          ]
         }
        },
        {
         "name": "xGChain90",
         "dtype": "float64",
         "stats": {
          "unique_count": 19,
          "nan_count": 0,
          "min": "0.33",
          "max": "0.58",
          "histogram": [
           {
            "bin_start": 0.33,
            "bin_end": 0.355,
            "count": 2
           },
           {
            "bin_start": 0.355,
            "bin_end": 0.38,
            "count": 4
           },
           {
            "bin_start": 0.38,
            "bin_end": 0.405,
            "count": 7
           },
           {
            "bin_start": 0.405,
            "bin_end": 0.43,
            "count": 4
           },
           {
            "bin_start": 0.43,
            "bin_end": 0.45499999999999996,
            "count": 8
           },
           {
            "bin_start": 0.45499999999999996,
            "bin_end": 0.48,
            "count": 6
           },
           {
            "bin_start": 0.48,
            "bin_end": 0.505,
            "count": 4
           },
           {
            "bin_start": 0.505,
            "bin_end": 0.53,
            "count": 3
           },
           {
            "bin_start": 0.53,
            "bin_end": 0.5549999999999999,
            "count": 1
           },
           {
            "bin_start": 0.5549999999999999,
            "bin_end": 0.58,
            "count": 1
           }
          ]
         }
        },
        {
         "name": "_deepnote_index_column",
         "dtype": "int64"
        }
       ],
       "rows": [
        {
         "league": "Bundesliga",
         "season": 2014,
         "goals": 19,
         "assists": 27,
         "key_passes": 304,
         "xG": 17.38,
         "xA": 29.57,
         "time": 28027,
         "shots": 199,
         "xGChain": 101.49,
         "xGBuildup": 78.27,
         "xGChain90": 0.33,
         "_deepnote_index_column": 0
        },
        {
         "league": "Bundesliga",
         "season": 2015,
         "goals": 11,
         "assists": 23,
         "key_passes": 280,
         "xG": 11.86,
         "xA": 27.68,
         "time": 24675,
         "shots": 173,
         "xGChain": 121.39,
         "xGBuildup": 97.04,
         "xGChain90": 0.44,
         "_deepnote_index_column": 1
        },
        {
         "league": "Bundesliga",
         "season": 2016,
         "goals": 16,
         "assists": 23,
         "key_passes": 253,
         "xG": 12.52,
         "xA": 27.87,
         "time": 21018,
         "shots": 173,
         "xGChain": 99.51,
         "xGBuildup": 78.57,
         "xGChain90": 0.43,
         "_deepnote_index_column": 2
        },
        {
         "league": "Bundesliga",
         "season": 2017,
         "goals": 11,
         "assists": 36,
         "key_passes": 285,
         "xG": 12.11,
         "xA": 30.6,
         "time": 21091,
         "shots": 188,
         "xGChain": 116.25,
         "xGBuildup": 94.87,
         "xGChain90": 0.5,
         "_deepnote_index_column": 3
        },
        {
         "league": "Bundesliga",
         "season": 2018,
         "goals": 22,
         "assists": 43,
         "key_passes": 322,
         "xG": 19.7,
         "xA": 46.11,
         "time": 27738,
         "shots": 215,
         "xGChain": 154.31,
         "xGBuildup": 119.19,
         "xGChain90": 0.5,
         "_deepnote_index_column": 4
        },
        {
         "league": "Bundesliga",
         "season": 2019,
         "goals": 33,
         "assists": 36,
         "key_passes": 323,
         "xG": 28.77,
         "xA": 41.97,
         "time": 27164,
         "shots": 242,
         "xGChain": 174.07,
         "xGBuildup": 135.86,
         "xGChain90": 0.58,
         "_deepnote_index_column": 5
        },
        {
         "league": "Bundesliga",
         "season": 2020,
         "goals": 19,
         "assists": 44,
         "key_passes": 318,
         "xG": 18.94,
         "xA": 40.15,
         "time": 24398,
         "shots": 236,
         "xGChain": 137.98,
         "xGBuildup": 101.81,
         "xGChain90": 0.51,
         "_deepnote_index_column": 6
        },
        {
         "league": "Bundesliga",
         "season": 2021,
         "goals": 9,
         "assists": 26,
         "key_passes": 199,
         "xG": 10.98,
         "xA": 23.16,
         "time": 14127,
         "shots": 127,
         "xGChain": 69.42,
         "xGBuildup": 49.52,
         "xGChain90": 0.44,
         "_deepnote_index_column": 7
        },
        {
         "league": "EPL",
         "season": 2014,
         "goals": 15,
         "assists": 32,
         "key_passes": 294,
         "xG": 15.4,
         "xA": 30.34,
         "time": 31080,
         "shots": 199,
         "xGChain": 135.51,
         "xGBuildup": 112.38,
         "xGChain90": 0.39,
         "_deepnote_index_column": 8
        },
        {
         "league": "EPL",
         "season": 2015,
         "goals": 8,
         "assists": 35,
         "key_passes": 311,
         "xG": 10,
         "xA": 34.94,
         "time": 32755,
         "shots": 188,
         "xGChain": 125.45,
         "xGBuildup": 101.4,
         "xGChain90": 0.34,
         "_deepnote_index_column": 9
        }
       ]
      },
      "text/plain": "        league  season  goals  assists  key_passes     xG     xA   time  \\\n0   Bundesliga    2014     19       27         304  17.38  29.57  28027   \n1   Bundesliga    2015     11       23         280  11.86  27.68  24675   \n2   Bundesliga    2016     16       23         253  12.52  27.87  21018   \n3   Bundesliga    2017     11       36         285  12.11  30.60  21091   \n4   Bundesliga    2018     22       43         322  19.70  46.11  27738   \n5   Bundesliga    2019     33       36         323  28.77  41.97  27164   \n6   Bundesliga    2020     19       44         318  18.94  40.15  24398   \n7   Bundesliga    2021      9       26         199  10.98  23.16  14127   \n8          EPL    2014     15       32         294  15.40  30.34  31080   \n9          EPL    2015      8       35         311  10.00  34.94  32755   \n10         EPL    2016     13       19         258  16.25  21.74  23421   \n11         EPL    2017     24       44         380  17.90  41.59  31897   \n12         EPL    2018      9       69         372  14.18  51.16  31463   \n13         EPL    2019     20       50         468  19.39  55.30  32061   \n14         EPL    2020     21       43         459  18.00  45.22  30615   \n15         EPL    2021     16       37         258  13.19  31.88  17533   \n16     La_liga    2014      8       45         328  14.09  39.17  32604   \n17     La_liga    2015     10       41         297   9.69  34.09  33007   \n18     La_liga    2016     15       49         345  16.05  43.26  30841   \n19     La_liga    2017      9       42         342  10.69  44.27  32936   \n20     La_liga    2018     14       36         332  17.60  43.64  30695   \n21     La_liga    2019     14       41         403  15.29  46.38  32199   \n22     La_liga    2020     10       40         363  12.84  42.56  28417   \n23     La_liga    2021      9       22         189   6.22  19.40  15064   \n24     Ligue_1    2014     14       34         297  14.59  36.15  31459   \n25     Ligue_1    2015     27       39         292  24.57  36.90  31372   \n26     Ligue_1    2016     10       52         321  17.25  46.25  32202   \n27     Ligue_1    2017     15       54         321  10.29  40.38  32836   \n28     Ligue_1    2018     17       39         315  15.41  38.23  29556   \n29     Ligue_1    2019      9       22         188   9.90  20.50  23777   \n30     Ligue_1    2020     15       31         310  10.29  36.19  30413   \n31     Ligue_1    2021      8       15         126   6.50  16.26  14779   \n32     Serie_A    2014     17       38         357  17.64  35.43  32228   \n33     Serie_A    2015     19       23         325  15.01  31.83  28549   \n34     Serie_A    2016     10       27         290  10.17  29.26  23749   \n35     Serie_A    2017     20       45         414  21.54  39.86  32672   \n36     Serie_A    2018     10       34         342  12.91  34.45  27356   \n37     Serie_A    2019     21       36         364  19.49  35.88  24488   \n38     Serie_A    2020     35       49         359  33.00  46.69  28353   \n39     Serie_A    2021     19       23         211  19.77  22.77  16490   \n\n    shots  xGChain  xGBuildup  xGChain90  \n0     199   101.49      78.27       0.33  \n1     173   121.39      97.04       0.44  \n2     173    99.51      78.57       0.43  \n3     188   116.25      94.87       0.50  \n4     215   154.31     119.19       0.50  \n5     242   174.07     135.86       0.58  \n6     236   137.98     101.81       0.51  \n7     127    69.42      49.52       0.44  \n8     199   135.51     112.38       0.39  \n9     188   125.45     101.40       0.34  \n10    173   101.49      83.94       0.39  \n11    298   168.59     133.53       0.48  \n12    243   173.56     140.68       0.50  \n13    275   185.26     148.16       0.52  \n14    263   158.69     126.14       0.47  \n15    204   105.45      81.58       0.54  \n16    183   158.99     127.30       0.44  \n17    153   154.47     127.22       0.42  \n18    208   157.40     123.74       0.46  \n19    168   168.57     134.14       0.46  \n20    220   150.25     114.18       0.44  \n21    179   155.53     118.61       0.43  \n22    165   149.23     116.97       0.47  \n23     91    66.68      49.53       0.40  \n24    206   131.05     105.62       0.37  \n25    221   128.59      95.72       0.37  \n26    222   146.59     113.25       0.41  \n27    211   143.21     118.93       0.39  \n28    184   125.15      96.92       0.38  \n29    131    96.65      81.51       0.37  \n30    130   143.06     116.27       0.42  \n31     87    67.24      54.55       0.41  \n32    263   132.55     100.14       0.37  \n33    227   120.89      93.83       0.38  \n34    166   118.90      96.72       0.45  \n35    279   143.27     112.53       0.39  \n36    204   138.83     112.15       0.46  \n37    250   118.89      87.76       0.44  \n38    291   161.45     111.57       0.51  \n39    199    86.06      56.97       0.47  ",
      "text/html": "<div>\n<style scoped>\n    .dataframe tbody tr th:only-of-type {\n        vertical-align: middle;\n    }\n\n    .dataframe tbody tr th {\n        vertical-align: top;\n    }\n\n    .dataframe thead th {\n        text-align: right;\n    }\n</style>\n<table border=\"1\" class=\"dataframe\">\n  <thead>\n    <tr style=\"text-align: right;\">\n      <th></th>\n      <th>league</th>\n      <th>season</th>\n      <th>goals</th>\n      <th>assists</th>\n      <th>key_passes</th>\n      <th>xG</th>\n      <th>xA</th>\n      <th>time</th>\n      <th>shots</th>\n      <th>xGChain</th>\n      <th>xGBuildup</th>\n      <th>xGChain90</th>\n    </tr>\n  </thead>\n  <tbody>\n    <tr>\n      <th>0</th>\n      <td>Bundesliga</td>\n      <td>2014</td>\n      <td>19</td>\n      <td>27</td>\n      <td>304</td>\n      <td>17.38</td>\n      <td>29.57</td>\n      <td>28027</td>\n      <td>199</td>\n      <td>101.49</td>\n      <td>78.27</td>\n      <td>0.33</td>\n    </tr>\n    <tr>\n      <th>1</th>\n      <td>Bundesliga</td>\n      <td>2015</td>\n      <td>11</td>\n      <td>23</td>\n      <td>280</td>\n      <td>11.86</td>\n      <td>27.68</td>\n      <td>24675</td>\n      <td>173</td>\n      <td>121.39</td>\n      <td>97.04</td>\n      <td>0.44</td>\n    </tr>\n    <tr>\n      <th>2</th>\n      <td>Bundesliga</td>\n      <td>2016</td>\n      <td>16</td>\n      <td>23</td>\n      <td>253</td>\n      <td>12.52</td>\n      <td>27.87</td>\n      <td>21018</td>\n      <td>173</td>\n      <td>99.51</td>\n      <td>78.57</td>\n      <td>0.43</td>\n    </tr>\n    <tr>\n      <th>3</th>\n      <td>Bundesliga</td>\n      <td>2017</td>\n      <td>11</td>\n      <td>36</td>\n      <td>285</td>\n      <td>12.11</td>\n      <td>30.60</td>\n      <td>21091</td>\n      <td>188</td>\n      <td>116.25</td>\n      <td>94.87</td>\n      <td>0.50</td>\n    </tr>\n    <tr>\n      <th>4</th>\n      <td>Bundesliga</td>\n      <td>2018</td>\n      <td>22</td>\n      <td>43</td>\n      <td>322</td>\n      <td>19.70</td>\n      <td>46.11</td>\n      <td>27738</td>\n      <td>215</td>\n      <td>154.31</td>\n      <td>119.19</td>\n      <td>0.50</td>\n    </tr>\n    <tr>\n      <th>5</th>\n      <td>Bundesliga</td>\n      <td>2019</td>\n      <td>33</td>\n      <td>36</td>\n      <td>323</td>\n      <td>28.77</td>\n      <td>41.97</td>\n      <td>27164</td>\n      <td>242</td>\n      <td>174.07</td>\n      <td>135.86</td>\n      <td>0.58</td>\n    </tr>\n    <tr>\n      <th>6</th>\n      <td>Bundesliga</td>\n      <td>2020</td>\n      <td>19</td>\n      <td>44</td>\n      <td>318</td>\n      <td>18.94</td>\n      <td>40.15</td>\n      <td>24398</td>\n      <td>236</td>\n      <td>137.98</td>\n      <td>101.81</td>\n      <td>0.51</td>\n    </tr>\n    <tr>\n      <th>7</th>\n      <td>Bundesliga</td>\n      <td>2021</td>\n      <td>9</td>\n      <td>26</td>\n      <td>199</td>\n      <td>10.98</td>\n      <td>23.16</td>\n      <td>14127</td>\n      <td>127</td>\n      <td>69.42</td>\n      <td>49.52</td>\n      <td>0.44</td>\n    </tr>\n    <tr>\n      <th>8</th>\n      <td>EPL</td>\n      <td>2014</td>\n      <td>15</td>\n      <td>32</td>\n      <td>294</td>\n      <td>15.40</td>\n      <td>30.34</td>\n      <td>31080</td>\n      <td>199</td>\n      <td>135.51</td>\n      <td>112.38</td>\n      <td>0.39</td>\n    </tr>\n    <tr>\n      <th>9</th>\n      <td>EPL</td>\n      <td>2015</td>\n      <td>8</td>\n      <td>35</td>\n      <td>311</td>\n      <td>10.00</td>\n      <td>34.94</td>\n      <td>32755</td>\n      <td>188</td>\n      <td>125.45</td>\n      <td>101.40</td>\n      <td>0.34</td>\n    </tr>\n    <tr>\n      <th>10</th>\n      <td>EPL</td>\n      <td>2016</td>\n      <td>13</td>\n      <td>19</td>\n      <td>258</td>\n      <td>16.25</td>\n      <td>21.74</td>\n      <td>23421</td>\n      <td>173</td>\n      <td>101.49</td>\n      <td>83.94</td>\n      <td>0.39</td>\n    </tr>\n    <tr>\n      <th>11</th>\n      <td>EPL</td>\n      <td>2017</td>\n      <td>24</td>\n      <td>44</td>\n      <td>380</td>\n      <td>17.90</td>\n      <td>41.59</td>\n      <td>31897</td>\n      <td>298</td>\n      <td>168.59</td>\n      <td>133.53</td>\n      <td>0.48</td>\n    </tr>\n    <tr>\n      <th>12</th>\n      <td>EPL</td>\n      <td>2018</td>\n      <td>9</td>\n      <td>69</td>\n      <td>372</td>\n      <td>14.18</td>\n      <td>51.16</td>\n      <td>31463</td>\n      <td>243</td>\n      <td>173.56</td>\n      <td>140.68</td>\n      <td>0.50</td>\n    </tr>\n    <tr>\n      <th>13</th>\n      <td>EPL</td>\n      <td>2019</td>\n      <td>20</td>\n      <td>50</td>\n      <td>468</td>\n      <td>19.39</td>\n      <td>55.30</td>\n      <td>32061</td>\n      <td>275</td>\n      <td>185.26</td>\n      <td>148.16</td>\n      <td>0.52</td>\n    </tr>\n    <tr>\n      <th>14</th>\n      <td>EPL</td>\n      <td>2020</td>\n      <td>21</td>\n      <td>43</td>\n      <td>459</td>\n      <td>18.00</td>\n      <td>45.22</td>\n      <td>30615</td>\n      <td>263</td>\n      <td>158.69</td>\n      <td>126.14</td>\n      <td>0.47</td>\n    </tr>\n    <tr>\n      <th>15</th>\n      <td>EPL</td>\n      <td>2021</td>\n      <td>16</td>\n      <td>37</td>\n      <td>258</td>\n      <td>13.19</td>\n      <td>31.88</td>\n      <td>17533</td>\n      <td>204</td>\n      <td>105.45</td>\n      <td>81.58</td>\n      <td>0.54</td>\n    </tr>\n    <tr>\n      <th>16</th>\n      <td>La_liga</td>\n      <td>2014</td>\n      <td>8</td>\n      <td>45</td>\n      <td>328</td>\n      <td>14.09</td>\n      <td>39.17</td>\n      <td>32604</td>\n      <td>183</td>\n      <td>158.99</td>\n      <td>127.30</td>\n      <td>0.44</td>\n    </tr>\n    <tr>\n      <th>17</th>\n      <td>La_liga</td>\n      <td>2015</td>\n      <td>10</td>\n      <td>41</td>\n      <td>297</td>\n      <td>9.69</td>\n      <td>34.09</td>\n      <td>33007</td>\n      <td>153</td>\n      <td>154.47</td>\n      <td>127.22</td>\n      <td>0.42</td>\n    </tr>\n    <tr>\n      <th>18</th>\n      <td>La_liga</td>\n      <td>2016</td>\n      <td>15</td>\n      <td>49</td>\n      <td>345</td>\n      <td>16.05</td>\n      <td>43.26</td>\n      <td>30841</td>\n      <td>208</td>\n      <td>157.40</td>\n      <td>123.74</td>\n      <td>0.46</td>\n    </tr>\n    <tr>\n      <th>19</th>\n      <td>La_liga</td>\n      <td>2017</td>\n      <td>9</td>\n      <td>42</td>\n      <td>342</td>\n      <td>10.69</td>\n      <td>44.27</td>\n      <td>32936</td>\n      <td>168</td>\n      <td>168.57</td>\n      <td>134.14</td>\n      <td>0.46</td>\n    </tr>\n    <tr>\n      <th>20</th>\n      <td>La_liga</td>\n      <td>2018</td>\n      <td>14</td>\n      <td>36</td>\n      <td>332</td>\n      <td>17.60</td>\n      <td>43.64</td>\n      <td>30695</td>\n      <td>220</td>\n      <td>150.25</td>\n      <td>114.18</td>\n      <td>0.44</td>\n    </tr>\n    <tr>\n      <th>21</th>\n      <td>La_liga</td>\n      <td>2019</td>\n      <td>14</td>\n      <td>41</td>\n      <td>403</td>\n      <td>15.29</td>\n      <td>46.38</td>\n      <td>32199</td>\n      <td>179</td>\n      <td>155.53</td>\n      <td>118.61</td>\n      <td>0.43</td>\n    </tr>\n    <tr>\n      <th>22</th>\n      <td>La_liga</td>\n      <td>2020</td>\n      <td>10</td>\n      <td>40</td>\n      <td>363</td>\n      <td>12.84</td>\n      <td>42.56</td>\n      <td>28417</td>\n      <td>165</td>\n      <td>149.23</td>\n      <td>116.97</td>\n      <td>0.47</td>\n    </tr>\n    <tr>\n      <th>23</th>\n      <td>La_liga</td>\n      <td>2021</td>\n      <td>9</td>\n      <td>22</td>\n      <td>189</td>\n      <td>6.22</td>\n      <td>19.40</td>\n      <td>15064</td>\n      <td>91</td>\n      <td>66.68</td>\n      <td>49.53</td>\n      <td>0.40</td>\n    </tr>\n    <tr>\n      <th>24</th>\n      <td>Ligue_1</td>\n      <td>2014</td>\n      <td>14</td>\n      <td>34</td>\n      <td>297</td>\n      <td>14.59</td>\n      <td>36.15</td>\n      <td>31459</td>\n      <td>206</td>\n      <td>131.05</td>\n      <td>105.62</td>\n      <td>0.37</td>\n    </tr>\n    <tr>\n      <th>25</th>\n      <td>Ligue_1</td>\n      <td>2015</td>\n      <td>27</td>\n      <td>39</td>\n      <td>292</td>\n      <td>24.57</td>\n      <td>36.90</td>\n      <td>31372</td>\n      <td>221</td>\n      <td>128.59</td>\n      <td>95.72</td>\n      <td>0.37</td>\n    </tr>\n    <tr>\n      <th>26</th>\n      <td>Ligue_1</td>\n      <td>2016</td>\n      <td>10</td>\n      <td>52</td>\n      <td>321</td>\n      <td>17.25</td>\n      <td>46.25</td>\n      <td>32202</td>\n      <td>222</td>\n      <td>146.59</td>\n      <td>113.25</td>\n      <td>0.41</td>\n    </tr>\n    <tr>\n      <th>27</th>\n      <td>Ligue_1</td>\n      <td>2017</td>\n      <td>15</td>\n      <td>54</td>\n      <td>321</td>\n      <td>10.29</td>\n      <td>40.38</td>\n      <td>32836</td>\n      <td>211</td>\n      <td>143.21</td>\n      <td>118.93</td>\n      <td>0.39</td>\n    </tr>\n    <tr>\n      <th>28</th>\n      <td>Ligue_1</td>\n      <td>2018</td>\n      <td>17</td>\n      <td>39</td>\n      <td>315</td>\n      <td>15.41</td>\n      <td>38.23</td>\n      <td>29556</td>\n      <td>184</td>\n      <td>125.15</td>\n      <td>96.92</td>\n      <td>0.38</td>\n    </tr>\n    <tr>\n      <th>29</th>\n      <td>Ligue_1</td>\n      <td>2019</td>\n      <td>9</td>\n      <td>22</td>\n      <td>188</td>\n      <td>9.90</td>\n      <td>20.50</td>\n      <td>23777</td>\n      <td>131</td>\n      <td>96.65</td>\n      <td>81.51</td>\n      <td>0.37</td>\n    </tr>\n    <tr>\n      <th>30</th>\n      <td>Ligue_1</td>\n      <td>2020</td>\n      <td>15</td>\n      <td>31</td>\n      <td>310</td>\n      <td>10.29</td>\n      <td>36.19</td>\n      <td>30413</td>\n      <td>130</td>\n      <td>143.06</td>\n      <td>116.27</td>\n      <td>0.42</td>\n    </tr>\n    <tr>\n      <th>31</th>\n      <td>Ligue_1</td>\n      <td>2021</td>\n      <td>8</td>\n      <td>15</td>\n      <td>126</td>\n      <td>6.50</td>\n      <td>16.26</td>\n      <td>14779</td>\n      <td>87</td>\n      <td>67.24</td>\n      <td>54.55</td>\n      <td>0.41</td>\n    </tr>\n    <tr>\n      <th>32</th>\n      <td>Serie_A</td>\n      <td>2014</td>\n      <td>17</td>\n      <td>38</td>\n      <td>357</td>\n      <td>17.64</td>\n      <td>35.43</td>\n      <td>32228</td>\n      <td>263</td>\n      <td>132.55</td>\n      <td>100.14</td>\n      <td>0.37</td>\n    </tr>\n    <tr>\n      <th>33</th>\n      <td>Serie_A</td>\n      <td>2015</td>\n      <td>19</td>\n      <td>23</td>\n      <td>325</td>\n      <td>15.01</td>\n      <td>31.83</td>\n      <td>28549</td>\n      <td>227</td>\n      <td>120.89</td>\n      <td>93.83</td>\n      <td>0.38</td>\n    </tr>\n    <tr>\n      <th>34</th>\n      <td>Serie_A</td>\n      <td>2016</td>\n      <td>10</td>\n      <td>27</td>\n      <td>290</td>\n      <td>10.17</td>\n      <td>29.26</td>\n      <td>23749</td>\n      <td>166</td>\n      <td>118.90</td>\n      <td>96.72</td>\n      <td>0.45</td>\n    </tr>\n    <tr>\n      <th>35</th>\n      <td>Serie_A</td>\n      <td>2017</td>\n      <td>20</td>\n      <td>45</td>\n      <td>414</td>\n      <td>21.54</td>\n      <td>39.86</td>\n      <td>32672</td>\n      <td>279</td>\n      <td>143.27</td>\n      <td>112.53</td>\n      <td>0.39</td>\n    </tr>\n    <tr>\n      <th>36</th>\n      <td>Serie_A</td>\n      <td>2018</td>\n      <td>10</td>\n      <td>34</td>\n      <td>342</td>\n      <td>12.91</td>\n      <td>34.45</td>\n      <td>27356</td>\n      <td>204</td>\n      <td>138.83</td>\n      <td>112.15</td>\n      <td>0.46</td>\n    </tr>\n    <tr>\n      <th>37</th>\n      <td>Serie_A</td>\n      <td>2019</td>\n      <td>21</td>\n      <td>36</td>\n      <td>364</td>\n      <td>19.49</td>\n      <td>35.88</td>\n      <td>24488</td>\n      <td>250</td>\n      <td>118.89</td>\n      <td>87.76</td>\n      <td>0.44</td>\n    </tr>\n    <tr>\n      <th>38</th>\n      <td>Serie_A</td>\n      <td>2020</td>\n      <td>35</td>\n      <td>49</td>\n      <td>359</td>\n      <td>33.00</td>\n      <td>46.69</td>\n      <td>28353</td>\n      <td>291</td>\n      <td>161.45</td>\n      <td>111.57</td>\n      <td>0.51</td>\n    </tr>\n    <tr>\n      <th>39</th>\n      <td>Serie_A</td>\n      <td>2021</td>\n      <td>19</td>\n      <td>23</td>\n      <td>211</td>\n      <td>19.77</td>\n      <td>22.77</td>\n      <td>16490</td>\n      <td>199</td>\n      <td>86.06</td>\n      <td>56.97</td>\n      <td>0.47</td>\n    </tr>\n  </tbody>\n</table>\n</div>"
     },
     "metadata": {}
    }
   ]
  },
  {
   "cell_type": "markdown",
   "source": "## A. Compare average xGChain90 of each league\n***",
   "metadata": {
    "cell_id": "00033-3395c7a0-3a64-4036-bae7-a9172420f5ac",
    "deepnote_app_coordinates": {
     "x": 0,
     "y": 90,
     "w": 12,
     "h": 5
    },
    "deepnote_cell_type": "markdown",
    "deepnote_cell_height": 87
   }
  },
  {
   "cell_type": "markdown",
   "source": "### A1. Let's see if wingbacks participate more in attacking each year\n***",
   "metadata": {
    "cell_id": "00035-dca6c75a-b2b5-474f-80c3-28c076421f20",
    "deepnote_app_coordinates": {
     "x": 0,
     "y": 96,
     "w": 12,
     "h": 5
    },
    "deepnote_cell_type": "markdown",
    "deepnote_cell_height": 79
   }
  },
  {
   "cell_type": "code",
   "metadata": {
    "cell_id": "00036-ff841225-1e4a-4a9e-ba24-e4c475b03204",
    "deepnote_to_be_reexecuted": false,
    "source_hash": "5eb8a16c",
    "execution_start": 1654031065939,
    "execution_millis": 2267,
    "deepnote_app_coordinates": {
     "x": 0,
     "y": 102,
     "w": 12,
     "h": 5
    },
    "owner_user_id": "d5c2d57d-b841-45e9-8b1a-4259705b0690",
    "deepnote_cell_type": "code",
    "deepnote_cell_height": 642,
    "deepnote_output_heights": [
     527
    ]
   },
   "source": "fig = px.line(df, x=\"season\", y=\"xGChain90\",color=\"league\", render_mode=\"svg\") \nfig.show()",
   "execution_count": 8,
   "outputs": [
    {
     "data": {
      "text/html": "<html>\n<head><meta charset=\"utf-8\" /></head>\n<body>\n    <div>            <script src=\"https://cdnjs.cloudflare.com/ajax/libs/mathjax/2.7.5/MathJax.js?config=TeX-AMS-MML_SVG\"></script><script type=\"text/javascript\">if (window.MathJax) {MathJax.Hub.Config({SVG: {font: \"STIX-Web\"}});}</script>                <script type=\"text/javascript\">window.PlotlyConfig = {MathJaxConfig: 'local'};</script>\n        <script src=\"https://cdn.plot.ly/plotly-2.11.1.min.js\"></script>                <div id=\"8cb6754d-8a77-4e8b-a6c4-f8d4b618d15f\" class=\"plotly-graph-div\" style=\"height:525px; width:100%;\"></div>            <script type=\"text/javascript\">                                    window.PLOTLYENV=window.PLOTLYENV || {};                                    if (document.getElementById(\"8cb6754d-8a77-4e8b-a6c4-f8d4b618d15f\")) {                    Plotly.newPlot(                        \"8cb6754d-8a77-4e8b-a6c4-f8d4b618d15f\",                        [{\"hovertemplate\":\"league=Bundesliga<br>season=%{x}<br>xGChain90=%{y}<extra></extra>\",\"legendgroup\":\"Bundesliga\",\"line\":{\"color\":\"#636efa\",\"dash\":\"solid\"},\"marker\":{\"symbol\":\"circle\"},\"mode\":\"lines\",\"name\":\"Bundesliga\",\"orientation\":\"v\",\"showlegend\":true,\"x\":[2014,2015,2016,2017,2018,2019,2020,2021],\"xaxis\":\"x\",\"y\":[0.32589709518183774,0.44274329900866133,0.42611348603979976,0.49604556256023197,0.5006965782613017,0.5767404228047595,0.5089772567802284,0.44228318290154844],\"yaxis\":\"y\",\"type\":\"scatter\"},{\"hovertemplate\":\"league=EPL<br>season=%{x}<br>xGChain90=%{y}<extra></extra>\",\"legendgroup\":\"EPL\",\"line\":{\"color\":\"#EF553B\",\"dash\":\"solid\"},\"marker\":{\"symbol\":\"circle\"},\"mode\":\"lines\",\"name\":\"EPL\",\"orientation\":\"v\",\"showlegend\":true,\"x\":[2014,2015,2016,2017,2018,2019,2020,2021],\"xaxis\":\"x\",\"y\":[0.3923951945048271,0.3446842656750758,0.38998063967329516,0.47569970633139924,0.4964684409380686,0.5200630658657988,0.46649990016608217,0.541300624374742],\"yaxis\":\"y\",\"type\":\"scatter\"},{\"hovertemplate\":\"league=La_liga<br>season=%{x}<br>xGChain90=%{y}<extra></extra>\",\"legendgroup\":\"La_liga\",\"line\":{\"color\":\"#00cc96\",\"dash\":\"solid\"},\"marker\":{\"symbol\":\"circle\"},\"mode\":\"lines\",\"name\":\"La_liga\",\"orientation\":\"v\",\"showlegend\":true,\"x\":[2014,2015,2016,2017,2018,2019,2020,2021],\"xaxis\":\"x\",\"y\":[0.4388733391221894,0.42119117298083597,0.45932015268699383,0.46062981373684075,0.44054407090959624,0.43473358442549587,0.4726144638643753,0.39839244596768947],\"yaxis\":\"y\",\"type\":\"scatter\"},{\"hovertemplate\":\"league=Ligue_1<br>season=%{x}<br>xGChain90=%{y}<extra></extra>\",\"legendgroup\":\"Ligue_1\",\"line\":{\"color\":\"#ab63fa\",\"dash\":\"solid\"},\"marker\":{\"symbol\":\"circle\"},\"mode\":\"lines\",\"name\":\"Ligue_1\",\"orientation\":\"v\",\"showlegend\":true,\"x\":[2014,2015,2016,2017,2018,2019,2020,2021],\"xaxis\":\"x\",\"y\":[0.3749069089296791,0.368896188028228,0.40968591029651136,0.3925323970379885,0.38109645999267006,0.36584930636924695,0.42334680188293755,0.409460979085248],\"yaxis\":\"y\",\"type\":\"scatter\"},{\"hovertemplate\":\"league=Serie_A<br>season=%{x}<br>xGChain90=%{y}<extra></extra>\",\"legendgroup\":\"Serie_A\",\"line\":{\"color\":\"#FFA15A\",\"dash\":\"solid\"},\"marker\":{\"symbol\":\"circle\"},\"mode\":\"lines\",\"name\":\"Serie_A\",\"orientation\":\"v\",\"showlegend\":true,\"x\":[2014,2015,2016,2017,2018,2019,2020,2021],\"xaxis\":\"x\",\"y\":[0.3701650074894547,0.3810961369993071,0.4505879467542948,0.3946485279210792,0.45674404204964836,0.43694030972660425,0.5124821424769631,0.46972144322821124],\"yaxis\":\"y\",\"type\":\"scatter\"}],                        {\"template\":{\"data\":{\"histogram2dcontour\":[{\"type\":\"histogram2dcontour\",\"colorbar\":{\"outlinewidth\":0,\"ticks\":\"\"},\"colorscale\":[[0.0,\"#0d0887\"],[0.1111111111111111,\"#46039f\"],[0.2222222222222222,\"#7201a8\"],[0.3333333333333333,\"#9c179e\"],[0.4444444444444444,\"#bd3786\"],[0.5555555555555556,\"#d8576b\"],[0.6666666666666666,\"#ed7953\"],[0.7777777777777778,\"#fb9f3a\"],[0.8888888888888888,\"#fdca26\"],[1.0,\"#f0f921\"]]}],\"choropleth\":[{\"type\":\"choropleth\",\"colorbar\":{\"outlinewidth\":0,\"ticks\":\"\"}}],\"histogram2d\":[{\"type\":\"histogram2d\",\"colorbar\":{\"outlinewidth\":0,\"ticks\":\"\"},\"colorscale\":[[0.0,\"#0d0887\"],[0.1111111111111111,\"#46039f\"],[0.2222222222222222,\"#7201a8\"],[0.3333333333333333,\"#9c179e\"],[0.4444444444444444,\"#bd3786\"],[0.5555555555555556,\"#d8576b\"],[0.6666666666666666,\"#ed7953\"],[0.7777777777777778,\"#fb9f3a\"],[0.8888888888888888,\"#fdca26\"],[1.0,\"#f0f921\"]]}],\"heatmap\":[{\"type\":\"heatmap\",\"colorbar\":{\"outlinewidth\":0,\"ticks\":\"\"},\"colorscale\":[[0.0,\"#0d0887\"],[0.1111111111111111,\"#46039f\"],[0.2222222222222222,\"#7201a8\"],[0.3333333333333333,\"#9c179e\"],[0.4444444444444444,\"#bd3786\"],[0.5555555555555556,\"#d8576b\"],[0.6666666666666666,\"#ed7953\"],[0.7777777777777778,\"#fb9f3a\"],[0.8888888888888888,\"#fdca26\"],[1.0,\"#f0f921\"]]}],\"heatmapgl\":[{\"type\":\"heatmapgl\",\"colorbar\":{\"outlinewidth\":0,\"ticks\":\"\"},\"colorscale\":[[0.0,\"#0d0887\"],[0.1111111111111111,\"#46039f\"],[0.2222222222222222,\"#7201a8\"],[0.3333333333333333,\"#9c179e\"],[0.4444444444444444,\"#bd3786\"],[0.5555555555555556,\"#d8576b\"],[0.6666666666666666,\"#ed7953\"],[0.7777777777777778,\"#fb9f3a\"],[0.8888888888888888,\"#fdca26\"],[1.0,\"#f0f921\"]]}],\"contourcarpet\":[{\"type\":\"contourcarpet\",\"colorbar\":{\"outlinewidth\":0,\"ticks\":\"\"}}],\"contour\":[{\"type\":\"contour\",\"colorbar\":{\"outlinewidth\":0,\"ticks\":\"\"},\"colorscale\":[[0.0,\"#0d0887\"],[0.1111111111111111,\"#46039f\"],[0.2222222222222222,\"#7201a8\"],[0.3333333333333333,\"#9c179e\"],[0.4444444444444444,\"#bd3786\"],[0.5555555555555556,\"#d8576b\"],[0.6666666666666666,\"#ed7953\"],[0.7777777777777778,\"#fb9f3a\"],[0.8888888888888888,\"#fdca26\"],[1.0,\"#f0f921\"]]}],\"surface\":[{\"type\":\"surface\",\"colorbar\":{\"outlinewidth\":0,\"ticks\":\"\"},\"colorscale\":[[0.0,\"#0d0887\"],[0.1111111111111111,\"#46039f\"],[0.2222222222222222,\"#7201a8\"],[0.3333333333333333,\"#9c179e\"],[0.4444444444444444,\"#bd3786\"],[0.5555555555555556,\"#d8576b\"],[0.6666666666666666,\"#ed7953\"],[0.7777777777777778,\"#fb9f3a\"],[0.8888888888888888,\"#fdca26\"],[1.0,\"#f0f921\"]]}],\"mesh3d\":[{\"type\":\"mesh3d\",\"colorbar\":{\"outlinewidth\":0,\"ticks\":\"\"}}],\"scatter\":[{\"fillpattern\":{\"fillmode\":\"overlay\",\"size\":10,\"solidity\":0.2},\"type\":\"scatter\"}],\"parcoords\":[{\"type\":\"parcoords\",\"line\":{\"colorbar\":{\"outlinewidth\":0,\"ticks\":\"\"}}}],\"scatterpolargl\":[{\"type\":\"scatterpolargl\",\"marker\":{\"colorbar\":{\"outlinewidth\":0,\"ticks\":\"\"}}}],\"bar\":[{\"error_x\":{\"color\":\"#2a3f5f\"},\"error_y\":{\"color\":\"#2a3f5f\"},\"marker\":{\"line\":{\"color\":\"#E5ECF6\",\"width\":0.5},\"pattern\":{\"fillmode\":\"overlay\",\"size\":10,\"solidity\":0.2}},\"type\":\"bar\"}],\"scattergeo\":[{\"type\":\"scattergeo\",\"marker\":{\"colorbar\":{\"outlinewidth\":0,\"ticks\":\"\"}}}],\"scatterpolar\":[{\"type\":\"scatterpolar\",\"marker\":{\"colorbar\":{\"outlinewidth\":0,\"ticks\":\"\"}}}],\"histogram\":[{\"marker\":{\"pattern\":{\"fillmode\":\"overlay\",\"size\":10,\"solidity\":0.2}},\"type\":\"histogram\"}],\"scattergl\":[{\"type\":\"scattergl\",\"marker\":{\"colorbar\":{\"outlinewidth\":0,\"ticks\":\"\"}}}],\"scatter3d\":[{\"type\":\"scatter3d\",\"line\":{\"colorbar\":{\"outlinewidth\":0,\"ticks\":\"\"}},\"marker\":{\"colorbar\":{\"outlinewidth\":0,\"ticks\":\"\"}}}],\"scattermapbox\":[{\"type\":\"scattermapbox\",\"marker\":{\"colorbar\":{\"outlinewidth\":0,\"ticks\":\"\"}}}],\"scatterternary\":[{\"type\":\"scatterternary\",\"marker\":{\"colorbar\":{\"outlinewidth\":0,\"ticks\":\"\"}}}],\"scattercarpet\":[{\"type\":\"scattercarpet\",\"marker\":{\"colorbar\":{\"outlinewidth\":0,\"ticks\":\"\"}}}],\"carpet\":[{\"aaxis\":{\"endlinecolor\":\"#2a3f5f\",\"gridcolor\":\"white\",\"linecolor\":\"white\",\"minorgridcolor\":\"white\",\"startlinecolor\":\"#2a3f5f\"},\"baxis\":{\"endlinecolor\":\"#2a3f5f\",\"gridcolor\":\"white\",\"linecolor\":\"white\",\"minorgridcolor\":\"white\",\"startlinecolor\":\"#2a3f5f\"},\"type\":\"carpet\"}],\"table\":[{\"cells\":{\"fill\":{\"color\":\"#EBF0F8\"},\"line\":{\"color\":\"white\"}},\"header\":{\"fill\":{\"color\":\"#C8D4E3\"},\"line\":{\"color\":\"white\"}},\"type\":\"table\"}],\"barpolar\":[{\"marker\":{\"line\":{\"color\":\"#E5ECF6\",\"width\":0.5},\"pattern\":{\"fillmode\":\"overlay\",\"size\":10,\"solidity\":0.2}},\"type\":\"barpolar\"}],\"pie\":[{\"automargin\":true,\"type\":\"pie\"}]},\"layout\":{\"autotypenumbers\":\"strict\",\"colorway\":[\"#636efa\",\"#EF553B\",\"#00cc96\",\"#ab63fa\",\"#FFA15A\",\"#19d3f3\",\"#FF6692\",\"#B6E880\",\"#FF97FF\",\"#FECB52\"],\"font\":{\"color\":\"#2a3f5f\"},\"hovermode\":\"closest\",\"hoverlabel\":{\"align\":\"left\"},\"paper_bgcolor\":\"white\",\"plot_bgcolor\":\"#E5ECF6\",\"polar\":{\"bgcolor\":\"#E5ECF6\",\"angularaxis\":{\"gridcolor\":\"white\",\"linecolor\":\"white\",\"ticks\":\"\"},\"radialaxis\":{\"gridcolor\":\"white\",\"linecolor\":\"white\",\"ticks\":\"\"}},\"ternary\":{\"bgcolor\":\"#E5ECF6\",\"aaxis\":{\"gridcolor\":\"white\",\"linecolor\":\"white\",\"ticks\":\"\"},\"baxis\":{\"gridcolor\":\"white\",\"linecolor\":\"white\",\"ticks\":\"\"},\"caxis\":{\"gridcolor\":\"white\",\"linecolor\":\"white\",\"ticks\":\"\"}},\"coloraxis\":{\"colorbar\":{\"outlinewidth\":0,\"ticks\":\"\"}},\"colorscale\":{\"sequential\":[[0.0,\"#0d0887\"],[0.1111111111111111,\"#46039f\"],[0.2222222222222222,\"#7201a8\"],[0.3333333333333333,\"#9c179e\"],[0.4444444444444444,\"#bd3786\"],[0.5555555555555556,\"#d8576b\"],[0.6666666666666666,\"#ed7953\"],[0.7777777777777778,\"#fb9f3a\"],[0.8888888888888888,\"#fdca26\"],[1.0,\"#f0f921\"]],\"sequentialminus\":[[0.0,\"#0d0887\"],[0.1111111111111111,\"#46039f\"],[0.2222222222222222,\"#7201a8\"],[0.3333333333333333,\"#9c179e\"],[0.4444444444444444,\"#bd3786\"],[0.5555555555555556,\"#d8576b\"],[0.6666666666666666,\"#ed7953\"],[0.7777777777777778,\"#fb9f3a\"],[0.8888888888888888,\"#fdca26\"],[1.0,\"#f0f921\"]],\"diverging\":[[0,\"#8e0152\"],[0.1,\"#c51b7d\"],[0.2,\"#de77ae\"],[0.3,\"#f1b6da\"],[0.4,\"#fde0ef\"],[0.5,\"#f7f7f7\"],[0.6,\"#e6f5d0\"],[0.7,\"#b8e186\"],[0.8,\"#7fbc41\"],[0.9,\"#4d9221\"],[1,\"#276419\"]]},\"xaxis\":{\"gridcolor\":\"white\",\"linecolor\":\"white\",\"ticks\":\"\",\"title\":{\"standoff\":15},\"zerolinecolor\":\"white\",\"automargin\":true,\"zerolinewidth\":2},\"yaxis\":{\"gridcolor\":\"white\",\"linecolor\":\"white\",\"ticks\":\"\",\"title\":{\"standoff\":15},\"zerolinecolor\":\"white\",\"automargin\":true,\"zerolinewidth\":2},\"scene\":{\"xaxis\":{\"backgroundcolor\":\"#E5ECF6\",\"gridcolor\":\"white\",\"linecolor\":\"white\",\"showbackground\":true,\"ticks\":\"\",\"zerolinecolor\":\"white\",\"gridwidth\":2},\"yaxis\":{\"backgroundcolor\":\"#E5ECF6\",\"gridcolor\":\"white\",\"linecolor\":\"white\",\"showbackground\":true,\"ticks\":\"\",\"zerolinecolor\":\"white\",\"gridwidth\":2},\"zaxis\":{\"backgroundcolor\":\"#E5ECF6\",\"gridcolor\":\"white\",\"linecolor\":\"white\",\"showbackground\":true,\"ticks\":\"\",\"zerolinecolor\":\"white\",\"gridwidth\":2}},\"shapedefaults\":{\"line\":{\"color\":\"#2a3f5f\"}},\"annotationdefaults\":{\"arrowcolor\":\"#2a3f5f\",\"arrowhead\":0,\"arrowwidth\":1},\"geo\":{\"bgcolor\":\"white\",\"landcolor\":\"#E5ECF6\",\"subunitcolor\":\"white\",\"showland\":true,\"showlakes\":true,\"lakecolor\":\"white\"},\"title\":{\"x\":0.05},\"mapbox\":{\"style\":\"light\"}}},\"xaxis\":{\"anchor\":\"y\",\"domain\":[0.0,1.0],\"title\":{\"text\":\"season\"}},\"yaxis\":{\"anchor\":\"x\",\"domain\":[0.0,1.0],\"title\":{\"text\":\"xGChain90\"}},\"legend\":{\"title\":{\"text\":\"league\"},\"tracegroupgap\":0},\"margin\":{\"t\":60}},                        {\"responsive\": true}                    ).then(function(){\n                            \nvar gd = document.getElementById('8cb6754d-8a77-4e8b-a6c4-f8d4b618d15f');\nvar x = new MutationObserver(function (mutations, observer) {{\n        var display = window.getComputedStyle(gd).display;\n        if (!display || display === 'none') {{\n            console.log([gd, 'removed!']);\n            Plotly.purge(gd);\n            observer.disconnect();\n        }}\n}});\n\n// Listen for the removal of the full notebook cells\nvar notebookContainer = gd.closest('#notebook-container');\nif (notebookContainer) {{\n    x.observe(notebookContainer, {childList: true});\n}}\n\n// Listen for the clearing of the current output cell\nvar outputEl = gd.closest('.output');\nif (outputEl) {{\n    x.observe(outputEl, {childList: true});\n}}\n\n                        })                };                            </script>        </div>\n</body>\n</html>"
     },
     "metadata": {},
     "output_type": "display_data"
    }
   ]
  },
  {
   "cell_type": "markdown",
   "source": "![Average_xGChain90](Average_xGChain90.png)",
   "metadata": {
    "cell_id": "9c450d8f755c4a39942996525f9a3651",
    "tags": [],
    "deepnote_app_coordinates": {
     "x": 0,
     "y": 0,
     "w": 12,
     "h": 5
    },
    "deepnote_cell_type": "markdown",
    "deepnote_cell_height": 70
   }
  },
  {
   "cell_type": "markdown",
   "source": "Actually this is not as I expected. My desired scenario is that at least for some leagues, `xGChain90` grows annually. \n\nHowever, hoping wingbacks involve in attacking more and more **each year** might be too optimistic. So I take another point of view, namely in a specific period.",
   "metadata": {
    "cell_id": "00037-3552dac0-dd85-491c-8656-f504990e92af",
    "deepnote_app_coordinates": {
     "x": 0,
     "y": 108,
     "w": 12,
     "h": 5
    },
    "deepnote_cell_type": "markdown",
    "deepnote_cell_height": 111.1875
   }
  },
  {
   "cell_type": "markdown",
   "source": "### A2. Consider each 4 years\n***",
   "metadata": {
    "cell_id": "00038-5d1f65dc-080b-4444-ae88-2db7cf6ab378",
    "deepnote_app_coordinates": {
     "x": 0,
     "y": 114,
     "w": 12,
     "h": 5
    },
    "deepnote_cell_type": "markdown",
    "deepnote_cell_height": 79
   }
  },
  {
   "cell_type": "markdown",
   "source": "First, check the data again",
   "metadata": {
    "cell_id": "2cc7e087-dede-425a-8aab-c1e6b56e5bcb",
    "tags": [],
    "deepnote_app_coordinates": {
     "x": 0,
     "y": 120,
     "w": 12,
     "h": 5
    },
    "deepnote_cell_type": "markdown",
    "deepnote_cell_height": 52.390625
   }
  },
  {
   "cell_type": "code",
   "metadata": {
    "cell_id": "35d8e238-0f95-4eba-af0e-1d5138815cc0",
    "tags": [],
    "deepnote_to_be_reexecuted": false,
    "source_hash": "74d8e3a9",
    "execution_start": 1654031068055,
    "execution_millis": 161,
    "deepnote_app_coordinates": {
     "x": 0,
     "y": 126,
     "w": 12,
     "h": 5
    },
    "deepnote_cell_type": "code",
    "deepnote_cell_height": 616.796875
   },
   "source": "df.round(2)",
   "execution_count": 9,
   "outputs": [
    {
     "output_type": "execute_result",
     "execution_count": 9,
     "data": {
      "application/vnd.deepnote.dataframe.v3+json": {
       "column_count": 12,
       "row_count": 40,
       "columns": [
        {
         "name": "league",
         "dtype": "object",
         "stats": {
          "unique_count": 5,
          "nan_count": 0,
          "categories": [
           {
            "name": "Bundesliga",
            "count": 8
           },
           {
            "name": "EPL",
            "count": 8
           },
           {
            "name": "3 others",
            "count": 24
           }
          ]
         }
        },
        {
         "name": "season",
         "dtype": "int64",
         "stats": {
          "unique_count": 8,
          "nan_count": 0,
          "min": "2014",
          "max": "2021",
          "histogram": [
           {
            "bin_start": 2014,
            "bin_end": 2014.7,
            "count": 5
           },
           {
            "bin_start": 2014.7,
            "bin_end": 2015.4,
            "count": 5
           },
           {
            "bin_start": 2015.4,
            "bin_end": 2016.1,
            "count": 5
           },
           {
            "bin_start": 2016.1,
            "bin_end": 2016.8,
            "count": 0
           },
           {
            "bin_start": 2016.8,
            "bin_end": 2017.5,
            "count": 5
           },
           {
            "bin_start": 2017.5,
            "bin_end": 2018.2,
            "count": 5
           },
           {
            "bin_start": 2018.2,
            "bin_end": 2018.9,
            "count": 0
           },
           {
            "bin_start": 2018.9,
            "bin_end": 2019.6,
            "count": 5
           },
           {
            "bin_start": 2019.6,
            "bin_end": 2020.3,
            "count": 5
           },
           {
            "bin_start": 2020.3,
            "bin_end": 2021,
            "count": 5
           }
          ]
         }
        },
        {
         "name": "goals",
         "dtype": "int64",
         "stats": {
          "unique_count": 17,
          "nan_count": 0,
          "min": "8",
          "max": "35",
          "histogram": [
           {
            "bin_start": 8,
            "bin_end": 10.7,
            "count": 13
           },
           {
            "bin_start": 10.7,
            "bin_end": 13.4,
            "count": 3
           },
           {
            "bin_start": 13.4,
            "bin_end": 16.1,
            "count": 9
           },
           {
            "bin_start": 16.1,
            "bin_end": 18.8,
            "count": 2
           },
           {
            "bin_start": 18.8,
            "bin_end": 21.5,
            "count": 8
           },
           {
            "bin_start": 21.5,
            "bin_end": 24.200000000000003,
            "count": 2
           },
           {
            "bin_start": 24.200000000000003,
            "bin_end": 26.900000000000002,
            "count": 0
           },
           {
            "bin_start": 26.900000000000002,
            "bin_end": 29.6,
            "count": 1
           },
           {
            "bin_start": 29.6,
            "bin_end": 32.3,
            "count": 0
           },
           {
            "bin_start": 32.3,
            "bin_end": 35,
            "count": 2
           }
          ]
         }
        },
        {
         "name": "assists",
         "dtype": "int64",
         "stats": {
          "unique_count": 25,
          "nan_count": 0,
          "min": "15",
          "max": "69",
          "histogram": [
           {
            "bin_start": 15,
            "bin_end": 20.4,
            "count": 2
           },
           {
            "bin_start": 20.4,
            "bin_end": 25.8,
            "count": 6
           },
           {
            "bin_start": 25.8,
            "bin_end": 31.200000000000003,
            "count": 4
           },
           {
            "bin_start": 31.200000000000003,
            "bin_end": 36.6,
            "count": 8
           },
           {
            "bin_start": 36.6,
            "bin_end": 42,
            "count": 7
           },
           {
            "bin_start": 42,
            "bin_end": 47.400000000000006,
            "count": 7
           },
           {
            "bin_start": 47.400000000000006,
            "bin_end": 52.800000000000004,
            "count": 4
           },
           {
            "bin_start": 52.800000000000004,
            "bin_end": 58.2,
            "count": 1
           },
           {
            "bin_start": 58.2,
            "bin_end": 63.6,
            "count": 0
           },
           {
            "bin_start": 63.6,
            "bin_end": 69,
            "count": 1
           }
          ]
         }
        },
        {
         "name": "key_passes",
         "dtype": "int64",
         "stats": {
          "unique_count": 36,
          "nan_count": 0,
          "min": "126",
          "max": "468",
          "histogram": [
           {
            "bin_start": 126,
            "bin_end": 160.2,
            "count": 1
           },
           {
            "bin_start": 160.2,
            "bin_end": 194.4,
            "count": 2
           },
           {
            "bin_start": 194.4,
            "bin_end": 228.60000000000002,
            "count": 2
           },
           {
            "bin_start": 228.60000000000002,
            "bin_end": 262.8,
            "count": 3
           },
           {
            "bin_start": 262.8,
            "bin_end": 297,
            "count": 5
           },
           {
            "bin_start": 297,
            "bin_end": 331.20000000000005,
            "count": 13
           },
           {
            "bin_start": 331.20000000000005,
            "bin_end": 365.40000000000003,
            "count": 8
           },
           {
            "bin_start": 365.40000000000003,
            "bin_end": 399.6,
            "count": 2
           },
           {
            "bin_start": 399.6,
            "bin_end": 433.8,
            "count": 2
           },
           {
            "bin_start": 433.8,
            "bin_end": 468,
            "count": 2
           }
          ]
         }
        },
        {
         "name": "xG",
         "dtype": "float64",
         "stats": {
          "unique_count": 39,
          "nan_count": 0,
          "min": "6.22",
          "max": "33.0",
          "histogram": [
           {
            "bin_start": 6.22,
            "bin_end": 8.898,
            "count": 2
           },
           {
            "bin_start": 8.898,
            "bin_end": 11.576,
            "count": 8
           },
           {
            "bin_start": 11.576,
            "bin_end": 14.253999999999998,
            "count": 8
           },
           {
            "bin_start": 14.253999999999998,
            "bin_end": 16.932,
            "count": 7
           },
           {
            "bin_start": 16.932,
            "bin_end": 19.61,
            "count": 9
           },
           {
            "bin_start": 19.61,
            "bin_end": 22.287999999999997,
            "count": 3
           },
           {
            "bin_start": 22.287999999999997,
            "bin_end": 24.965999999999998,
            "count": 1
           },
           {
            "bin_start": 24.965999999999998,
            "bin_end": 27.644,
            "count": 0
           },
           {
            "bin_start": 27.644,
            "bin_end": 30.322,
            "count": 1
           },
           {
            "bin_start": 30.322,
            "bin_end": 33,
            "count": 1
           }
          ]
         }
        },
        {
         "name": "xA",
         "dtype": "float64",
         "stats": {
          "unique_count": 40,
          "nan_count": 0,
          "min": "16.26",
          "max": "55.3",
          "histogram": [
           {
            "bin_start": 16.26,
            "bin_end": 20.164,
            "count": 2
           },
           {
            "bin_start": 20.164,
            "bin_end": 24.067999999999998,
            "count": 4
           },
           {
            "bin_start": 24.067999999999998,
            "bin_end": 27.971999999999998,
            "count": 2
           },
           {
            "bin_start": 27.971999999999998,
            "bin_end": 31.875999999999998,
            "count": 5
           },
           {
            "bin_start": 31.875999999999998,
            "bin_end": 35.78,
            "count": 5
           },
           {
            "bin_start": 35.78,
            "bin_end": 39.684,
            "count": 6
           },
           {
            "bin_start": 39.684,
            "bin_end": 43.587999999999994,
            "count": 7
           },
           {
            "bin_start": 43.587999999999994,
            "bin_end": 47.49199999999999,
            "count": 7
           },
           {
            "bin_start": 47.49199999999999,
            "bin_end": 51.39599999999999,
            "count": 1
           },
           {
            "bin_start": 51.39599999999999,
            "bin_end": 55.3,
            "count": 1
           }
          ]
         }
        },
        {
         "name": "time",
         "dtype": "int64",
         "stats": {
          "unique_count": 40,
          "nan_count": 0,
          "min": "14127",
          "max": "33007",
          "histogram": [
           {
            "bin_start": 14127,
            "bin_end": 16015,
            "count": 3
           },
           {
            "bin_start": 16015,
            "bin_end": 17903,
            "count": 2
           },
           {
            "bin_start": 17903,
            "bin_end": 19791,
            "count": 0
           },
           {
            "bin_start": 19791,
            "bin_end": 21679,
            "count": 2
           },
           {
            "bin_start": 21679,
            "bin_end": 23567,
            "count": 1
           },
           {
            "bin_start": 23567,
            "bin_end": 25455,
            "count": 5
           },
           {
            "bin_start": 25455,
            "bin_end": 27343,
            "count": 1
           },
           {
            "bin_start": 27343,
            "bin_end": 29231,
            "count": 6
           },
           {
            "bin_start": 29231,
            "bin_end": 31119,
            "count": 6
           },
           {
            "bin_start": 31119,
            "bin_end": 33007,
            "count": 14
           }
          ]
         }
        },
        {
         "name": "shots",
         "dtype": "int64",
         "stats": {
          "unique_count": 33,
          "nan_count": 0,
          "min": "87",
          "max": "298",
          "histogram": [
           {
            "bin_start": 87,
            "bin_end": 108.1,
            "count": 2
           },
           {
            "bin_start": 108.1,
            "bin_end": 129.2,
            "count": 1
           },
           {
            "bin_start": 129.2,
            "bin_end": 150.3,
            "count": 2
           },
           {
            "bin_start": 150.3,
            "bin_end": 171.4,
            "count": 4
           },
           {
            "bin_start": 171.4,
            "bin_end": 192.5,
            "count": 8
           },
           {
            "bin_start": 192.5,
            "bin_end": 213.60000000000002,
            "count": 8
           },
           {
            "bin_start": 213.60000000000002,
            "bin_end": 234.70000000000002,
            "count": 5
           },
           {
            "bin_start": 234.70000000000002,
            "bin_end": 255.8,
            "count": 4
           },
           {
            "bin_start": 255.8,
            "bin_end": 276.9,
            "count": 3
           },
           {
            "bin_start": 276.9,
            "bin_end": 298,
            "count": 3
           }
          ]
         }
        },
        {
         "name": "xGChain",
         "dtype": "float64",
         "stats": {
          "unique_count": 39,
          "nan_count": 0,
          "min": "66.68",
          "max": "185.26",
          "histogram": [
           {
            "bin_start": 66.68,
            "bin_end": 78.53800000000001,
            "count": 3
           },
           {
            "bin_start": 78.53800000000001,
            "bin_end": 90.396,
            "count": 1
           },
           {
            "bin_start": 90.396,
            "bin_end": 102.254,
            "count": 4
           },
           {
            "bin_start": 102.254,
            "bin_end": 114.112,
            "count": 1
           },
           {
            "bin_start": 114.112,
            "bin_end": 125.97,
            "count": 7
           },
           {
            "bin_start": 125.97,
            "bin_end": 137.828,
            "count": 4
           },
           {
            "bin_start": 137.828,
            "bin_end": 149.68599999999998,
            "count": 7
           },
           {
            "bin_start": 149.68599999999998,
            "bin_end": 161.54399999999998,
            "count": 8
           },
           {
            "bin_start": 161.54399999999998,
            "bin_end": 173.402,
            "count": 2
           },
           {
            "bin_start": 173.402,
            "bin_end": 185.26,
            "count": 3
           }
          ]
         }
        },
        {
         "name": "xGBuildup",
         "dtype": "float64",
         "stats": {
          "unique_count": 40,
          "nan_count": 0,
          "min": "49.52",
          "max": "148.16",
          "histogram": [
           {
            "bin_start": 49.52,
            "bin_end": 59.384,
            "count": 4
           },
           {
            "bin_start": 59.384,
            "bin_end": 69.248,
            "count": 0
           },
           {
            "bin_start": 69.248,
            "bin_end": 79.112,
            "count": 2
           },
           {
            "bin_start": 79.112,
            "bin_end": 88.976,
            "count": 4
           },
           {
            "bin_start": 88.976,
            "bin_end": 98.84,
            "count": 6
           },
           {
            "bin_start": 98.84,
            "bin_end": 108.70400000000001,
            "count": 4
           },
           {
            "bin_start": 108.70400000000001,
            "bin_end": 118.56799999999998,
            "count": 8
           },
           {
            "bin_start": 118.56799999999998,
            "bin_end": 128.432,
            "count": 7
           },
           {
            "bin_start": 128.432,
            "bin_end": 138.296,
            "count": 3
           },
           {
            "bin_start": 138.296,
            "bin_end": 148.16,
            "count": 2
           }
          ]
         }
        },
        {
         "name": "xGChain90",
         "dtype": "float64",
         "stats": {
          "unique_count": 19,
          "nan_count": 0,
          "min": "0.33",
          "max": "0.58",
          "histogram": [
           {
            "bin_start": 0.33,
            "bin_end": 0.355,
            "count": 2
           },
           {
            "bin_start": 0.355,
            "bin_end": 0.38,
            "count": 4
           },
           {
            "bin_start": 0.38,
            "bin_end": 0.405,
            "count": 7
           },
           {
            "bin_start": 0.405,
            "bin_end": 0.43,
            "count": 4
           },
           {
            "bin_start": 0.43,
            "bin_end": 0.45499999999999996,
            "count": 8
           },
           {
            "bin_start": 0.45499999999999996,
            "bin_end": 0.48,
            "count": 6
           },
           {
            "bin_start": 0.48,
            "bin_end": 0.505,
            "count": 4
           },
           {
            "bin_start": 0.505,
            "bin_end": 0.53,
            "count": 3
           },
           {
            "bin_start": 0.53,
            "bin_end": 0.5549999999999999,
            "count": 1
           },
           {
            "bin_start": 0.5549999999999999,
            "bin_end": 0.58,
            "count": 1
           }
          ]
         }
        },
        {
         "name": "_deepnote_index_column",
         "dtype": "int64"
        }
       ],
       "rows": [
        {
         "league": "Bundesliga",
         "season": 2014,
         "goals": 19,
         "assists": 27,
         "key_passes": 304,
         "xG": 17.38,
         "xA": 29.57,
         "time": 28027,
         "shots": 199,
         "xGChain": 101.49,
         "xGBuildup": 78.27,
         "xGChain90": 0.33,
         "_deepnote_index_column": 0
        },
        {
         "league": "Bundesliga",
         "season": 2015,
         "goals": 11,
         "assists": 23,
         "key_passes": 280,
         "xG": 11.86,
         "xA": 27.68,
         "time": 24675,
         "shots": 173,
         "xGChain": 121.39,
         "xGBuildup": 97.04,
         "xGChain90": 0.44,
         "_deepnote_index_column": 1
        },
        {
         "league": "Bundesliga",
         "season": 2016,
         "goals": 16,
         "assists": 23,
         "key_passes": 253,
         "xG": 12.52,
         "xA": 27.87,
         "time": 21018,
         "shots": 173,
         "xGChain": 99.51,
         "xGBuildup": 78.57,
         "xGChain90": 0.43,
         "_deepnote_index_column": 2
        },
        {
         "league": "Bundesliga",
         "season": 2017,
         "goals": 11,
         "assists": 36,
         "key_passes": 285,
         "xG": 12.11,
         "xA": 30.6,
         "time": 21091,
         "shots": 188,
         "xGChain": 116.25,
         "xGBuildup": 94.87,
         "xGChain90": 0.5,
         "_deepnote_index_column": 3
        },
        {
         "league": "Bundesliga",
         "season": 2018,
         "goals": 22,
         "assists": 43,
         "key_passes": 322,
         "xG": 19.7,
         "xA": 46.11,
         "time": 27738,
         "shots": 215,
         "xGChain": 154.31,
         "xGBuildup": 119.19,
         "xGChain90": 0.5,
         "_deepnote_index_column": 4
        },
        {
         "league": "Bundesliga",
         "season": 2019,
         "goals": 33,
         "assists": 36,
         "key_passes": 323,
         "xG": 28.77,
         "xA": 41.97,
         "time": 27164,
         "shots": 242,
         "xGChain": 174.07,
         "xGBuildup": 135.86,
         "xGChain90": 0.58,
         "_deepnote_index_column": 5
        },
        {
         "league": "Bundesliga",
         "season": 2020,
         "goals": 19,
         "assists": 44,
         "key_passes": 318,
         "xG": 18.94,
         "xA": 40.15,
         "time": 24398,
         "shots": 236,
         "xGChain": 137.98,
         "xGBuildup": 101.81,
         "xGChain90": 0.51,
         "_deepnote_index_column": 6
        },
        {
         "league": "Bundesliga",
         "season": 2021,
         "goals": 9,
         "assists": 26,
         "key_passes": 199,
         "xG": 10.98,
         "xA": 23.16,
         "time": 14127,
         "shots": 127,
         "xGChain": 69.42,
         "xGBuildup": 49.52,
         "xGChain90": 0.44,
         "_deepnote_index_column": 7
        },
        {
         "league": "EPL",
         "season": 2014,
         "goals": 15,
         "assists": 32,
         "key_passes": 294,
         "xG": 15.4,
         "xA": 30.34,
         "time": 31080,
         "shots": 199,
         "xGChain": 135.51,
         "xGBuildup": 112.38,
         "xGChain90": 0.39,
         "_deepnote_index_column": 8
        },
        {
         "league": "EPL",
         "season": 2015,
         "goals": 8,
         "assists": 35,
         "key_passes": 311,
         "xG": 10,
         "xA": 34.94,
         "time": 32755,
         "shots": 188,
         "xGChain": 125.45,
         "xGBuildup": 101.4,
         "xGChain90": 0.34,
         "_deepnote_index_column": 9
        }
       ]
      },
      "text/plain": "        league  season  goals  assists  key_passes     xG     xA   time  \\\n0   Bundesliga    2014     19       27         304  17.38  29.57  28027   \n1   Bundesliga    2015     11       23         280  11.86  27.68  24675   \n2   Bundesliga    2016     16       23         253  12.52  27.87  21018   \n3   Bundesliga    2017     11       36         285  12.11  30.60  21091   \n4   Bundesliga    2018     22       43         322  19.70  46.11  27738   \n5   Bundesliga    2019     33       36         323  28.77  41.97  27164   \n6   Bundesliga    2020     19       44         318  18.94  40.15  24398   \n7   Bundesliga    2021      9       26         199  10.98  23.16  14127   \n8          EPL    2014     15       32         294  15.40  30.34  31080   \n9          EPL    2015      8       35         311  10.00  34.94  32755   \n10         EPL    2016     13       19         258  16.25  21.74  23421   \n11         EPL    2017     24       44         380  17.90  41.59  31897   \n12         EPL    2018      9       69         372  14.18  51.16  31463   \n13         EPL    2019     20       50         468  19.39  55.30  32061   \n14         EPL    2020     21       43         459  18.00  45.22  30615   \n15         EPL    2021     16       37         258  13.19  31.88  17533   \n16     La_liga    2014      8       45         328  14.09  39.17  32604   \n17     La_liga    2015     10       41         297   9.69  34.09  33007   \n18     La_liga    2016     15       49         345  16.05  43.26  30841   \n19     La_liga    2017      9       42         342  10.69  44.27  32936   \n20     La_liga    2018     14       36         332  17.60  43.64  30695   \n21     La_liga    2019     14       41         403  15.29  46.38  32199   \n22     La_liga    2020     10       40         363  12.84  42.56  28417   \n23     La_liga    2021      9       22         189   6.22  19.40  15064   \n24     Ligue_1    2014     14       34         297  14.59  36.15  31459   \n25     Ligue_1    2015     27       39         292  24.57  36.90  31372   \n26     Ligue_1    2016     10       52         321  17.25  46.25  32202   \n27     Ligue_1    2017     15       54         321  10.29  40.38  32836   \n28     Ligue_1    2018     17       39         315  15.41  38.23  29556   \n29     Ligue_1    2019      9       22         188   9.90  20.50  23777   \n30     Ligue_1    2020     15       31         310  10.29  36.19  30413   \n31     Ligue_1    2021      8       15         126   6.50  16.26  14779   \n32     Serie_A    2014     17       38         357  17.64  35.43  32228   \n33     Serie_A    2015     19       23         325  15.01  31.83  28549   \n34     Serie_A    2016     10       27         290  10.17  29.26  23749   \n35     Serie_A    2017     20       45         414  21.54  39.86  32672   \n36     Serie_A    2018     10       34         342  12.91  34.45  27356   \n37     Serie_A    2019     21       36         364  19.49  35.88  24488   \n38     Serie_A    2020     35       49         359  33.00  46.69  28353   \n39     Serie_A    2021     19       23         211  19.77  22.77  16490   \n\n    shots  xGChain  xGBuildup  xGChain90  \n0     199   101.49      78.27       0.33  \n1     173   121.39      97.04       0.44  \n2     173    99.51      78.57       0.43  \n3     188   116.25      94.87       0.50  \n4     215   154.31     119.19       0.50  \n5     242   174.07     135.86       0.58  \n6     236   137.98     101.81       0.51  \n7     127    69.42      49.52       0.44  \n8     199   135.51     112.38       0.39  \n9     188   125.45     101.40       0.34  \n10    173   101.49      83.94       0.39  \n11    298   168.59     133.53       0.48  \n12    243   173.56     140.68       0.50  \n13    275   185.26     148.16       0.52  \n14    263   158.69     126.14       0.47  \n15    204   105.45      81.58       0.54  \n16    183   158.99     127.30       0.44  \n17    153   154.47     127.22       0.42  \n18    208   157.40     123.74       0.46  \n19    168   168.57     134.14       0.46  \n20    220   150.25     114.18       0.44  \n21    179   155.53     118.61       0.43  \n22    165   149.23     116.97       0.47  \n23     91    66.68      49.53       0.40  \n24    206   131.05     105.62       0.37  \n25    221   128.59      95.72       0.37  \n26    222   146.59     113.25       0.41  \n27    211   143.21     118.93       0.39  \n28    184   125.15      96.92       0.38  \n29    131    96.65      81.51       0.37  \n30    130   143.06     116.27       0.42  \n31     87    67.24      54.55       0.41  \n32    263   132.55     100.14       0.37  \n33    227   120.89      93.83       0.38  \n34    166   118.90      96.72       0.45  \n35    279   143.27     112.53       0.39  \n36    204   138.83     112.15       0.46  \n37    250   118.89      87.76       0.44  \n38    291   161.45     111.57       0.51  \n39    199    86.06      56.97       0.47  ",
      "text/html": "<div>\n<style scoped>\n    .dataframe tbody tr th:only-of-type {\n        vertical-align: middle;\n    }\n\n    .dataframe tbody tr th {\n        vertical-align: top;\n    }\n\n    .dataframe thead th {\n        text-align: right;\n    }\n</style>\n<table border=\"1\" class=\"dataframe\">\n  <thead>\n    <tr style=\"text-align: right;\">\n      <th></th>\n      <th>league</th>\n      <th>season</th>\n      <th>goals</th>\n      <th>assists</th>\n      <th>key_passes</th>\n      <th>xG</th>\n      <th>xA</th>\n      <th>time</th>\n      <th>shots</th>\n      <th>xGChain</th>\n      <th>xGBuildup</th>\n      <th>xGChain90</th>\n    </tr>\n  </thead>\n  <tbody>\n    <tr>\n      <th>0</th>\n      <td>Bundesliga</td>\n      <td>2014</td>\n      <td>19</td>\n      <td>27</td>\n      <td>304</td>\n      <td>17.38</td>\n      <td>29.57</td>\n      <td>28027</td>\n      <td>199</td>\n      <td>101.49</td>\n      <td>78.27</td>\n      <td>0.33</td>\n    </tr>\n    <tr>\n      <th>1</th>\n      <td>Bundesliga</td>\n      <td>2015</td>\n      <td>11</td>\n      <td>23</td>\n      <td>280</td>\n      <td>11.86</td>\n      <td>27.68</td>\n      <td>24675</td>\n      <td>173</td>\n      <td>121.39</td>\n      <td>97.04</td>\n      <td>0.44</td>\n    </tr>\n    <tr>\n      <th>2</th>\n      <td>Bundesliga</td>\n      <td>2016</td>\n      <td>16</td>\n      <td>23</td>\n      <td>253</td>\n      <td>12.52</td>\n      <td>27.87</td>\n      <td>21018</td>\n      <td>173</td>\n      <td>99.51</td>\n      <td>78.57</td>\n      <td>0.43</td>\n    </tr>\n    <tr>\n      <th>3</th>\n      <td>Bundesliga</td>\n      <td>2017</td>\n      <td>11</td>\n      <td>36</td>\n      <td>285</td>\n      <td>12.11</td>\n      <td>30.60</td>\n      <td>21091</td>\n      <td>188</td>\n      <td>116.25</td>\n      <td>94.87</td>\n      <td>0.50</td>\n    </tr>\n    <tr>\n      <th>4</th>\n      <td>Bundesliga</td>\n      <td>2018</td>\n      <td>22</td>\n      <td>43</td>\n      <td>322</td>\n      <td>19.70</td>\n      <td>46.11</td>\n      <td>27738</td>\n      <td>215</td>\n      <td>154.31</td>\n      <td>119.19</td>\n      <td>0.50</td>\n    </tr>\n    <tr>\n      <th>5</th>\n      <td>Bundesliga</td>\n      <td>2019</td>\n      <td>33</td>\n      <td>36</td>\n      <td>323</td>\n      <td>28.77</td>\n      <td>41.97</td>\n      <td>27164</td>\n      <td>242</td>\n      <td>174.07</td>\n      <td>135.86</td>\n      <td>0.58</td>\n    </tr>\n    <tr>\n      <th>6</th>\n      <td>Bundesliga</td>\n      <td>2020</td>\n      <td>19</td>\n      <td>44</td>\n      <td>318</td>\n      <td>18.94</td>\n      <td>40.15</td>\n      <td>24398</td>\n      <td>236</td>\n      <td>137.98</td>\n      <td>101.81</td>\n      <td>0.51</td>\n    </tr>\n    <tr>\n      <th>7</th>\n      <td>Bundesliga</td>\n      <td>2021</td>\n      <td>9</td>\n      <td>26</td>\n      <td>199</td>\n      <td>10.98</td>\n      <td>23.16</td>\n      <td>14127</td>\n      <td>127</td>\n      <td>69.42</td>\n      <td>49.52</td>\n      <td>0.44</td>\n    </tr>\n    <tr>\n      <th>8</th>\n      <td>EPL</td>\n      <td>2014</td>\n      <td>15</td>\n      <td>32</td>\n      <td>294</td>\n      <td>15.40</td>\n      <td>30.34</td>\n      <td>31080</td>\n      <td>199</td>\n      <td>135.51</td>\n      <td>112.38</td>\n      <td>0.39</td>\n    </tr>\n    <tr>\n      <th>9</th>\n      <td>EPL</td>\n      <td>2015</td>\n      <td>8</td>\n      <td>35</td>\n      <td>311</td>\n      <td>10.00</td>\n      <td>34.94</td>\n      <td>32755</td>\n      <td>188</td>\n      <td>125.45</td>\n      <td>101.40</td>\n      <td>0.34</td>\n    </tr>\n    <tr>\n      <th>10</th>\n      <td>EPL</td>\n      <td>2016</td>\n      <td>13</td>\n      <td>19</td>\n      <td>258</td>\n      <td>16.25</td>\n      <td>21.74</td>\n      <td>23421</td>\n      <td>173</td>\n      <td>101.49</td>\n      <td>83.94</td>\n      <td>0.39</td>\n    </tr>\n    <tr>\n      <th>11</th>\n      <td>EPL</td>\n      <td>2017</td>\n      <td>24</td>\n      <td>44</td>\n      <td>380</td>\n      <td>17.90</td>\n      <td>41.59</td>\n      <td>31897</td>\n      <td>298</td>\n      <td>168.59</td>\n      <td>133.53</td>\n      <td>0.48</td>\n    </tr>\n    <tr>\n      <th>12</th>\n      <td>EPL</td>\n      <td>2018</td>\n      <td>9</td>\n      <td>69</td>\n      <td>372</td>\n      <td>14.18</td>\n      <td>51.16</td>\n      <td>31463</td>\n      <td>243</td>\n      <td>173.56</td>\n      <td>140.68</td>\n      <td>0.50</td>\n    </tr>\n    <tr>\n      <th>13</th>\n      <td>EPL</td>\n      <td>2019</td>\n      <td>20</td>\n      <td>50</td>\n      <td>468</td>\n      <td>19.39</td>\n      <td>55.30</td>\n      <td>32061</td>\n      <td>275</td>\n      <td>185.26</td>\n      <td>148.16</td>\n      <td>0.52</td>\n    </tr>\n    <tr>\n      <th>14</th>\n      <td>EPL</td>\n      <td>2020</td>\n      <td>21</td>\n      <td>43</td>\n      <td>459</td>\n      <td>18.00</td>\n      <td>45.22</td>\n      <td>30615</td>\n      <td>263</td>\n      <td>158.69</td>\n      <td>126.14</td>\n      <td>0.47</td>\n    </tr>\n    <tr>\n      <th>15</th>\n      <td>EPL</td>\n      <td>2021</td>\n      <td>16</td>\n      <td>37</td>\n      <td>258</td>\n      <td>13.19</td>\n      <td>31.88</td>\n      <td>17533</td>\n      <td>204</td>\n      <td>105.45</td>\n      <td>81.58</td>\n      <td>0.54</td>\n    </tr>\n    <tr>\n      <th>16</th>\n      <td>La_liga</td>\n      <td>2014</td>\n      <td>8</td>\n      <td>45</td>\n      <td>328</td>\n      <td>14.09</td>\n      <td>39.17</td>\n      <td>32604</td>\n      <td>183</td>\n      <td>158.99</td>\n      <td>127.30</td>\n      <td>0.44</td>\n    </tr>\n    <tr>\n      <th>17</th>\n      <td>La_liga</td>\n      <td>2015</td>\n      <td>10</td>\n      <td>41</td>\n      <td>297</td>\n      <td>9.69</td>\n      <td>34.09</td>\n      <td>33007</td>\n      <td>153</td>\n      <td>154.47</td>\n      <td>127.22</td>\n      <td>0.42</td>\n    </tr>\n    <tr>\n      <th>18</th>\n      <td>La_liga</td>\n      <td>2016</td>\n      <td>15</td>\n      <td>49</td>\n      <td>345</td>\n      <td>16.05</td>\n      <td>43.26</td>\n      <td>30841</td>\n      <td>208</td>\n      <td>157.40</td>\n      <td>123.74</td>\n      <td>0.46</td>\n    </tr>\n    <tr>\n      <th>19</th>\n      <td>La_liga</td>\n      <td>2017</td>\n      <td>9</td>\n      <td>42</td>\n      <td>342</td>\n      <td>10.69</td>\n      <td>44.27</td>\n      <td>32936</td>\n      <td>168</td>\n      <td>168.57</td>\n      <td>134.14</td>\n      <td>0.46</td>\n    </tr>\n    <tr>\n      <th>20</th>\n      <td>La_liga</td>\n      <td>2018</td>\n      <td>14</td>\n      <td>36</td>\n      <td>332</td>\n      <td>17.60</td>\n      <td>43.64</td>\n      <td>30695</td>\n      <td>220</td>\n      <td>150.25</td>\n      <td>114.18</td>\n      <td>0.44</td>\n    </tr>\n    <tr>\n      <th>21</th>\n      <td>La_liga</td>\n      <td>2019</td>\n      <td>14</td>\n      <td>41</td>\n      <td>403</td>\n      <td>15.29</td>\n      <td>46.38</td>\n      <td>32199</td>\n      <td>179</td>\n      <td>155.53</td>\n      <td>118.61</td>\n      <td>0.43</td>\n    </tr>\n    <tr>\n      <th>22</th>\n      <td>La_liga</td>\n      <td>2020</td>\n      <td>10</td>\n      <td>40</td>\n      <td>363</td>\n      <td>12.84</td>\n      <td>42.56</td>\n      <td>28417</td>\n      <td>165</td>\n      <td>149.23</td>\n      <td>116.97</td>\n      <td>0.47</td>\n    </tr>\n    <tr>\n      <th>23</th>\n      <td>La_liga</td>\n      <td>2021</td>\n      <td>9</td>\n      <td>22</td>\n      <td>189</td>\n      <td>6.22</td>\n      <td>19.40</td>\n      <td>15064</td>\n      <td>91</td>\n      <td>66.68</td>\n      <td>49.53</td>\n      <td>0.40</td>\n    </tr>\n    <tr>\n      <th>24</th>\n      <td>Ligue_1</td>\n      <td>2014</td>\n      <td>14</td>\n      <td>34</td>\n      <td>297</td>\n      <td>14.59</td>\n      <td>36.15</td>\n      <td>31459</td>\n      <td>206</td>\n      <td>131.05</td>\n      <td>105.62</td>\n      <td>0.37</td>\n    </tr>\n    <tr>\n      <th>25</th>\n      <td>Ligue_1</td>\n      <td>2015</td>\n      <td>27</td>\n      <td>39</td>\n      <td>292</td>\n      <td>24.57</td>\n      <td>36.90</td>\n      <td>31372</td>\n      <td>221</td>\n      <td>128.59</td>\n      <td>95.72</td>\n      <td>0.37</td>\n    </tr>\n    <tr>\n      <th>26</th>\n      <td>Ligue_1</td>\n      <td>2016</td>\n      <td>10</td>\n      <td>52</td>\n      <td>321</td>\n      <td>17.25</td>\n      <td>46.25</td>\n      <td>32202</td>\n      <td>222</td>\n      <td>146.59</td>\n      <td>113.25</td>\n      <td>0.41</td>\n    </tr>\n    <tr>\n      <th>27</th>\n      <td>Ligue_1</td>\n      <td>2017</td>\n      <td>15</td>\n      <td>54</td>\n      <td>321</td>\n      <td>10.29</td>\n      <td>40.38</td>\n      <td>32836</td>\n      <td>211</td>\n      <td>143.21</td>\n      <td>118.93</td>\n      <td>0.39</td>\n    </tr>\n    <tr>\n      <th>28</th>\n      <td>Ligue_1</td>\n      <td>2018</td>\n      <td>17</td>\n      <td>39</td>\n      <td>315</td>\n      <td>15.41</td>\n      <td>38.23</td>\n      <td>29556</td>\n      <td>184</td>\n      <td>125.15</td>\n      <td>96.92</td>\n      <td>0.38</td>\n    </tr>\n    <tr>\n      <th>29</th>\n      <td>Ligue_1</td>\n      <td>2019</td>\n      <td>9</td>\n      <td>22</td>\n      <td>188</td>\n      <td>9.90</td>\n      <td>20.50</td>\n      <td>23777</td>\n      <td>131</td>\n      <td>96.65</td>\n      <td>81.51</td>\n      <td>0.37</td>\n    </tr>\n    <tr>\n      <th>30</th>\n      <td>Ligue_1</td>\n      <td>2020</td>\n      <td>15</td>\n      <td>31</td>\n      <td>310</td>\n      <td>10.29</td>\n      <td>36.19</td>\n      <td>30413</td>\n      <td>130</td>\n      <td>143.06</td>\n      <td>116.27</td>\n      <td>0.42</td>\n    </tr>\n    <tr>\n      <th>31</th>\n      <td>Ligue_1</td>\n      <td>2021</td>\n      <td>8</td>\n      <td>15</td>\n      <td>126</td>\n      <td>6.50</td>\n      <td>16.26</td>\n      <td>14779</td>\n      <td>87</td>\n      <td>67.24</td>\n      <td>54.55</td>\n      <td>0.41</td>\n    </tr>\n    <tr>\n      <th>32</th>\n      <td>Serie_A</td>\n      <td>2014</td>\n      <td>17</td>\n      <td>38</td>\n      <td>357</td>\n      <td>17.64</td>\n      <td>35.43</td>\n      <td>32228</td>\n      <td>263</td>\n      <td>132.55</td>\n      <td>100.14</td>\n      <td>0.37</td>\n    </tr>\n    <tr>\n      <th>33</th>\n      <td>Serie_A</td>\n      <td>2015</td>\n      <td>19</td>\n      <td>23</td>\n      <td>325</td>\n      <td>15.01</td>\n      <td>31.83</td>\n      <td>28549</td>\n      <td>227</td>\n      <td>120.89</td>\n      <td>93.83</td>\n      <td>0.38</td>\n    </tr>\n    <tr>\n      <th>34</th>\n      <td>Serie_A</td>\n      <td>2016</td>\n      <td>10</td>\n      <td>27</td>\n      <td>290</td>\n      <td>10.17</td>\n      <td>29.26</td>\n      <td>23749</td>\n      <td>166</td>\n      <td>118.90</td>\n      <td>96.72</td>\n      <td>0.45</td>\n    </tr>\n    <tr>\n      <th>35</th>\n      <td>Serie_A</td>\n      <td>2017</td>\n      <td>20</td>\n      <td>45</td>\n      <td>414</td>\n      <td>21.54</td>\n      <td>39.86</td>\n      <td>32672</td>\n      <td>279</td>\n      <td>143.27</td>\n      <td>112.53</td>\n      <td>0.39</td>\n    </tr>\n    <tr>\n      <th>36</th>\n      <td>Serie_A</td>\n      <td>2018</td>\n      <td>10</td>\n      <td>34</td>\n      <td>342</td>\n      <td>12.91</td>\n      <td>34.45</td>\n      <td>27356</td>\n      <td>204</td>\n      <td>138.83</td>\n      <td>112.15</td>\n      <td>0.46</td>\n    </tr>\n    <tr>\n      <th>37</th>\n      <td>Serie_A</td>\n      <td>2019</td>\n      <td>21</td>\n      <td>36</td>\n      <td>364</td>\n      <td>19.49</td>\n      <td>35.88</td>\n      <td>24488</td>\n      <td>250</td>\n      <td>118.89</td>\n      <td>87.76</td>\n      <td>0.44</td>\n    </tr>\n    <tr>\n      <th>38</th>\n      <td>Serie_A</td>\n      <td>2020</td>\n      <td>35</td>\n      <td>49</td>\n      <td>359</td>\n      <td>33.00</td>\n      <td>46.69</td>\n      <td>28353</td>\n      <td>291</td>\n      <td>161.45</td>\n      <td>111.57</td>\n      <td>0.51</td>\n    </tr>\n    <tr>\n      <th>39</th>\n      <td>Serie_A</td>\n      <td>2021</td>\n      <td>19</td>\n      <td>23</td>\n      <td>211</td>\n      <td>19.77</td>\n      <td>22.77</td>\n      <td>16490</td>\n      <td>199</td>\n      <td>86.06</td>\n      <td>56.97</td>\n      <td>0.47</td>\n    </tr>\n  </tbody>\n</table>\n</div>"
     },
     "metadata": {}
    }
   ]
  },
  {
   "cell_type": "markdown",
   "source": "For each 4 years, I am interested in only the column `xGChain90` and take the mean value over all leagues. ",
   "metadata": {
    "cell_id": "019cd2d2-3a6f-4c6f-a116-0f021bc23b27",
    "tags": [],
    "deepnote_app_coordinates": {
     "x": 0,
     "y": 132,
     "w": 12,
     "h": 5
    },
    "deepnote_cell_type": "markdown",
    "deepnote_cell_height": 52.390625
   }
  },
  {
   "cell_type": "code",
   "metadata": {
    "cell_id": "e6601e66-b608-4784-b9aa-951fc2683433",
    "tags": [],
    "deepnote_to_be_reexecuted": false,
    "source_hash": "6702d1ce",
    "execution_start": 1654031074626,
    "execution_millis": 18,
    "deepnote_app_coordinates": {
     "x": 0,
     "y": 138,
     "w": 12,
     "h": 5
    },
    "deepnote_cell_type": "code",
    "deepnote_cell_height": 1032
   },
   "source": "# Divide seasons into groups\nperiod1=[2014, 2015, 2016, 2017]\nperiod2=[2018, 2019, 2020, 2021]\n\n# Filter out info in the first period then take the mean of `xGChain90`\ndf1 = df.loc[df['season'].isin(period1)]\na = df1.groupby('league').mean().reset_index()\n\n# We only need 2 columns `league` and `xGChain90`\nb = a.loc[:,['league', 'xGChain90']]\n# Add a column called \"period\" for better view\nb[\"period\"] = \"2014 - 2017\"\n\n\n# Same actions for the second period\ndf2 = df.loc[df['season'].isin(period2)]\nc = df2.groupby('league').mean().reset_index()\n\nd = c.loc[:,['league', 'xGChain90']]\nd[\"period\"] = \"2018 - 2021\"\n\n# Concatenate 2 dataframes into one and call it df_mean\ndf_mean =pd.concat([b,d])\ndf_mean.round(2)\n",
   "execution_count": 10,
   "outputs": [
    {
     "output_type": "execute_result",
     "execution_count": 10,
     "data": {
      "application/vnd.deepnote.dataframe.v3+json": {
       "column_count": 3,
       "row_count": 10,
       "columns": [
        {
         "name": "league",
         "dtype": "object",
         "stats": {
          "unique_count": 5,
          "nan_count": 0,
          "categories": [
           {
            "name": "Bundesliga",
            "count": 2
           },
           {
            "name": "EPL",
            "count": 2
           },
           {
            "name": "3 others",
            "count": 6
           }
          ]
         }
        },
        {
         "name": "xGChain90",
         "dtype": "float64",
         "stats": {
          "unique_count": 7,
          "nan_count": 0,
          "min": "0.39",
          "max": "0.51",
          "histogram": [
           {
            "bin_start": 0.39,
            "bin_end": 0.402,
            "count": 4
           },
           {
            "bin_start": 0.402,
            "bin_end": 0.41400000000000003,
            "count": 0
           },
           {
            "bin_start": 0.41400000000000003,
            "bin_end": 0.42600000000000005,
            "count": 1
           },
           {
            "bin_start": 0.42600000000000005,
            "bin_end": 0.438,
            "count": 0
           },
           {
            "bin_start": 0.438,
            "bin_end": 0.45,
            "count": 1
           },
           {
            "bin_start": 0.45,
            "bin_end": 0.462,
            "count": 1
           },
           {
            "bin_start": 0.462,
            "bin_end": 0.47400000000000003,
            "count": 1
           },
           {
            "bin_start": 0.47400000000000003,
            "bin_end": 0.486,
            "count": 0
           },
           {
            "bin_start": 0.486,
            "bin_end": 0.498,
            "count": 0
           },
           {
            "bin_start": 0.498,
            "bin_end": 0.51,
            "count": 2
           }
          ]
         }
        },
        {
         "name": "period",
         "dtype": "object",
         "stats": {
          "unique_count": 2,
          "nan_count": 0,
          "categories": [
           {
            "name": "2014 - 2017",
            "count": 5
           },
           {
            "name": "2018 - 2021",
            "count": 5
           }
          ]
         }
        },
        {
         "name": "_deepnote_index_column",
         "dtype": "int64"
        }
       ],
       "rows": [
        {
         "league": "Bundesliga",
         "xGChain90": 0.42,
         "period": "2014 - 2017",
         "_deepnote_index_column": 0
        },
        {
         "league": "EPL",
         "xGChain90": 0.4,
         "period": "2014 - 2017",
         "_deepnote_index_column": 1
        },
        {
         "league": "La_liga",
         "xGChain90": 0.45,
         "period": "2014 - 2017",
         "_deepnote_index_column": 2
        },
        {
         "league": "Ligue_1",
         "xGChain90": 0.39,
         "period": "2014 - 2017",
         "_deepnote_index_column": 3
        },
        {
         "league": "Serie_A",
         "xGChain90": 0.4,
         "period": "2014 - 2017",
         "_deepnote_index_column": 4
        },
        {
         "league": "Bundesliga",
         "xGChain90": 0.51,
         "period": "2018 - 2021",
         "_deepnote_index_column": 0
        },
        {
         "league": "EPL",
         "xGChain90": 0.51,
         "period": "2018 - 2021",
         "_deepnote_index_column": 1
        },
        {
         "league": "La_liga",
         "xGChain90": 0.44,
         "period": "2018 - 2021",
         "_deepnote_index_column": 2
        },
        {
         "league": "Ligue_1",
         "xGChain90": 0.39,
         "period": "2018 - 2021",
         "_deepnote_index_column": 3
        },
        {
         "league": "Serie_A",
         "xGChain90": 0.47,
         "period": "2018 - 2021",
         "_deepnote_index_column": 4
        }
       ]
      },
      "text/plain": "       league  xGChain90       period\n0  Bundesliga       0.42  2014 - 2017\n1         EPL       0.40  2014 - 2017\n2     La_liga       0.45  2014 - 2017\n3     Ligue_1       0.39  2014 - 2017\n4     Serie_A       0.40  2014 - 2017\n0  Bundesliga       0.51  2018 - 2021\n1         EPL       0.51  2018 - 2021\n2     La_liga       0.44  2018 - 2021\n3     Ligue_1       0.39  2018 - 2021\n4     Serie_A       0.47  2018 - 2021",
      "text/html": "<div>\n<style scoped>\n    .dataframe tbody tr th:only-of-type {\n        vertical-align: middle;\n    }\n\n    .dataframe tbody tr th {\n        vertical-align: top;\n    }\n\n    .dataframe thead th {\n        text-align: right;\n    }\n</style>\n<table border=\"1\" class=\"dataframe\">\n  <thead>\n    <tr style=\"text-align: right;\">\n      <th></th>\n      <th>league</th>\n      <th>xGChain90</th>\n      <th>period</th>\n    </tr>\n  </thead>\n  <tbody>\n    <tr>\n      <th>0</th>\n      <td>Bundesliga</td>\n      <td>0.42</td>\n      <td>2014 - 2017</td>\n    </tr>\n    <tr>\n      <th>1</th>\n      <td>EPL</td>\n      <td>0.40</td>\n      <td>2014 - 2017</td>\n    </tr>\n    <tr>\n      <th>2</th>\n      <td>La_liga</td>\n      <td>0.45</td>\n      <td>2014 - 2017</td>\n    </tr>\n    <tr>\n      <th>3</th>\n      <td>Ligue_1</td>\n      <td>0.39</td>\n      <td>2014 - 2017</td>\n    </tr>\n    <tr>\n      <th>4</th>\n      <td>Serie_A</td>\n      <td>0.40</td>\n      <td>2014 - 2017</td>\n    </tr>\n    <tr>\n      <th>0</th>\n      <td>Bundesliga</td>\n      <td>0.51</td>\n      <td>2018 - 2021</td>\n    </tr>\n    <tr>\n      <th>1</th>\n      <td>EPL</td>\n      <td>0.51</td>\n      <td>2018 - 2021</td>\n    </tr>\n    <tr>\n      <th>2</th>\n      <td>La_liga</td>\n      <td>0.44</td>\n      <td>2018 - 2021</td>\n    </tr>\n    <tr>\n      <th>3</th>\n      <td>Ligue_1</td>\n      <td>0.39</td>\n      <td>2018 - 2021</td>\n    </tr>\n    <tr>\n      <th>4</th>\n      <td>Serie_A</td>\n      <td>0.47</td>\n      <td>2018 - 2021</td>\n    </tr>\n  </tbody>\n</table>\n</div>"
     },
     "metadata": {}
    }
   ]
  },
  {
   "cell_type": "markdown",
   "source": "Now we draw a simple histogram for this table.",
   "metadata": {
    "cell_id": "b1f21988-ba59-40e4-9601-43fa60f32179",
    "tags": [],
    "deepnote_app_coordinates": {
     "x": 0,
     "y": 144,
     "w": 12,
     "h": 5
    },
    "deepnote_cell_type": "markdown",
    "deepnote_cell_height": 52.390625
   }
  },
  {
   "cell_type": "code",
   "metadata": {
    "cell_id": "1c831972-8b49-4f8b-aacf-c67b42d2a030",
    "tags": [],
    "deepnote_to_be_reexecuted": false,
    "source_hash": "dec78316",
    "execution_start": 1654031077782,
    "execution_millis": 122,
    "deepnote_app_coordinates": {
     "x": 0,
     "y": 150,
     "w": 12,
     "h": 5
    },
    "deepnote_cell_type": "code",
    "deepnote_cell_height": 768,
    "deepnote_output_heights": [
     527
    ]
   },
   "source": "fig_4years=px.histogram(df_mean,x='league',y='xGChain90', color='period',barmode='group',title='Wingbacks',\n    color_discrete_map={#\"2014-2017\":\"blue\",\n                        #\"2018-2021\":\"yellow\"\n                       }\n                       )\nfig_4years.update_layout(yaxis_title=\"xGChain90\")\nfig_4years.update_xaxes(type='category')\n\nfig_4years.show()",
   "execution_count": 11,
   "outputs": [
    {
     "data": {
      "text/html": "<html>\n<head><meta charset=\"utf-8\" /></head>\n<body>\n    <div>            <script src=\"https://cdnjs.cloudflare.com/ajax/libs/mathjax/2.7.5/MathJax.js?config=TeX-AMS-MML_SVG\"></script><script type=\"text/javascript\">if (window.MathJax) {MathJax.Hub.Config({SVG: {font: \"STIX-Web\"}});}</script>                <script type=\"text/javascript\">window.PlotlyConfig = {MathJaxConfig: 'local'};</script>\n        <script src=\"https://cdn.plot.ly/plotly-2.11.1.min.js\"></script>                <div id=\"68a91e70-024f-4a3a-b354-0953252aca08\" class=\"plotly-graph-div\" style=\"height:525px; width:100%;\"></div>            <script type=\"text/javascript\">                                    window.PLOTLYENV=window.PLOTLYENV || {};                                    if (document.getElementById(\"68a91e70-024f-4a3a-b354-0953252aca08\")) {                    Plotly.newPlot(                        \"68a91e70-024f-4a3a-b354-0953252aca08\",                        [{\"alignmentgroup\":\"True\",\"bingroup\":\"x\",\"histfunc\":\"sum\",\"hovertemplate\":\"period=2014 - 2017<br>league=%{x}<br>sum of xGChain90=%{y}<extra></extra>\",\"legendgroup\":\"2014 - 2017\",\"marker\":{\"color\":\"#636efa\",\"pattern\":{\"shape\":\"\"}},\"name\":\"2014 - 2017\",\"offsetgroup\":\"2014 - 2017\",\"orientation\":\"v\",\"showlegend\":true,\"x\":[\"Bundesliga\",\"EPL\",\"La_liga\",\"Ligue_1\",\"Serie_A\"],\"xaxis\":\"x\",\"y\":[0.4226998606976327,0.40068995154614934,0.445003619631715,0.3865053510731017,0.39912440479103395],\"yaxis\":\"y\",\"type\":\"histogram\"},{\"alignmentgroup\":\"True\",\"bingroup\":\"x\",\"histfunc\":\"sum\",\"hovertemplate\":\"period=2018 - 2021<br>league=%{x}<br>sum of xGChain90=%{y}<extra></extra>\",\"legendgroup\":\"2018 - 2021\",\"marker\":{\"color\":\"#EF553B\",\"pattern\":{\"shape\":\"\"}},\"name\":\"2018 - 2021\",\"offsetgroup\":\"2018 - 2021\",\"orientation\":\"v\",\"showlegend\":true,\"x\":[\"Bundesliga\",\"EPL\",\"La_liga\",\"Ligue_1\",\"Serie_A\"],\"xaxis\":\"x\",\"y\":[0.5071743601869595,0.5060830078361729,0.4365711412917892,0.39493838683252563,0.46897198437035675],\"yaxis\":\"y\",\"type\":\"histogram\"}],                        {\"template\":{\"data\":{\"histogram2dcontour\":[{\"type\":\"histogram2dcontour\",\"colorbar\":{\"outlinewidth\":0,\"ticks\":\"\"},\"colorscale\":[[0.0,\"#0d0887\"],[0.1111111111111111,\"#46039f\"],[0.2222222222222222,\"#7201a8\"],[0.3333333333333333,\"#9c179e\"],[0.4444444444444444,\"#bd3786\"],[0.5555555555555556,\"#d8576b\"],[0.6666666666666666,\"#ed7953\"],[0.7777777777777778,\"#fb9f3a\"],[0.8888888888888888,\"#fdca26\"],[1.0,\"#f0f921\"]]}],\"choropleth\":[{\"type\":\"choropleth\",\"colorbar\":{\"outlinewidth\":0,\"ticks\":\"\"}}],\"histogram2d\":[{\"type\":\"histogram2d\",\"colorbar\":{\"outlinewidth\":0,\"ticks\":\"\"},\"colorscale\":[[0.0,\"#0d0887\"],[0.1111111111111111,\"#46039f\"],[0.2222222222222222,\"#7201a8\"],[0.3333333333333333,\"#9c179e\"],[0.4444444444444444,\"#bd3786\"],[0.5555555555555556,\"#d8576b\"],[0.6666666666666666,\"#ed7953\"],[0.7777777777777778,\"#fb9f3a\"],[0.8888888888888888,\"#fdca26\"],[1.0,\"#f0f921\"]]}],\"heatmap\":[{\"type\":\"heatmap\",\"colorbar\":{\"outlinewidth\":0,\"ticks\":\"\"},\"colorscale\":[[0.0,\"#0d0887\"],[0.1111111111111111,\"#46039f\"],[0.2222222222222222,\"#7201a8\"],[0.3333333333333333,\"#9c179e\"],[0.4444444444444444,\"#bd3786\"],[0.5555555555555556,\"#d8576b\"],[0.6666666666666666,\"#ed7953\"],[0.7777777777777778,\"#fb9f3a\"],[0.8888888888888888,\"#fdca26\"],[1.0,\"#f0f921\"]]}],\"heatmapgl\":[{\"type\":\"heatmapgl\",\"colorbar\":{\"outlinewidth\":0,\"ticks\":\"\"},\"colorscale\":[[0.0,\"#0d0887\"],[0.1111111111111111,\"#46039f\"],[0.2222222222222222,\"#7201a8\"],[0.3333333333333333,\"#9c179e\"],[0.4444444444444444,\"#bd3786\"],[0.5555555555555556,\"#d8576b\"],[0.6666666666666666,\"#ed7953\"],[0.7777777777777778,\"#fb9f3a\"],[0.8888888888888888,\"#fdca26\"],[1.0,\"#f0f921\"]]}],\"contourcarpet\":[{\"type\":\"contourcarpet\",\"colorbar\":{\"outlinewidth\":0,\"ticks\":\"\"}}],\"contour\":[{\"type\":\"contour\",\"colorbar\":{\"outlinewidth\":0,\"ticks\":\"\"},\"colorscale\":[[0.0,\"#0d0887\"],[0.1111111111111111,\"#46039f\"],[0.2222222222222222,\"#7201a8\"],[0.3333333333333333,\"#9c179e\"],[0.4444444444444444,\"#bd3786\"],[0.5555555555555556,\"#d8576b\"],[0.6666666666666666,\"#ed7953\"],[0.7777777777777778,\"#fb9f3a\"],[0.8888888888888888,\"#fdca26\"],[1.0,\"#f0f921\"]]}],\"surface\":[{\"type\":\"surface\",\"colorbar\":{\"outlinewidth\":0,\"ticks\":\"\"},\"colorscale\":[[0.0,\"#0d0887\"],[0.1111111111111111,\"#46039f\"],[0.2222222222222222,\"#7201a8\"],[0.3333333333333333,\"#9c179e\"],[0.4444444444444444,\"#bd3786\"],[0.5555555555555556,\"#d8576b\"],[0.6666666666666666,\"#ed7953\"],[0.7777777777777778,\"#fb9f3a\"],[0.8888888888888888,\"#fdca26\"],[1.0,\"#f0f921\"]]}],\"mesh3d\":[{\"type\":\"mesh3d\",\"colorbar\":{\"outlinewidth\":0,\"ticks\":\"\"}}],\"scatter\":[{\"fillpattern\":{\"fillmode\":\"overlay\",\"size\":10,\"solidity\":0.2},\"type\":\"scatter\"}],\"parcoords\":[{\"type\":\"parcoords\",\"line\":{\"colorbar\":{\"outlinewidth\":0,\"ticks\":\"\"}}}],\"scatterpolargl\":[{\"type\":\"scatterpolargl\",\"marker\":{\"colorbar\":{\"outlinewidth\":0,\"ticks\":\"\"}}}],\"bar\":[{\"error_x\":{\"color\":\"#2a3f5f\"},\"error_y\":{\"color\":\"#2a3f5f\"},\"marker\":{\"line\":{\"color\":\"#E5ECF6\",\"width\":0.5},\"pattern\":{\"fillmode\":\"overlay\",\"size\":10,\"solidity\":0.2}},\"type\":\"bar\"}],\"scattergeo\":[{\"type\":\"scattergeo\",\"marker\":{\"colorbar\":{\"outlinewidth\":0,\"ticks\":\"\"}}}],\"scatterpolar\":[{\"type\":\"scatterpolar\",\"marker\":{\"colorbar\":{\"outlinewidth\":0,\"ticks\":\"\"}}}],\"histogram\":[{\"marker\":{\"pattern\":{\"fillmode\":\"overlay\",\"size\":10,\"solidity\":0.2}},\"type\":\"histogram\"}],\"scattergl\":[{\"type\":\"scattergl\",\"marker\":{\"colorbar\":{\"outlinewidth\":0,\"ticks\":\"\"}}}],\"scatter3d\":[{\"type\":\"scatter3d\",\"line\":{\"colorbar\":{\"outlinewidth\":0,\"ticks\":\"\"}},\"marker\":{\"colorbar\":{\"outlinewidth\":0,\"ticks\":\"\"}}}],\"scattermapbox\":[{\"type\":\"scattermapbox\",\"marker\":{\"colorbar\":{\"outlinewidth\":0,\"ticks\":\"\"}}}],\"scatterternary\":[{\"type\":\"scatterternary\",\"marker\":{\"colorbar\":{\"outlinewidth\":0,\"ticks\":\"\"}}}],\"scattercarpet\":[{\"type\":\"scattercarpet\",\"marker\":{\"colorbar\":{\"outlinewidth\":0,\"ticks\":\"\"}}}],\"carpet\":[{\"aaxis\":{\"endlinecolor\":\"#2a3f5f\",\"gridcolor\":\"white\",\"linecolor\":\"white\",\"minorgridcolor\":\"white\",\"startlinecolor\":\"#2a3f5f\"},\"baxis\":{\"endlinecolor\":\"#2a3f5f\",\"gridcolor\":\"white\",\"linecolor\":\"white\",\"minorgridcolor\":\"white\",\"startlinecolor\":\"#2a3f5f\"},\"type\":\"carpet\"}],\"table\":[{\"cells\":{\"fill\":{\"color\":\"#EBF0F8\"},\"line\":{\"color\":\"white\"}},\"header\":{\"fill\":{\"color\":\"#C8D4E3\"},\"line\":{\"color\":\"white\"}},\"type\":\"table\"}],\"barpolar\":[{\"marker\":{\"line\":{\"color\":\"#E5ECF6\",\"width\":0.5},\"pattern\":{\"fillmode\":\"overlay\",\"size\":10,\"solidity\":0.2}},\"type\":\"barpolar\"}],\"pie\":[{\"automargin\":true,\"type\":\"pie\"}]},\"layout\":{\"autotypenumbers\":\"strict\",\"colorway\":[\"#636efa\",\"#EF553B\",\"#00cc96\",\"#ab63fa\",\"#FFA15A\",\"#19d3f3\",\"#FF6692\",\"#B6E880\",\"#FF97FF\",\"#FECB52\"],\"font\":{\"color\":\"#2a3f5f\"},\"hovermode\":\"closest\",\"hoverlabel\":{\"align\":\"left\"},\"paper_bgcolor\":\"white\",\"plot_bgcolor\":\"#E5ECF6\",\"polar\":{\"bgcolor\":\"#E5ECF6\",\"angularaxis\":{\"gridcolor\":\"white\",\"linecolor\":\"white\",\"ticks\":\"\"},\"radialaxis\":{\"gridcolor\":\"white\",\"linecolor\":\"white\",\"ticks\":\"\"}},\"ternary\":{\"bgcolor\":\"#E5ECF6\",\"aaxis\":{\"gridcolor\":\"white\",\"linecolor\":\"white\",\"ticks\":\"\"},\"baxis\":{\"gridcolor\":\"white\",\"linecolor\":\"white\",\"ticks\":\"\"},\"caxis\":{\"gridcolor\":\"white\",\"linecolor\":\"white\",\"ticks\":\"\"}},\"coloraxis\":{\"colorbar\":{\"outlinewidth\":0,\"ticks\":\"\"}},\"colorscale\":{\"sequential\":[[0.0,\"#0d0887\"],[0.1111111111111111,\"#46039f\"],[0.2222222222222222,\"#7201a8\"],[0.3333333333333333,\"#9c179e\"],[0.4444444444444444,\"#bd3786\"],[0.5555555555555556,\"#d8576b\"],[0.6666666666666666,\"#ed7953\"],[0.7777777777777778,\"#fb9f3a\"],[0.8888888888888888,\"#fdca26\"],[1.0,\"#f0f921\"]],\"sequentialminus\":[[0.0,\"#0d0887\"],[0.1111111111111111,\"#46039f\"],[0.2222222222222222,\"#7201a8\"],[0.3333333333333333,\"#9c179e\"],[0.4444444444444444,\"#bd3786\"],[0.5555555555555556,\"#d8576b\"],[0.6666666666666666,\"#ed7953\"],[0.7777777777777778,\"#fb9f3a\"],[0.8888888888888888,\"#fdca26\"],[1.0,\"#f0f921\"]],\"diverging\":[[0,\"#8e0152\"],[0.1,\"#c51b7d\"],[0.2,\"#de77ae\"],[0.3,\"#f1b6da\"],[0.4,\"#fde0ef\"],[0.5,\"#f7f7f7\"],[0.6,\"#e6f5d0\"],[0.7,\"#b8e186\"],[0.8,\"#7fbc41\"],[0.9,\"#4d9221\"],[1,\"#276419\"]]},\"xaxis\":{\"gridcolor\":\"white\",\"linecolor\":\"white\",\"ticks\":\"\",\"title\":{\"standoff\":15},\"zerolinecolor\":\"white\",\"automargin\":true,\"zerolinewidth\":2},\"yaxis\":{\"gridcolor\":\"white\",\"linecolor\":\"white\",\"ticks\":\"\",\"title\":{\"standoff\":15},\"zerolinecolor\":\"white\",\"automargin\":true,\"zerolinewidth\":2},\"scene\":{\"xaxis\":{\"backgroundcolor\":\"#E5ECF6\",\"gridcolor\":\"white\",\"linecolor\":\"white\",\"showbackground\":true,\"ticks\":\"\",\"zerolinecolor\":\"white\",\"gridwidth\":2},\"yaxis\":{\"backgroundcolor\":\"#E5ECF6\",\"gridcolor\":\"white\",\"linecolor\":\"white\",\"showbackground\":true,\"ticks\":\"\",\"zerolinecolor\":\"white\",\"gridwidth\":2},\"zaxis\":{\"backgroundcolor\":\"#E5ECF6\",\"gridcolor\":\"white\",\"linecolor\":\"white\",\"showbackground\":true,\"ticks\":\"\",\"zerolinecolor\":\"white\",\"gridwidth\":2}},\"shapedefaults\":{\"line\":{\"color\":\"#2a3f5f\"}},\"annotationdefaults\":{\"arrowcolor\":\"#2a3f5f\",\"arrowhead\":0,\"arrowwidth\":1},\"geo\":{\"bgcolor\":\"white\",\"landcolor\":\"#E5ECF6\",\"subunitcolor\":\"white\",\"showland\":true,\"showlakes\":true,\"lakecolor\":\"white\"},\"title\":{\"x\":0.05},\"mapbox\":{\"style\":\"light\"}}},\"xaxis\":{\"anchor\":\"y\",\"domain\":[0.0,1.0],\"title\":{\"text\":\"league\"},\"type\":\"category\"},\"yaxis\":{\"anchor\":\"x\",\"domain\":[0.0,1.0],\"title\":{\"text\":\"xGChain90\"}},\"legend\":{\"title\":{\"text\":\"period\"},\"tracegroupgap\":0},\"title\":{\"text\":\"Wingbacks\"},\"barmode\":\"group\"},                        {\"responsive\": true}                    ).then(function(){\n                            \nvar gd = document.getElementById('68a91e70-024f-4a3a-b354-0953252aca08');\nvar x = new MutationObserver(function (mutations, observer) {{\n        var display = window.getComputedStyle(gd).display;\n        if (!display || display === 'none') {{\n            console.log([gd, 'removed!']);\n            Plotly.purge(gd);\n            observer.disconnect();\n        }}\n}});\n\n// Listen for the removal of the full notebook cells\nvar notebookContainer = gd.closest('#notebook-container');\nif (notebookContainer) {{\n    x.observe(notebookContainer, {childList: true});\n}}\n\n// Listen for the clearing of the current output cell\nvar outputEl = gd.closest('.output');\nif (outputEl) {{\n    x.observe(outputEl, {childList: true});\n}}\n\n                        })                };                            </script>        </div>\n</body>\n</html>"
     },
     "metadata": {},
     "output_type": "display_data"
    }
   ]
  },
  {
   "cell_type": "markdown",
   "source": "![4year](4year.png)",
   "metadata": {
    "cell_id": "5f638f4286ef4e648d3145daee12c163",
    "tags": [],
    "deepnote_app_coordinates": {
     "x": 0,
     "y": 0,
     "w": 12,
     "h": 5
    },
    "deepnote_cell_type": "markdown",
    "deepnote_cell_height": 595
   }
  },
  {
   "cell_type": "markdown",
   "source": "As we can see, it seems like Wingbacks do attack more over the years. To make it more precisely, I check if this is a trend. To do that, for each season, I take the mean value of `xGChain90` over all leagues.",
   "metadata": {
    "cell_id": "00042-b04d55bf-2762-4db3-b3ed-b232f2e45fcf",
    "deepnote_app_coordinates": {
     "x": 0,
     "y": 156,
     "w": 12,
     "h": 5
    },
    "deepnote_cell_type": "markdown",
    "deepnote_cell_height": 74.796875
   }
  },
  {
   "cell_type": "markdown",
   "source": "### A3. Mean xGChain90 of all leagues\n***",
   "metadata": {
    "cell_id": "00043-c8ff14d3-16b3-42db-ad5f-117d5b334daa",
    "deepnote_app_coordinates": {
     "x": 0,
     "y": 162,
     "w": 12,
     "h": 5
    },
    "deepnote_cell_type": "markdown",
    "deepnote_cell_height": 79
   }
  },
  {
   "cell_type": "code",
   "metadata": {
    "cell_id": "c4c78b67-d959-4e45-8d9b-518a9c068af4",
    "tags": [],
    "deepnote_to_be_reexecuted": false,
    "source_hash": "4003ab0d",
    "execution_start": 1653580494247,
    "execution_millis": 64,
    "deepnote_app_coordinates": {
     "x": 0,
     "y": 168,
     "w": 12,
     "h": 5
    },
    "deepnote_cell_type": "code",
    "deepnote_cell_height": 626
   },
   "source": "# take mean value of all stats\nmean_each_season_allstats = df.groupby(['season']).mean().reset_index()\n\n# filter out only two columns \"season\" and \"xGChain90\"\nxGChain90_mean = mean_each_season_allstats.loc[:,['season', 'xGChain90']]\nxGChain90_mean.round(2)\n",
   "execution_count": null,
   "outputs": [
    {
     "output_type": "execute_result",
     "execution_count": 10,
     "data": {
      "application/vnd.deepnote.dataframe.v3+json": {
       "column_count": 2,
       "row_count": 8,
       "columns": [
        {
         "name": "season",
         "dtype": "int64",
         "stats": {
          "unique_count": 8,
          "nan_count": 0,
          "min": "2014",
          "max": "2021",
          "histogram": [
           {
            "bin_start": 2014,
            "bin_end": 2014.7,
            "count": 1
           },
           {
            "bin_start": 2014.7,
            "bin_end": 2015.4,
            "count": 1
           },
           {
            "bin_start": 2015.4,
            "bin_end": 2016.1,
            "count": 1
           },
           {
            "bin_start": 2016.1,
            "bin_end": 2016.8,
            "count": 0
           },
           {
            "bin_start": 2016.8,
            "bin_end": 2017.5,
            "count": 1
           },
           {
            "bin_start": 2017.5,
            "bin_end": 2018.2,
            "count": 1
           },
           {
            "bin_start": 2018.2,
            "bin_end": 2018.9,
            "count": 0
           },
           {
            "bin_start": 2018.9,
            "bin_end": 2019.6,
            "count": 1
           },
           {
            "bin_start": 2019.6,
            "bin_end": 2020.3,
            "count": 1
           },
           {
            "bin_start": 2020.3,
            "bin_end": 2021,
            "count": 1
           }
          ]
         }
        },
        {
         "name": "xGChain90",
         "dtype": "float64",
         "stats": {
          "unique_count": 8,
          "nan_count": 0,
          "min": "0.38",
          "max": "0.48",
          "histogram": [
           {
            "bin_start": 0.38,
            "bin_end": 0.39,
            "count": 1
           },
           {
            "bin_start": 0.39,
            "bin_end": 0.4,
            "count": 1
           },
           {
            "bin_start": 0.4,
            "bin_end": 0.41,
            "count": 0
           },
           {
            "bin_start": 0.41,
            "bin_end": 0.42,
            "count": 0
           },
           {
            "bin_start": 0.42,
            "bin_end": 0.43,
            "count": 0
           },
           {
            "bin_start": 0.43,
            "bin_end": 0.44,
            "count": 1
           },
           {
            "bin_start": 0.44,
            "bin_end": 0.45,
            "count": 1
           },
           {
            "bin_start": 0.45,
            "bin_end": 0.45999999999999996,
            "count": 1
           },
           {
            "bin_start": 0.45999999999999996,
            "bin_end": 0.47,
            "count": 1
           },
           {
            "bin_start": 0.47,
            "bin_end": 0.48,
            "count": 2
           }
          ]
         }
        },
        {
         "name": "_deepnote_index_column",
         "dtype": "int64"
        }
       ],
       "rows": [
        {
         "season": 2014,
         "xGChain90": 0.38,
         "_deepnote_index_column": 0
        },
        {
         "season": 2015,
         "xGChain90": 0.39,
         "_deepnote_index_column": 1
        },
        {
         "season": 2016,
         "xGChain90": 0.43,
         "_deepnote_index_column": 2
        },
        {
         "season": 2017,
         "xGChain90": 0.44,
         "_deepnote_index_column": 3
        },
        {
         "season": 2018,
         "xGChain90": 0.46,
         "_deepnote_index_column": 4
        },
        {
         "season": 2019,
         "xGChain90": 0.47,
         "_deepnote_index_column": 5
        },
        {
         "season": 2020,
         "xGChain90": 0.48,
         "_deepnote_index_column": 6
        },
        {
         "season": 2021,
         "xGChain90": 0.45,
         "_deepnote_index_column": 7
        }
       ]
      },
      "text/plain": "   season  xGChain90\n0    2014       0.38\n1    2015       0.39\n2    2016       0.43\n3    2017       0.44\n4    2018       0.46\n5    2019       0.47\n6    2020       0.48\n7    2021       0.45",
      "text/html": "<div>\n<style scoped>\n    .dataframe tbody tr th:only-of-type {\n        vertical-align: middle;\n    }\n\n    .dataframe tbody tr th {\n        vertical-align: top;\n    }\n\n    .dataframe thead th {\n        text-align: right;\n    }\n</style>\n<table border=\"1\" class=\"dataframe\">\n  <thead>\n    <tr style=\"text-align: right;\">\n      <th></th>\n      <th>season</th>\n      <th>xGChain90</th>\n    </tr>\n  </thead>\n  <tbody>\n    <tr>\n      <th>0</th>\n      <td>2014</td>\n      <td>0.38</td>\n    </tr>\n    <tr>\n      <th>1</th>\n      <td>2015</td>\n      <td>0.39</td>\n    </tr>\n    <tr>\n      <th>2</th>\n      <td>2016</td>\n      <td>0.43</td>\n    </tr>\n    <tr>\n      <th>3</th>\n      <td>2017</td>\n      <td>0.44</td>\n    </tr>\n    <tr>\n      <th>4</th>\n      <td>2018</td>\n      <td>0.46</td>\n    </tr>\n    <tr>\n      <th>5</th>\n      <td>2019</td>\n      <td>0.47</td>\n    </tr>\n    <tr>\n      <th>6</th>\n      <td>2020</td>\n      <td>0.48</td>\n    </tr>\n    <tr>\n      <th>7</th>\n      <td>2021</td>\n      <td>0.45</td>\n    </tr>\n  </tbody>\n</table>\n</div>"
     },
     "metadata": {}
    }
   ]
  },
  {
   "cell_type": "markdown",
   "source": "Since the season 2021/2022 is not over yet, I remove it from the list of seasons",
   "metadata": {
    "cell_id": "bf687216-149a-4959-84a9-760be67b15c5",
    "tags": [],
    "deepnote_app_coordinates": {
     "x": 0,
     "y": 174,
     "w": 12,
     "h": 5
    },
    "deepnote_cell_type": "markdown",
    "deepnote_cell_height": 52.390625
   }
  },
  {
   "cell_type": "code",
   "metadata": {
    "cell_id": "6cb572ec-ffe9-4e41-9aca-8ff1f1649748",
    "tags": [],
    "deepnote_to_be_reexecuted": false,
    "source_hash": "32ac5c69",
    "execution_start": 1653580494314,
    "execution_millis": 50,
    "deepnote_app_coordinates": {
     "x": 0,
     "y": 180,
     "w": 12,
     "h": 5
    },
    "deepnote_cell_type": "code",
    "deepnote_cell_height": 495
   },
   "source": "xGChain90_mean.drop([7],inplace = True)\nxGChain90_mean.round(2)",
   "execution_count": null,
   "outputs": [
    {
     "output_type": "execute_result",
     "execution_count": 11,
     "data": {
      "application/vnd.deepnote.dataframe.v3+json": {
       "column_count": 2,
       "row_count": 7,
       "columns": [
        {
         "name": "season",
         "dtype": "int64",
         "stats": {
          "unique_count": 7,
          "nan_count": 0,
          "min": "2014",
          "max": "2020",
          "histogram": [
           {
            "bin_start": 2014,
            "bin_end": 2014.6,
            "count": 1
           },
           {
            "bin_start": 2014.6,
            "bin_end": 2015.2,
            "count": 1
           },
           {
            "bin_start": 2015.2,
            "bin_end": 2015.8,
            "count": 0
           },
           {
            "bin_start": 2015.8,
            "bin_end": 2016.4,
            "count": 1
           },
           {
            "bin_start": 2016.4,
            "bin_end": 2017,
            "count": 0
           },
           {
            "bin_start": 2017,
            "bin_end": 2017.6,
            "count": 1
           },
           {
            "bin_start": 2017.6,
            "bin_end": 2018.2,
            "count": 1
           },
           {
            "bin_start": 2018.2,
            "bin_end": 2018.8,
            "count": 0
           },
           {
            "bin_start": 2018.8,
            "bin_end": 2019.4,
            "count": 1
           },
           {
            "bin_start": 2019.4,
            "bin_end": 2020,
            "count": 1
           }
          ]
         }
        },
        {
         "name": "xGChain90",
         "dtype": "float64",
         "stats": {
          "unique_count": 7,
          "nan_count": 0,
          "min": "0.38",
          "max": "0.48",
          "histogram": [
           {
            "bin_start": 0.38,
            "bin_end": 0.39,
            "count": 1
           },
           {
            "bin_start": 0.39,
            "bin_end": 0.4,
            "count": 1
           },
           {
            "bin_start": 0.4,
            "bin_end": 0.41,
            "count": 0
           },
           {
            "bin_start": 0.41,
            "bin_end": 0.42,
            "count": 0
           },
           {
            "bin_start": 0.42,
            "bin_end": 0.43,
            "count": 0
           },
           {
            "bin_start": 0.43,
            "bin_end": 0.44,
            "count": 1
           },
           {
            "bin_start": 0.44,
            "bin_end": 0.45,
            "count": 1
           },
           {
            "bin_start": 0.45,
            "bin_end": 0.45999999999999996,
            "count": 0
           },
           {
            "bin_start": 0.45999999999999996,
            "bin_end": 0.47,
            "count": 1
           },
           {
            "bin_start": 0.47,
            "bin_end": 0.48,
            "count": 2
           }
          ]
         }
        },
        {
         "name": "_deepnote_index_column",
         "dtype": "int64"
        }
       ],
       "rows": [
        {
         "season": 2014,
         "xGChain90": 0.38,
         "_deepnote_index_column": 0
        },
        {
         "season": 2015,
         "xGChain90": 0.39,
         "_deepnote_index_column": 1
        },
        {
         "season": 2016,
         "xGChain90": 0.43,
         "_deepnote_index_column": 2
        },
        {
         "season": 2017,
         "xGChain90": 0.44,
         "_deepnote_index_column": 3
        },
        {
         "season": 2018,
         "xGChain90": 0.46,
         "_deepnote_index_column": 4
        },
        {
         "season": 2019,
         "xGChain90": 0.47,
         "_deepnote_index_column": 5
        },
        {
         "season": 2020,
         "xGChain90": 0.48,
         "_deepnote_index_column": 6
        }
       ]
      },
      "text/plain": "   season  xGChain90\n0    2014       0.38\n1    2015       0.39\n2    2016       0.43\n3    2017       0.44\n4    2018       0.46\n5    2019       0.47\n6    2020       0.48",
      "text/html": "<div>\n<style scoped>\n    .dataframe tbody tr th:only-of-type {\n        vertical-align: middle;\n    }\n\n    .dataframe tbody tr th {\n        vertical-align: top;\n    }\n\n    .dataframe thead th {\n        text-align: right;\n    }\n</style>\n<table border=\"1\" class=\"dataframe\">\n  <thead>\n    <tr style=\"text-align: right;\">\n      <th></th>\n      <th>season</th>\n      <th>xGChain90</th>\n    </tr>\n  </thead>\n  <tbody>\n    <tr>\n      <th>0</th>\n      <td>2014</td>\n      <td>0.38</td>\n    </tr>\n    <tr>\n      <th>1</th>\n      <td>2015</td>\n      <td>0.39</td>\n    </tr>\n    <tr>\n      <th>2</th>\n      <td>2016</td>\n      <td>0.43</td>\n    </tr>\n    <tr>\n      <th>3</th>\n      <td>2017</td>\n      <td>0.44</td>\n    </tr>\n    <tr>\n      <th>4</th>\n      <td>2018</td>\n      <td>0.46</td>\n    </tr>\n    <tr>\n      <th>5</th>\n      <td>2019</td>\n      <td>0.47</td>\n    </tr>\n    <tr>\n      <th>6</th>\n      <td>2020</td>\n      <td>0.48</td>\n    </tr>\n  </tbody>\n</table>\n</div>"
     },
     "metadata": {}
    }
   ]
  },
  {
   "cell_type": "markdown",
   "source": "##### And I get the expected graph",
   "metadata": {
    "cell_id": "eee12b4d-8169-49b8-88cb-4dee9cec9a1f",
    "tags": [],
    "deepnote_app_coordinates": {
     "x": 0,
     "y": 186,
     "w": 12,
     "h": 5
    },
    "deepnote_cell_type": "markdown",
    "deepnote_cell_height": 54
   }
  },
  {
   "cell_type": "code",
   "metadata": {
    "scrolled": true,
    "cell_id": "00046-5114f6fe-0d56-4fb9-8539-e26704d201e2",
    "deepnote_to_be_reexecuted": false,
    "source_hash": "1640f338",
    "execution_start": 1653580494374,
    "execution_millis": 156,
    "deepnote_app_coordinates": {
     "x": 0,
     "y": 192,
     "w": 12,
     "h": 5
    },
    "deepnote_cell_type": "code",
    "deepnote_cell_height": 642,
    "deepnote_output_heights": [
     527
    ]
   },
   "source": "fig = px.line(xGChain90_mean, x=\"season\", y=\"xGChain90\", render_mode=\"svg\") \nfig.show()",
   "execution_count": null,
   "outputs": [
    {
     "data": {
      "text/html": "<html>\n<head><meta charset=\"utf-8\" /></head>\n<body>\n    <div>            <script src=\"https://cdnjs.cloudflare.com/ajax/libs/mathjax/2.7.5/MathJax.js?config=TeX-AMS-MML_SVG\"></script><script type=\"text/javascript\">if (window.MathJax) {MathJax.Hub.Config({SVG: {font: \"STIX-Web\"}});}</script>                <script type=\"text/javascript\">window.PlotlyConfig = {MathJaxConfig: 'local'};</script>\n        <script src=\"https://cdn.plot.ly/plotly-2.11.1.min.js\"></script>                <div id=\"250a35a4-4e5a-4a09-9430-e9ccb3bc4779\" class=\"plotly-graph-div\" style=\"height:525px; width:100%;\"></div>            <script type=\"text/javascript\">                                    window.PLOTLYENV=window.PLOTLYENV || {};                                    if (document.getElementById(\"250a35a4-4e5a-4a09-9430-e9ccb3bc4779\")) {                    Plotly.newPlot(                        \"250a35a4-4e5a-4a09-9430-e9ccb3bc4779\",                        [{\"hovertemplate\":\"season=%{x}<br>xGChain90=%{y}<extra></extra>\",\"legendgroup\":\"\",\"line\":{\"color\":\"#636efa\",\"dash\":\"solid\"},\"marker\":{\"symbol\":\"circle\"},\"mode\":\"lines\",\"name\":\"\",\"orientation\":\"v\",\"showlegend\":false,\"x\":[2014,2015,2016,2017,2018,2019,2020],\"xaxis\":\"x\",\"y\":[0.3804475090455976,0.39172221253842165,0.427137627090179,0.44391120151750785,0.45510991843025694,0.466865337838381,0.47678411303411733],\"yaxis\":\"y\",\"type\":\"scatter\"}],                        {\"template\":{\"data\":{\"histogram2dcontour\":[{\"type\":\"histogram2dcontour\",\"colorbar\":{\"outlinewidth\":0,\"ticks\":\"\"},\"colorscale\":[[0.0,\"#0d0887\"],[0.1111111111111111,\"#46039f\"],[0.2222222222222222,\"#7201a8\"],[0.3333333333333333,\"#9c179e\"],[0.4444444444444444,\"#bd3786\"],[0.5555555555555556,\"#d8576b\"],[0.6666666666666666,\"#ed7953\"],[0.7777777777777778,\"#fb9f3a\"],[0.8888888888888888,\"#fdca26\"],[1.0,\"#f0f921\"]]}],\"choropleth\":[{\"type\":\"choropleth\",\"colorbar\":{\"outlinewidth\":0,\"ticks\":\"\"}}],\"histogram2d\":[{\"type\":\"histogram2d\",\"colorbar\":{\"outlinewidth\":0,\"ticks\":\"\"},\"colorscale\":[[0.0,\"#0d0887\"],[0.1111111111111111,\"#46039f\"],[0.2222222222222222,\"#7201a8\"],[0.3333333333333333,\"#9c179e\"],[0.4444444444444444,\"#bd3786\"],[0.5555555555555556,\"#d8576b\"],[0.6666666666666666,\"#ed7953\"],[0.7777777777777778,\"#fb9f3a\"],[0.8888888888888888,\"#fdca26\"],[1.0,\"#f0f921\"]]}],\"heatmap\":[{\"type\":\"heatmap\",\"colorbar\":{\"outlinewidth\":0,\"ticks\":\"\"},\"colorscale\":[[0.0,\"#0d0887\"],[0.1111111111111111,\"#46039f\"],[0.2222222222222222,\"#7201a8\"],[0.3333333333333333,\"#9c179e\"],[0.4444444444444444,\"#bd3786\"],[0.5555555555555556,\"#d8576b\"],[0.6666666666666666,\"#ed7953\"],[0.7777777777777778,\"#fb9f3a\"],[0.8888888888888888,\"#fdca26\"],[1.0,\"#f0f921\"]]}],\"heatmapgl\":[{\"type\":\"heatmapgl\",\"colorbar\":{\"outlinewidth\":0,\"ticks\":\"\"},\"colorscale\":[[0.0,\"#0d0887\"],[0.1111111111111111,\"#46039f\"],[0.2222222222222222,\"#7201a8\"],[0.3333333333333333,\"#9c179e\"],[0.4444444444444444,\"#bd3786\"],[0.5555555555555556,\"#d8576b\"],[0.6666666666666666,\"#ed7953\"],[0.7777777777777778,\"#fb9f3a\"],[0.8888888888888888,\"#fdca26\"],[1.0,\"#f0f921\"]]}],\"contourcarpet\":[{\"type\":\"contourcarpet\",\"colorbar\":{\"outlinewidth\":0,\"ticks\":\"\"}}],\"contour\":[{\"type\":\"contour\",\"colorbar\":{\"outlinewidth\":0,\"ticks\":\"\"},\"colorscale\":[[0.0,\"#0d0887\"],[0.1111111111111111,\"#46039f\"],[0.2222222222222222,\"#7201a8\"],[0.3333333333333333,\"#9c179e\"],[0.4444444444444444,\"#bd3786\"],[0.5555555555555556,\"#d8576b\"],[0.6666666666666666,\"#ed7953\"],[0.7777777777777778,\"#fb9f3a\"],[0.8888888888888888,\"#fdca26\"],[1.0,\"#f0f921\"]]}],\"surface\":[{\"type\":\"surface\",\"colorbar\":{\"outlinewidth\":0,\"ticks\":\"\"},\"colorscale\":[[0.0,\"#0d0887\"],[0.1111111111111111,\"#46039f\"],[0.2222222222222222,\"#7201a8\"],[0.3333333333333333,\"#9c179e\"],[0.4444444444444444,\"#bd3786\"],[0.5555555555555556,\"#d8576b\"],[0.6666666666666666,\"#ed7953\"],[0.7777777777777778,\"#fb9f3a\"],[0.8888888888888888,\"#fdca26\"],[1.0,\"#f0f921\"]]}],\"mesh3d\":[{\"type\":\"mesh3d\",\"colorbar\":{\"outlinewidth\":0,\"ticks\":\"\"}}],\"scatter\":[{\"fillpattern\":{\"fillmode\":\"overlay\",\"size\":10,\"solidity\":0.2},\"type\":\"scatter\"}],\"parcoords\":[{\"type\":\"parcoords\",\"line\":{\"colorbar\":{\"outlinewidth\":0,\"ticks\":\"\"}}}],\"scatterpolargl\":[{\"type\":\"scatterpolargl\",\"marker\":{\"colorbar\":{\"outlinewidth\":0,\"ticks\":\"\"}}}],\"bar\":[{\"error_x\":{\"color\":\"#2a3f5f\"},\"error_y\":{\"color\":\"#2a3f5f\"},\"marker\":{\"line\":{\"color\":\"#E5ECF6\",\"width\":0.5},\"pattern\":{\"fillmode\":\"overlay\",\"size\":10,\"solidity\":0.2}},\"type\":\"bar\"}],\"scattergeo\":[{\"type\":\"scattergeo\",\"marker\":{\"colorbar\":{\"outlinewidth\":0,\"ticks\":\"\"}}}],\"scatterpolar\":[{\"type\":\"scatterpolar\",\"marker\":{\"colorbar\":{\"outlinewidth\":0,\"ticks\":\"\"}}}],\"histogram\":[{\"marker\":{\"pattern\":{\"fillmode\":\"overlay\",\"size\":10,\"solidity\":0.2}},\"type\":\"histogram\"}],\"scattergl\":[{\"type\":\"scattergl\",\"marker\":{\"colorbar\":{\"outlinewidth\":0,\"ticks\":\"\"}}}],\"scatter3d\":[{\"type\":\"scatter3d\",\"line\":{\"colorbar\":{\"outlinewidth\":0,\"ticks\":\"\"}},\"marker\":{\"colorbar\":{\"outlinewidth\":0,\"ticks\":\"\"}}}],\"scattermapbox\":[{\"type\":\"scattermapbox\",\"marker\":{\"colorbar\":{\"outlinewidth\":0,\"ticks\":\"\"}}}],\"scatterternary\":[{\"type\":\"scatterternary\",\"marker\":{\"colorbar\":{\"outlinewidth\":0,\"ticks\":\"\"}}}],\"scattercarpet\":[{\"type\":\"scattercarpet\",\"marker\":{\"colorbar\":{\"outlinewidth\":0,\"ticks\":\"\"}}}],\"carpet\":[{\"aaxis\":{\"endlinecolor\":\"#2a3f5f\",\"gridcolor\":\"white\",\"linecolor\":\"white\",\"minorgridcolor\":\"white\",\"startlinecolor\":\"#2a3f5f\"},\"baxis\":{\"endlinecolor\":\"#2a3f5f\",\"gridcolor\":\"white\",\"linecolor\":\"white\",\"minorgridcolor\":\"white\",\"startlinecolor\":\"#2a3f5f\"},\"type\":\"carpet\"}],\"table\":[{\"cells\":{\"fill\":{\"color\":\"#EBF0F8\"},\"line\":{\"color\":\"white\"}},\"header\":{\"fill\":{\"color\":\"#C8D4E3\"},\"line\":{\"color\":\"white\"}},\"type\":\"table\"}],\"barpolar\":[{\"marker\":{\"line\":{\"color\":\"#E5ECF6\",\"width\":0.5},\"pattern\":{\"fillmode\":\"overlay\",\"size\":10,\"solidity\":0.2}},\"type\":\"barpolar\"}],\"pie\":[{\"automargin\":true,\"type\":\"pie\"}]},\"layout\":{\"autotypenumbers\":\"strict\",\"colorway\":[\"#636efa\",\"#EF553B\",\"#00cc96\",\"#ab63fa\",\"#FFA15A\",\"#19d3f3\",\"#FF6692\",\"#B6E880\",\"#FF97FF\",\"#FECB52\"],\"font\":{\"color\":\"#2a3f5f\"},\"hovermode\":\"closest\",\"hoverlabel\":{\"align\":\"left\"},\"paper_bgcolor\":\"white\",\"plot_bgcolor\":\"#E5ECF6\",\"polar\":{\"bgcolor\":\"#E5ECF6\",\"angularaxis\":{\"gridcolor\":\"white\",\"linecolor\":\"white\",\"ticks\":\"\"},\"radialaxis\":{\"gridcolor\":\"white\",\"linecolor\":\"white\",\"ticks\":\"\"}},\"ternary\":{\"bgcolor\":\"#E5ECF6\",\"aaxis\":{\"gridcolor\":\"white\",\"linecolor\":\"white\",\"ticks\":\"\"},\"baxis\":{\"gridcolor\":\"white\",\"linecolor\":\"white\",\"ticks\":\"\"},\"caxis\":{\"gridcolor\":\"white\",\"linecolor\":\"white\",\"ticks\":\"\"}},\"coloraxis\":{\"colorbar\":{\"outlinewidth\":0,\"ticks\":\"\"}},\"colorscale\":{\"sequential\":[[0.0,\"#0d0887\"],[0.1111111111111111,\"#46039f\"],[0.2222222222222222,\"#7201a8\"],[0.3333333333333333,\"#9c179e\"],[0.4444444444444444,\"#bd3786\"],[0.5555555555555556,\"#d8576b\"],[0.6666666666666666,\"#ed7953\"],[0.7777777777777778,\"#fb9f3a\"],[0.8888888888888888,\"#fdca26\"],[1.0,\"#f0f921\"]],\"sequentialminus\":[[0.0,\"#0d0887\"],[0.1111111111111111,\"#46039f\"],[0.2222222222222222,\"#7201a8\"],[0.3333333333333333,\"#9c179e\"],[0.4444444444444444,\"#bd3786\"],[0.5555555555555556,\"#d8576b\"],[0.6666666666666666,\"#ed7953\"],[0.7777777777777778,\"#fb9f3a\"],[0.8888888888888888,\"#fdca26\"],[1.0,\"#f0f921\"]],\"diverging\":[[0,\"#8e0152\"],[0.1,\"#c51b7d\"],[0.2,\"#de77ae\"],[0.3,\"#f1b6da\"],[0.4,\"#fde0ef\"],[0.5,\"#f7f7f7\"],[0.6,\"#e6f5d0\"],[0.7,\"#b8e186\"],[0.8,\"#7fbc41\"],[0.9,\"#4d9221\"],[1,\"#276419\"]]},\"xaxis\":{\"gridcolor\":\"white\",\"linecolor\":\"white\",\"ticks\":\"\",\"title\":{\"standoff\":15},\"zerolinecolor\":\"white\",\"automargin\":true,\"zerolinewidth\":2},\"yaxis\":{\"gridcolor\":\"white\",\"linecolor\":\"white\",\"ticks\":\"\",\"title\":{\"standoff\":15},\"zerolinecolor\":\"white\",\"automargin\":true,\"zerolinewidth\":2},\"scene\":{\"xaxis\":{\"backgroundcolor\":\"#E5ECF6\",\"gridcolor\":\"white\",\"linecolor\":\"white\",\"showbackground\":true,\"ticks\":\"\",\"zerolinecolor\":\"white\",\"gridwidth\":2},\"yaxis\":{\"backgroundcolor\":\"#E5ECF6\",\"gridcolor\":\"white\",\"linecolor\":\"white\",\"showbackground\":true,\"ticks\":\"\",\"zerolinecolor\":\"white\",\"gridwidth\":2},\"zaxis\":{\"backgroundcolor\":\"#E5ECF6\",\"gridcolor\":\"white\",\"linecolor\":\"white\",\"showbackground\":true,\"ticks\":\"\",\"zerolinecolor\":\"white\",\"gridwidth\":2}},\"shapedefaults\":{\"line\":{\"color\":\"#2a3f5f\"}},\"annotationdefaults\":{\"arrowcolor\":\"#2a3f5f\",\"arrowhead\":0,\"arrowwidth\":1},\"geo\":{\"bgcolor\":\"white\",\"landcolor\":\"#E5ECF6\",\"subunitcolor\":\"white\",\"showland\":true,\"showlakes\":true,\"lakecolor\":\"white\"},\"title\":{\"x\":0.05},\"mapbox\":{\"style\":\"light\"}}},\"xaxis\":{\"anchor\":\"y\",\"domain\":[0.0,1.0],\"title\":{\"text\":\"season\"}},\"yaxis\":{\"anchor\":\"x\",\"domain\":[0.0,1.0],\"title\":{\"text\":\"xGChain90\"}},\"legend\":{\"tracegroupgap\":0},\"margin\":{\"t\":60}},                        {\"responsive\": true}                    ).then(function(){\n                            \nvar gd = document.getElementById('250a35a4-4e5a-4a09-9430-e9ccb3bc4779');\nvar x = new MutationObserver(function (mutations, observer) {{\n        var display = window.getComputedStyle(gd).display;\n        if (!display || display === 'none') {{\n            console.log([gd, 'removed!']);\n            Plotly.purge(gd);\n            observer.disconnect();\n        }}\n}});\n\n// Listen for the removal of the full notebook cells\nvar notebookContainer = gd.closest('#notebook-container');\nif (notebookContainer) {{\n    x.observe(notebookContainer, {childList: true});\n}}\n\n// Listen for the clearing of the current output cell\nvar outputEl = gd.closest('.output');\nif (outputEl) {{\n    x.observe(outputEl, {childList: true});\n}}\n\n                        })                };                            </script>        </div>\n</body>\n</html>"
     },
     "metadata": {},
     "output_type": "display_data"
    }
   ]
  },
  {
   "cell_type": "markdown",
   "source": "![xGChain90](plot1.png)",
   "metadata": {
    "cell_id": "fdc8cdb008ae41e08d84d7c8080afcb5",
    "tags": [],
    "deepnote_app_coordinates": {
     "x": 0,
     "y": 0,
     "w": 12,
     "h": 5
    },
    "deepnote_cell_type": "markdown",
    "deepnote_cell_height": 595
   }
  },
  {
   "cell_type": "markdown",
   "source": "## B. Best wingbacks so far and radar charts\n***",
   "metadata": {
    "cell_id": "00047-74167377-5f1f-48d2-9e30-003c05ba1cf9",
    "deepnote_app_coordinates": {
     "x": 0,
     "y": 198,
     "w": 12,
     "h": 5
    },
    "deepnote_cell_type": "markdown",
    "deepnote_cell_height": 87
   }
  },
  {
   "cell_type": "markdown",
   "source": "Check back our data",
   "metadata": {
    "cell_id": "de179409-4f61-4fbc-a4f4-af181e2f3338",
    "tags": [],
    "deepnote_app_coordinates": {
     "x": 0,
     "y": 204,
     "w": 12,
     "h": 5
    },
    "deepnote_cell_type": "markdown",
    "deepnote_cell_height": 52.390625
   }
  },
  {
   "cell_type": "code",
   "metadata": {
    "cell_id": "00048-e3bada02-b903-470d-8ea9-3986064fd76f",
    "deepnote_to_be_reexecuted": false,
    "source_hash": "4d5f977f",
    "execution_start": 1653580494536,
    "execution_millis": 200,
    "deepnote_app_coordinates": {
     "x": 0,
     "y": 210,
     "w": 12,
     "h": 5
    },
    "deepnote_cell_type": "code",
    "deepnote_cell_height": 616.796875
   },
   "source": "data.head(10)",
   "execution_count": null,
   "outputs": [
    {
     "output_type": "execute_result",
     "execution_count": 13,
     "data": {
      "application/vnd.deepnote.dataframe.v3+json": {
       "column_count": 15,
       "row_count": 10,
       "columns": [
        {
         "name": "league",
         "dtype": "object",
         "stats": {
          "unique_count": 1,
          "nan_count": 0,
          "categories": [
           {
            "name": "EPL",
            "count": 10
           }
          ]
         }
        },
        {
         "name": "season",
         "dtype": "int64",
         "stats": {
          "unique_count": 1,
          "nan_count": 0,
          "min": "2014",
          "max": "2014",
          "histogram": [
           {
            "bin_start": 2013.5,
            "bin_end": 2013.6,
            "count": 0
           },
           {
            "bin_start": 2013.6,
            "bin_end": 2013.7,
            "count": 0
           },
           {
            "bin_start": 2013.7,
            "bin_end": 2013.8,
            "count": 0
           },
           {
            "bin_start": 2013.8,
            "bin_end": 2013.9,
            "count": 0
           },
           {
            "bin_start": 2013.9,
            "bin_end": 2014,
            "count": 0
           },
           {
            "bin_start": 2014,
            "bin_end": 2014.1,
            "count": 10
           },
           {
            "bin_start": 2014.1,
            "bin_end": 2014.2,
            "count": 0
           },
           {
            "bin_start": 2014.2,
            "bin_end": 2014.3,
            "count": 0
           },
           {
            "bin_start": 2014.3,
            "bin_end": 2014.4,
            "count": 0
           },
           {
            "bin_start": 2014.4,
            "bin_end": 2014.5,
            "count": 0
           }
          ]
         }
        },
        {
         "name": "player",
         "dtype": "object",
         "stats": {
          "unique_count": 8,
          "nan_count": 0,
          "categories": [
           {
            "name": "Branislav Ivanovic",
            "count": 2
           },
           {
            "name": "César Azpilicueta",
            "count": 2
           },
           {
            "name": "6 others",
            "count": 6
           }
          ]
         }
        },
        {
         "name": "team_id",
         "dtype": "int64",
         "stats": {
          "unique_count": 4,
          "nan_count": 0,
          "min": "80",
          "max": "88",
          "histogram": [
           {
            "bin_start": 80,
            "bin_end": 80.8,
            "count": 4
           },
           {
            "bin_start": 80.8,
            "bin_end": 81.6,
            "count": 0
           },
           {
            "bin_start": 81.6,
            "bin_end": 82.4,
            "count": 2
           },
           {
            "bin_start": 82.4,
            "bin_end": 83.2,
            "count": 2
           },
           {
            "bin_start": 83.2,
            "bin_end": 84,
            "count": 0
           },
           {
            "bin_start": 84,
            "bin_end": 84.8,
            "count": 0
           },
           {
            "bin_start": 84.8,
            "bin_end": 85.6,
            "count": 0
           },
           {
            "bin_start": 85.6,
            "bin_end": 86.4,
            "count": 0
           },
           {
            "bin_start": 86.4,
            "bin_end": 87.2,
            "count": 0
           },
           {
            "bin_start": 87.2,
            "bin_end": 88,
            "count": 2
           }
          ]
         }
        },
        {
         "name": "position",
         "dtype": "object",
         "stats": {
          "unique_count": 2,
          "nan_count": 0,
          "categories": [
           {
            "name": "DR",
            "count": 5
           },
           {
            "name": "DL",
            "count": 5
           }
          ]
         }
        },
        {
         "name": "goals",
         "dtype": "int64",
         "stats": {
          "unique_count": 2,
          "nan_count": 0,
          "min": "0",
          "max": "1",
          "histogram": [
           {
            "bin_start": 0,
            "bin_end": 0.1,
            "count": 9
           },
           {
            "bin_start": 0.1,
            "bin_end": 0.2,
            "count": 0
           },
           {
            "bin_start": 0.2,
            "bin_end": 0.30000000000000004,
            "count": 0
           },
           {
            "bin_start": 0.30000000000000004,
            "bin_end": 0.4,
            "count": 0
           },
           {
            "bin_start": 0.4,
            "bin_end": 0.5,
            "count": 0
           },
           {
            "bin_start": 0.5,
            "bin_end": 0.6000000000000001,
            "count": 0
           },
           {
            "bin_start": 0.6000000000000001,
            "bin_end": 0.7000000000000001,
            "count": 0
           },
           {
            "bin_start": 0.7000000000000001,
            "bin_end": 0.8,
            "count": 0
           },
           {
            "bin_start": 0.8,
            "bin_end": 0.9,
            "count": 0
           },
           {
            "bin_start": 0.9,
            "bin_end": 1,
            "count": 1
           }
          ]
         }
        },
        {
         "name": "assists",
         "dtype": "int64",
         "stats": {
          "unique_count": 1,
          "nan_count": 0,
          "min": "0",
          "max": "0",
          "histogram": [
           {
            "bin_start": -0.5,
            "bin_end": -0.4,
            "count": 0
           },
           {
            "bin_start": -0.4,
            "bin_end": -0.3,
            "count": 0
           },
           {
            "bin_start": -0.3,
            "bin_end": -0.19999999999999996,
            "count": 0
           },
           {
            "bin_start": -0.19999999999999996,
            "bin_end": -0.09999999999999998,
            "count": 0
           },
           {
            "bin_start": -0.09999999999999998,
            "bin_end": 0,
            "count": 0
           },
           {
            "bin_start": 0,
            "bin_end": 0.10000000000000009,
            "count": 10
           },
           {
            "bin_start": 0.10000000000000009,
            "bin_end": 0.20000000000000007,
            "count": 0
           },
           {
            "bin_start": 0.20000000000000007,
            "bin_end": 0.30000000000000004,
            "count": 0
           },
           {
            "bin_start": 0.30000000000000004,
            "bin_end": 0.4,
            "count": 0
           },
           {
            "bin_start": 0.4,
            "bin_end": 0.5,
            "count": 0
           }
          ]
         }
        },
        {
         "name": "key_passes",
         "dtype": "int64",
         "stats": {
          "unique_count": 3,
          "nan_count": 0,
          "min": "0",
          "max": "2",
          "histogram": [
           {
            "bin_start": 0,
            "bin_end": 0.2,
            "count": 6
           },
           {
            "bin_start": 0.2,
            "bin_end": 0.4,
            "count": 0
           },
           {
            "bin_start": 0.4,
            "bin_end": 0.6000000000000001,
            "count": 0
           },
           {
            "bin_start": 0.6000000000000001,
            "bin_end": 0.8,
            "count": 0
           },
           {
            "bin_start": 0.8,
            "bin_end": 1,
            "count": 0
           },
           {
            "bin_start": 1,
            "bin_end": 1.2000000000000002,
            "count": 3
           },
           {
            "bin_start": 1.2000000000000002,
            "bin_end": 1.4000000000000001,
            "count": 0
           },
           {
            "bin_start": 1.4000000000000001,
            "bin_end": 1.6,
            "count": 0
           },
           {
            "bin_start": 1.6,
            "bin_end": 1.8,
            "count": 0
           },
           {
            "bin_start": 1.8,
            "bin_end": 2,
            "count": 1
           }
          ]
         }
        },
        {
         "name": "xG",
         "dtype": "float64",
         "stats": {
          "unique_count": 4,
          "nan_count": 0,
          "min": "0.0",
          "max": "0.6645569205284119",
          "histogram": [
           {
            "bin_start": 0,
            "bin_end": 0.06645569205284119,
            "count": 7
           },
           {
            "bin_start": 0.06645569205284119,
            "bin_end": 0.13291138410568237,
            "count": 1
           },
           {
            "bin_start": 0.13291138410568237,
            "bin_end": 0.19936707615852356,
            "count": 0
           },
           {
            "bin_start": 0.19936707615852356,
            "bin_end": 0.26582276821136475,
            "count": 0
           },
           {
            "bin_start": 0.26582276821136475,
            "bin_end": 0.33227846026420593,
            "count": 0
           },
           {
            "bin_start": 0.33227846026420593,
            "bin_end": 0.3987341523170471,
            "count": 0
           },
           {
            "bin_start": 0.3987341523170471,
            "bin_end": 0.4651898443698883,
            "count": 0
           },
           {
            "bin_start": 0.4651898443698883,
            "bin_end": 0.5316455364227295,
            "count": 1
           },
           {
            "bin_start": 0.5316455364227295,
            "bin_end": 0.5981012284755707,
            "count": 0
           },
           {
            "bin_start": 0.5981012284755707,
            "bin_end": 0.6645569205284119,
            "count": 1
           }
          ]
         }
        },
        {
         "name": "xA",
         "dtype": "float64",
         "stats": {
          "unique_count": 5,
          "nan_count": 0,
          "min": "0.0",
          "max": "0.3638066053390503",
          "histogram": [
           {
            "bin_start": 0,
            "bin_end": 0.036380660533905027,
            "count": 8
           },
           {
            "bin_start": 0.036380660533905027,
            "bin_end": 0.07276132106781005,
            "count": 1
           },
           {
            "bin_start": 0.07276132106781005,
            "bin_end": 0.10914198160171508,
            "count": 0
           },
           {
            "bin_start": 0.10914198160171508,
            "bin_end": 0.1455226421356201,
            "count": 0
           },
           {
            "bin_start": 0.1455226421356201,
            "bin_end": 0.18190330266952515,
            "count": 0
           },
           {
            "bin_start": 0.18190330266952515,
            "bin_end": 0.21828396320343016,
            "count": 0
           },
           {
            "bin_start": 0.21828396320343016,
            "bin_end": 0.25466462373733517,
            "count": 0
           },
           {
            "bin_start": 0.25466462373733517,
            "bin_end": 0.2910452842712402,
            "count": 0
           },
           {
            "bin_start": 0.2910452842712402,
            "bin_end": 0.32742594480514525,
            "count": 0
           },
           {
            "bin_start": 0.32742594480514525,
            "bin_end": 0.3638066053390503,
            "count": 1
           }
          ]
         }
        },
        {
         "name": "time",
         "dtype": "int64",
         "stats": {
          "unique_count": 3,
          "nan_count": 0,
          "min": "28",
          "max": "90",
          "histogram": [
           {
            "bin_start": 28,
            "bin_end": 34.2,
            "count": 1
           },
           {
            "bin_start": 34.2,
            "bin_end": 40.4,
            "count": 0
           },
           {
            "bin_start": 40.4,
            "bin_end": 46.6,
            "count": 0
           },
           {
            "bin_start": 46.6,
            "bin_end": 52.8,
            "count": 0
           },
           {
            "bin_start": 52.8,
            "bin_end": 59,
            "count": 1
           },
           {
            "bin_start": 59,
            "bin_end": 65.2,
            "count": 0
           },
           {
            "bin_start": 65.2,
            "bin_end": 71.4,
            "count": 0
           },
           {
            "bin_start": 71.4,
            "bin_end": 77.6,
            "count": 0
           },
           {
            "bin_start": 77.6,
            "bin_end": 83.80000000000001,
            "count": 0
           },
           {
            "bin_start": 83.80000000000001,
            "bin_end": 90,
            "count": 8
           }
          ]
         }
        },
        {
         "name": "shots",
         "dtype": "int64",
         "stats": {
          "unique_count": 4,
          "nan_count": 0,
          "min": "0",
          "max": "3",
          "histogram": [
           {
            "bin_start": 0,
            "bin_end": 0.3,
            "count": 7
           },
           {
            "bin_start": 0.3,
            "bin_end": 0.6,
            "count": 0
           },
           {
            "bin_start": 0.6,
            "bin_end": 0.8999999999999999,
            "count": 0
           },
           {
            "bin_start": 0.8999999999999999,
            "bin_end": 1.2,
            "count": 1
           },
           {
            "bin_start": 1.2,
            "bin_end": 1.5,
            "count": 0
           },
           {
            "bin_start": 1.5,
            "bin_end": 1.7999999999999998,
            "count": 0
           },
           {
            "bin_start": 1.7999999999999998,
            "bin_end": 2.1,
            "count": 1
           },
           {
            "bin_start": 2.1,
            "bin_end": 2.4,
            "count": 0
           },
           {
            "bin_start": 2.4,
            "bin_end": 2.6999999999999997,
            "count": 0
           },
           {
            "bin_start": 2.6999999999999997,
            "bin_end": 3,
            "count": 1
           }
          ]
         }
        },
        {
         "name": "player_id",
         "dtype": "int64",
         "stats": {
          "unique_count": 8,
          "nan_count": 0,
          "min": "545",
          "max": "967",
          "histogram": [
           {
            "bin_start": 545,
            "bin_end": 587.2,
            "count": 1
           },
           {
            "bin_start": 587.2,
            "bin_end": 629.4,
            "count": 2
           },
           {
            "bin_start": 629.4,
            "bin_end": 671.6,
            "count": 1
           },
           {
            "bin_start": 671.6,
            "bin_end": 713.8,
            "count": 4
           },
           {
            "bin_start": 713.8,
            "bin_end": 756,
            "count": 1
           },
           {
            "bin_start": 756,
            "bin_end": 798.2,
            "count": 0
           },
           {
            "bin_start": 798.2,
            "bin_end": 840.4000000000001,
            "count": 0
           },
           {
            "bin_start": 840.4000000000001,
            "bin_end": 882.6,
            "count": 0
           },
           {
            "bin_start": 882.6,
            "bin_end": 924.8,
            "count": 0
           },
           {
            "bin_start": 924.8,
            "bin_end": 967,
            "count": 1
           }
          ]
         }
        },
        {
         "name": "xGChain",
         "dtype": "float64",
         "stats": {
          "unique_count": 8,
          "nan_count": 0,
          "min": "0.0",
          "max": "0.694835901260376",
          "histogram": [
           {
            "bin_start": 0,
            "bin_end": 0.0694835901260376,
            "count": 3
           },
           {
            "bin_start": 0.0694835901260376,
            "bin_end": 0.1389671802520752,
            "count": 0
           },
           {
            "bin_start": 0.1389671802520752,
            "bin_end": 0.20845077037811277,
            "count": 1
           },
           {
            "bin_start": 0.20845077037811277,
            "bin_end": 0.2779343605041504,
            "count": 2
           },
           {
            "bin_start": 0.2779343605041504,
            "bin_end": 0.347417950630188,
            "count": 0
           },
           {
            "bin_start": 0.347417950630188,
            "bin_end": 0.41690154075622554,
            "count": 0
           },
           {
            "bin_start": 0.41690154075622554,
            "bin_end": 0.48638513088226315,
            "count": 0
           },
           {
            "bin_start": 0.48638513088226315,
            "bin_end": 0.5558687210083008,
            "count": 1
           },
           {
            "bin_start": 0.5558687210083008,
            "bin_end": 0.6253523111343383,
            "count": 0
           },
           {
            "bin_start": 0.6253523111343383,
            "bin_end": 0.694835901260376,
            "count": 3
           }
          ]
         }
        },
        {
         "name": "xGBuildup",
         "dtype": "float64",
         "stats": {
          "unique_count": 9,
          "nan_count": 0,
          "min": "0.0",
          "max": "0.694835901260376",
          "histogram": [
           {
            "bin_start": 0,
            "bin_end": 0.0694835901260376,
            "count": 3
           },
           {
            "bin_start": 0.0694835901260376,
            "bin_end": 0.1389671802520752,
            "count": 1
           },
           {
            "bin_start": 0.1389671802520752,
            "bin_end": 0.20845077037811277,
            "count": 1
           },
           {
            "bin_start": 0.20845077037811277,
            "bin_end": 0.2779343605041504,
            "count": 2
           },
           {
            "bin_start": 0.2779343605041504,
            "bin_end": 0.347417950630188,
            "count": 0
           },
           {
            "bin_start": 0.347417950630188,
            "bin_end": 0.41690154075622554,
            "count": 0
           },
           {
            "bin_start": 0.41690154075622554,
            "bin_end": 0.48638513088226315,
            "count": 0
           },
           {
            "bin_start": 0.48638513088226315,
            "bin_end": 0.5558687210083008,
            "count": 0
           },
           {
            "bin_start": 0.5558687210083008,
            "bin_end": 0.6253523111343383,
            "count": 0
           },
           {
            "bin_start": 0.6253523111343383,
            "bin_end": 0.694835901260376,
            "count": 3
           }
          ]
         }
        },
        {
         "name": "_deepnote_index_column",
         "dtype": "int64"
        }
       ],
       "rows": [
        {
         "league": "EPL",
         "season": 2014,
         "player": "Kyle Naughton",
         "team_id": 82,
         "position": "DR",
         "goals": 0,
         "assists": 0,
         "key_passes": 0,
         "xG": 0,
         "xA": 0,
         "time": 28,
         "shots": 0,
         "player_id": 718,
         "xGChain": 0,
         "xGBuildup": 0,
         "_deepnote_index_column": 0
        },
        {
         "league": "EPL",
         "season": 2014,
         "player": "Danny Rose",
         "team_id": 82,
         "position": "DL",
         "goals": 0,
         "assists": 0,
         "key_passes": 0,
         "xG": 0,
         "xA": 0,
         "time": 90,
         "shots": 0,
         "player_id": 641,
         "xGChain": 0.633840024471283,
         "xGBuildup": 0.633840024471283,
         "_deepnote_index_column": 1
        },
        {
         "league": "EPL",
         "season": 2014,
         "player": "Mathieu Debuchy",
         "team_id": 83,
         "position": "DR",
         "goals": 0,
         "assists": 0,
         "key_passes": 0,
         "xG": 0.4914089143276214,
         "xA": 0,
         "time": 90,
         "shots": 1,
         "player_id": 967,
         "xGChain": 0.0473348312079906,
         "xGBuildup": 0.0473348312079906,
         "_deepnote_index_column": 2
        },
        {
         "league": "EPL",
         "season": 2014,
         "player": "Kieran Gibbs",
         "team_id": 83,
         "position": "DL",
         "goals": 0,
         "assists": 0,
         "key_passes": 0,
         "xG": 0,
         "xA": 0,
         "time": 55,
         "shots": 0,
         "player_id": 545,
         "xGChain": 0,
         "xGBuildup": 0,
         "_deepnote_index_column": 3
        },
        {
         "league": "EPL",
         "season": 2014,
         "player": "Gaël Clichy",
         "team_id": 88,
         "position": "DR",
         "goals": 0,
         "assists": 0,
         "key_passes": 0,
         "xG": 0,
         "xA": 0,
         "time": 90,
         "shots": 0,
         "player_id": 613,
         "xGChain": 0.1393173187971115,
         "xGBuildup": 0.1393173187971115,
         "_deepnote_index_column": 4
        },
        {
         "league": "EPL",
         "season": 2014,
         "player": "Aleksandar Kolarov",
         "team_id": 88,
         "position": "DL",
         "goals": 0,
         "assists": 0,
         "key_passes": 1,
         "xG": 0,
         "xA": 0.0229819398373365,
         "time": 90,
         "shots": 0,
         "player_id": 621,
         "xGChain": 0.2439465075731277,
         "xGBuildup": 0.2439465075731277,
         "_deepnote_index_column": 5
        },
        {
         "league": "EPL",
         "season": 2014,
         "player": "Branislav Ivanovic",
         "team_id": 80,
         "position": "DR",
         "goals": 1,
         "assists": 0,
         "key_passes": 1,
         "xG": 0.6645569205284119,
         "xA": 0.045406624674797,
         "time": 90,
         "shots": 2,
         "player_id": 682,
         "xGChain": 0.694835901260376,
         "xGBuildup": 0.6494292616844177,
         "_deepnote_index_column": 6
        },
        {
         "league": "EPL",
         "season": 2014,
         "player": "César Azpilicueta",
         "team_id": 80,
         "position": "DL",
         "goals": 0,
         "assists": 0,
         "key_passes": 0,
         "xG": 0,
         "xA": 0,
         "time": 90,
         "shots": 0,
         "player_id": 681,
         "xGChain": 0.694835901260376,
         "xGBuildup": 0.694835901260376,
         "_deepnote_index_column": 7
        },
        {
         "league": "EPL",
         "season": 2014,
         "player": "Branislav Ivanovic",
         "team_id": 80,
         "position": "DR",
         "goals": 0,
         "assists": 0,
         "key_passes": 2,
         "xG": 0.0873320028185844,
         "xA": 0.3638066053390503,
         "time": 90,
         "shots": 3,
         "player_id": 682,
         "xGChain": 0.5422351360321045,
         "xGBuildup": 0.1273859143257141,
         "_deepnote_index_column": 8
        },
        {
         "league": "EPL",
         "season": 2014,
         "player": "César Azpilicueta",
         "team_id": 80,
         "position": "DL",
         "goals": 0,
         "assists": 0,
         "key_passes": 1,
         "xG": 0,
         "xA": 0.0348095446825027,
         "time": 90,
         "shots": 0,
         "player_id": 681,
         "xGChain": 0.2485952526330948,
         "xGBuildup": 0.2485952526330948,
         "_deepnote_index_column": 9
        }
       ]
      },
      "text/plain": "  league  season              player  team_id position  goals  assists  \\\n0    EPL    2014       Kyle Naughton       82       DR      0        0   \n1    EPL    2014          Danny Rose       82       DL      0        0   \n2    EPL    2014     Mathieu Debuchy       83       DR      0        0   \n3    EPL    2014        Kieran Gibbs       83       DL      0        0   \n4    EPL    2014         Gaël Clichy       88       DR      0        0   \n5    EPL    2014  Aleksandar Kolarov       88       DL      0        0   \n6    EPL    2014  Branislav Ivanovic       80       DR      1        0   \n7    EPL    2014   César Azpilicueta       80       DL      0        0   \n8    EPL    2014  Branislav Ivanovic       80       DR      0        0   \n9    EPL    2014   César Azpilicueta       80       DL      0        0   \n\n   key_passes        xG        xA  time  shots  player_id   xGChain  xGBuildup  \n0           0  0.000000  0.000000    28      0        718  0.000000   0.000000  \n1           0  0.000000  0.000000    90      0        641  0.633840   0.633840  \n2           0  0.491409  0.000000    90      1        967  0.047335   0.047335  \n3           0  0.000000  0.000000    55      0        545  0.000000   0.000000  \n4           0  0.000000  0.000000    90      0        613  0.139317   0.139317  \n5           1  0.000000  0.022982    90      0        621  0.243947   0.243947  \n6           1  0.664557  0.045407    90      2        682  0.694836   0.649429  \n7           0  0.000000  0.000000    90      0        681  0.694836   0.694836  \n8           2  0.087332  0.363807    90      3        682  0.542235   0.127386  \n9           1  0.000000  0.034810    90      0        681  0.248595   0.248595  ",
      "text/html": "<div>\n<style scoped>\n    .dataframe tbody tr th:only-of-type {\n        vertical-align: middle;\n    }\n\n    .dataframe tbody tr th {\n        vertical-align: top;\n    }\n\n    .dataframe thead th {\n        text-align: right;\n    }\n</style>\n<table border=\"1\" class=\"dataframe\">\n  <thead>\n    <tr style=\"text-align: right;\">\n      <th></th>\n      <th>league</th>\n      <th>season</th>\n      <th>player</th>\n      <th>team_id</th>\n      <th>position</th>\n      <th>goals</th>\n      <th>assists</th>\n      <th>key_passes</th>\n      <th>xG</th>\n      <th>xA</th>\n      <th>time</th>\n      <th>shots</th>\n      <th>player_id</th>\n      <th>xGChain</th>\n      <th>xGBuildup</th>\n    </tr>\n  </thead>\n  <tbody>\n    <tr>\n      <th>0</th>\n      <td>EPL</td>\n      <td>2014</td>\n      <td>Kyle Naughton</td>\n      <td>82</td>\n      <td>DR</td>\n      <td>0</td>\n      <td>0</td>\n      <td>0</td>\n      <td>0.000000</td>\n      <td>0.000000</td>\n      <td>28</td>\n      <td>0</td>\n      <td>718</td>\n      <td>0.000000</td>\n      <td>0.000000</td>\n    </tr>\n    <tr>\n      <th>1</th>\n      <td>EPL</td>\n      <td>2014</td>\n      <td>Danny Rose</td>\n      <td>82</td>\n      <td>DL</td>\n      <td>0</td>\n      <td>0</td>\n      <td>0</td>\n      <td>0.000000</td>\n      <td>0.000000</td>\n      <td>90</td>\n      <td>0</td>\n      <td>641</td>\n      <td>0.633840</td>\n      <td>0.633840</td>\n    </tr>\n    <tr>\n      <th>2</th>\n      <td>EPL</td>\n      <td>2014</td>\n      <td>Mathieu Debuchy</td>\n      <td>83</td>\n      <td>DR</td>\n      <td>0</td>\n      <td>0</td>\n      <td>0</td>\n      <td>0.491409</td>\n      <td>0.000000</td>\n      <td>90</td>\n      <td>1</td>\n      <td>967</td>\n      <td>0.047335</td>\n      <td>0.047335</td>\n    </tr>\n    <tr>\n      <th>3</th>\n      <td>EPL</td>\n      <td>2014</td>\n      <td>Kieran Gibbs</td>\n      <td>83</td>\n      <td>DL</td>\n      <td>0</td>\n      <td>0</td>\n      <td>0</td>\n      <td>0.000000</td>\n      <td>0.000000</td>\n      <td>55</td>\n      <td>0</td>\n      <td>545</td>\n      <td>0.000000</td>\n      <td>0.000000</td>\n    </tr>\n    <tr>\n      <th>4</th>\n      <td>EPL</td>\n      <td>2014</td>\n      <td>Gaël Clichy</td>\n      <td>88</td>\n      <td>DR</td>\n      <td>0</td>\n      <td>0</td>\n      <td>0</td>\n      <td>0.000000</td>\n      <td>0.000000</td>\n      <td>90</td>\n      <td>0</td>\n      <td>613</td>\n      <td>0.139317</td>\n      <td>0.139317</td>\n    </tr>\n    <tr>\n      <th>5</th>\n      <td>EPL</td>\n      <td>2014</td>\n      <td>Aleksandar Kolarov</td>\n      <td>88</td>\n      <td>DL</td>\n      <td>0</td>\n      <td>0</td>\n      <td>1</td>\n      <td>0.000000</td>\n      <td>0.022982</td>\n      <td>90</td>\n      <td>0</td>\n      <td>621</td>\n      <td>0.243947</td>\n      <td>0.243947</td>\n    </tr>\n    <tr>\n      <th>6</th>\n      <td>EPL</td>\n      <td>2014</td>\n      <td>Branislav Ivanovic</td>\n      <td>80</td>\n      <td>DR</td>\n      <td>1</td>\n      <td>0</td>\n      <td>1</td>\n      <td>0.664557</td>\n      <td>0.045407</td>\n      <td>90</td>\n      <td>2</td>\n      <td>682</td>\n      <td>0.694836</td>\n      <td>0.649429</td>\n    </tr>\n    <tr>\n      <th>7</th>\n      <td>EPL</td>\n      <td>2014</td>\n      <td>César Azpilicueta</td>\n      <td>80</td>\n      <td>DL</td>\n      <td>0</td>\n      <td>0</td>\n      <td>0</td>\n      <td>0.000000</td>\n      <td>0.000000</td>\n      <td>90</td>\n      <td>0</td>\n      <td>681</td>\n      <td>0.694836</td>\n      <td>0.694836</td>\n    </tr>\n    <tr>\n      <th>8</th>\n      <td>EPL</td>\n      <td>2014</td>\n      <td>Branislav Ivanovic</td>\n      <td>80</td>\n      <td>DR</td>\n      <td>0</td>\n      <td>0</td>\n      <td>2</td>\n      <td>0.087332</td>\n      <td>0.363807</td>\n      <td>90</td>\n      <td>3</td>\n      <td>682</td>\n      <td>0.542235</td>\n      <td>0.127386</td>\n    </tr>\n    <tr>\n      <th>9</th>\n      <td>EPL</td>\n      <td>2014</td>\n      <td>César Azpilicueta</td>\n      <td>80</td>\n      <td>DL</td>\n      <td>0</td>\n      <td>0</td>\n      <td>1</td>\n      <td>0.000000</td>\n      <td>0.034810</td>\n      <td>90</td>\n      <td>0</td>\n      <td>681</td>\n      <td>0.248595</td>\n      <td>0.248595</td>\n    </tr>\n  </tbody>\n</table>\n</div>"
     },
     "metadata": {}
    }
   ]
  },
  {
   "cell_type": "markdown",
   "source": "I group `data` by `player` and then take the sum of each stat, put them in the dataframe `sum_data`.",
   "metadata": {
    "cell_id": "23cf0671-622a-414b-b3ac-d4cd58e68254",
    "tags": [],
    "deepnote_app_coordinates": {
     "x": 0,
     "y": 216,
     "w": 12,
     "h": 5
    },
    "deepnote_cell_type": "markdown",
    "deepnote_cell_height": 52.390625
   }
  },
  {
   "cell_type": "code",
   "metadata": {
    "cell_id": "ef4f936b-f8c3-41ab-9221-9d9792ef3fbf",
    "tags": [],
    "deepnote_to_be_reexecuted": false,
    "source_hash": "57ef5434",
    "execution_start": 1653580494737,
    "execution_millis": 110,
    "deepnote_app_coordinates": {
     "x": 0,
     "y": 222,
     "w": 12,
     "h": 5
    },
    "deepnote_cell_type": "code",
    "deepnote_cell_height": 706.796875
   },
   "source": "sum_data = data.groupby(['player']).sum().reset_index()\n\n# delete unnecessary columns\nsum_data.drop(['season','team_id','player_id'],axis = 1, inplace = True)\n# check\nsum_data.head(10)",
   "execution_count": null,
   "outputs": [
    {
     "output_type": "execute_result",
     "execution_count": 14,
     "data": {
      "application/vnd.deepnote.dataframe.v3+json": {
       "column_count": 10,
       "row_count": 10,
       "columns": [
        {
         "name": "player",
         "dtype": "object",
         "stats": {
          "unique_count": 10,
          "nan_count": 0,
          "categories": [
           {
            "name": "Aaron Cresswell",
            "count": 1
           },
           {
            "name": "Aaron Wan-Bissaka",
            "count": 1
           },
           {
            "name": "8 others",
            "count": 8
           }
          ]
         }
        },
        {
         "name": "goals",
         "dtype": "int64",
         "stats": {
          "unique_count": 5,
          "nan_count": 0,
          "min": "0",
          "max": "16",
          "histogram": [
           {
            "bin_start": 0,
            "bin_end": 1.6,
            "count": 7
           },
           {
            "bin_start": 1.6,
            "bin_end": 3.2,
            "count": 1
           },
           {
            "bin_start": 3.2,
            "bin_end": 4.800000000000001,
            "count": 0
           },
           {
            "bin_start": 4.800000000000001,
            "bin_end": 6.4,
            "count": 1
           },
           {
            "bin_start": 6.4,
            "bin_end": 8,
            "count": 0
           },
           {
            "bin_start": 8,
            "bin_end": 9.600000000000001,
            "count": 0
           },
           {
            "bin_start": 9.600000000000001,
            "bin_end": 11.200000000000001,
            "count": 0
           },
           {
            "bin_start": 11.200000000000001,
            "bin_end": 12.8,
            "count": 0
           },
           {
            "bin_start": 12.8,
            "bin_end": 14.4,
            "count": 0
           },
           {
            "bin_start": 14.4,
            "bin_end": 16,
            "count": 1
           }
          ]
         }
        },
        {
         "name": "assists",
         "dtype": "int64",
         "stats": {
          "unique_count": 7,
          "nan_count": 0,
          "min": "0",
          "max": "18",
          "histogram": [
           {
            "bin_start": 0,
            "bin_end": 1.8,
            "count": 3
           },
           {
            "bin_start": 1.8,
            "bin_end": 3.6,
            "count": 4
           },
           {
            "bin_start": 3.6,
            "bin_end": 5.4,
            "count": 0
           },
           {
            "bin_start": 5.4,
            "bin_end": 7.2,
            "count": 2
           },
           {
            "bin_start": 7.2,
            "bin_end": 9,
            "count": 0
           },
           {
            "bin_start": 9,
            "bin_end": 10.8,
            "count": 0
           },
           {
            "bin_start": 10.8,
            "bin_end": 12.6,
            "count": 0
           },
           {
            "bin_start": 12.6,
            "bin_end": 14.4,
            "count": 0
           },
           {
            "bin_start": 14.4,
            "bin_end": 16.2,
            "count": 0
           },
           {
            "bin_start": 16.2,
            "bin_end": 18,
            "count": 1
           }
          ]
         }
        },
        {
         "name": "key_passes",
         "dtype": "int64",
         "stats": {
          "unique_count": 9,
          "nan_count": 0,
          "min": "1",
          "max": "83",
          "histogram": [
           {
            "bin_start": 1,
            "bin_end": 9.2,
            "count": 3
           },
           {
            "bin_start": 9.2,
            "bin_end": 17.4,
            "count": 3
           },
           {
            "bin_start": 17.4,
            "bin_end": 25.599999999999998,
            "count": 1
           },
           {
            "bin_start": 25.599999999999998,
            "bin_end": 33.8,
            "count": 0
           },
           {
            "bin_start": 33.8,
            "bin_end": 42,
            "count": 1
           },
           {
            "bin_start": 42,
            "bin_end": 50.199999999999996,
            "count": 1
           },
           {
            "bin_start": 50.199999999999996,
            "bin_end": 58.39999999999999,
            "count": 0
           },
           {
            "bin_start": 58.39999999999999,
            "bin_end": 66.6,
            "count": 0
           },
           {
            "bin_start": 66.6,
            "bin_end": 74.8,
            "count": 0
           },
           {
            "bin_start": 74.8,
            "bin_end": 83,
            "count": 1
           }
          ]
         }
        },
        {
         "name": "xG",
         "dtype": "float64",
         "stats": {
          "unique_count": 10,
          "nan_count": 0,
          "min": "0.0",
          "max": "9.960821771994231",
          "histogram": [
           {
            "bin_start": 0,
            "bin_end": 0.9960821771994232,
            "count": 7
           },
           {
            "bin_start": 0.9960821771994232,
            "bin_end": 1.9921643543988463,
            "count": 1
           },
           {
            "bin_start": 1.9921643543988463,
            "bin_end": 2.9882465315982696,
            "count": 0
           },
           {
            "bin_start": 2.9882465315982696,
            "bin_end": 3.9843287087976926,
            "count": 0
           },
           {
            "bin_start": 3.9843287087976926,
            "bin_end": 4.980410885997116,
            "count": 1
           },
           {
            "bin_start": 4.980410885997116,
            "bin_end": 5.976493063196539,
            "count": 0
           },
           {
            "bin_start": 5.976493063196539,
            "bin_end": 6.972575240395962,
            "count": 0
           },
           {
            "bin_start": 6.972575240395962,
            "bin_end": 7.968657417595385,
            "count": 0
           },
           {
            "bin_start": 7.968657417595385,
            "bin_end": 8.964739594794809,
            "count": 0
           },
           {
            "bin_start": 8.964739594794809,
            "bin_end": 9.960821771994231,
            "count": 1
           }
          ]
         }
        },
        {
         "name": "xA",
         "dtype": "float64",
         "stats": {
          "unique_count": 10,
          "nan_count": 0,
          "min": "0.0209282301366329",
          "max": "15.188549207523465",
          "histogram": [
           {
            "bin_start": 0.0209282301366329,
            "bin_end": 1.5376903278753162,
            "count": 5
           },
           {
            "bin_start": 1.5376903278753162,
            "bin_end": 3.0544524256139995,
            "count": 2
           },
           {
            "bin_start": 3.0544524256139995,
            "bin_end": 4.571214523352683,
            "count": 1
           },
           {
            "bin_start": 4.571214523352683,
            "bin_end": 6.087976621091366,
            "count": 1
           },
           {
            "bin_start": 6.087976621091366,
            "bin_end": 7.604738718830049,
            "count": 0
           },
           {
            "bin_start": 7.604738718830049,
            "bin_end": 9.121500816568734,
            "count": 0
           },
           {
            "bin_start": 9.121500816568734,
            "bin_end": 10.638262914307417,
            "count": 0
           },
           {
            "bin_start": 10.638262914307417,
            "bin_end": 12.1550250120461,
            "count": 0
           },
           {
            "bin_start": 12.1550250120461,
            "bin_end": 13.671787109784782,
            "count": 0
           },
           {
            "bin_start": 13.671787109784782,
            "bin_end": 15.188549207523465,
            "count": 1
           }
          ]
         }
        },
        {
         "name": "time",
         "dtype": "int64",
         "stats": {
          "unique_count": 10,
          "nan_count": 0,
          "min": "180",
          "max": "8091",
          "histogram": [
           {
            "bin_start": 180,
            "bin_end": 971.1,
            "count": 3
           },
           {
            "bin_start": 971.1,
            "bin_end": 1762.2,
            "count": 2
           },
           {
            "bin_start": 1762.2,
            "bin_end": 2553.3,
            "count": 1
           },
           {
            "bin_start": 2553.3,
            "bin_end": 3344.4,
            "count": 2
           },
           {
            "bin_start": 3344.4,
            "bin_end": 4135.5,
            "count": 0
           },
           {
            "bin_start": 4135.5,
            "bin_end": 4926.6,
            "count": 0
           },
           {
            "bin_start": 4926.6,
            "bin_end": 5717.7,
            "count": 0
           },
           {
            "bin_start": 5717.7,
            "bin_end": 6508.8,
            "count": 1
           },
           {
            "bin_start": 6508.8,
            "bin_end": 7299.900000000001,
            "count": 0
           },
           {
            "bin_start": 7299.900000000001,
            "bin_end": 8091,
            "count": 1
           }
          ]
         }
        },
        {
         "name": "shots",
         "dtype": "int64",
         "stats": {
          "unique_count": 7,
          "nan_count": 0,
          "min": "0",
          "max": "90",
          "histogram": [
           {
            "bin_start": 0,
            "bin_end": 9,
            "count": 6
           },
           {
            "bin_start": 9,
            "bin_end": 18,
            "count": 2
           },
           {
            "bin_start": 18,
            "bin_end": 27,
            "count": 0
           },
           {
            "bin_start": 27,
            "bin_end": 36,
            "count": 0
           },
           {
            "bin_start": 36,
            "bin_end": 45,
            "count": 0
           },
           {
            "bin_start": 45,
            "bin_end": 54,
            "count": 1
           },
           {
            "bin_start": 54,
            "bin_end": 63,
            "count": 0
           },
           {
            "bin_start": 63,
            "bin_end": 72,
            "count": 0
           },
           {
            "bin_start": 72,
            "bin_end": 81,
            "count": 0
           },
           {
            "bin_start": 81,
            "bin_end": 90,
            "count": 1
           }
          ]
         }
        },
        {
         "name": "xGChain",
         "dtype": "float64",
         "stats": {
          "unique_count": 10,
          "nan_count": 0,
          "min": "0.1409702487289905",
          "max": "57.94254409335554",
          "histogram": [
           {
            "bin_start": 0.1409702487289905,
            "bin_end": 5.921127633191645,
            "count": 4
           },
           {
            "bin_start": 5.921127633191645,
            "bin_end": 11.7012850176543,
            "count": 2
           },
           {
            "bin_start": 11.7012850176543,
            "bin_end": 17.481442402116954,
            "count": 2
           },
           {
            "bin_start": 17.481442402116954,
            "bin_end": 23.26159978657961,
            "count": 0
           },
           {
            "bin_start": 23.26159978657961,
            "bin_end": 29.041757171042264,
            "count": 1
           },
           {
            "bin_start": 29.041757171042264,
            "bin_end": 34.82191455550492,
            "count": 0
           },
           {
            "bin_start": 34.82191455550492,
            "bin_end": 40.60207193996757,
            "count": 0
           },
           {
            "bin_start": 40.60207193996757,
            "bin_end": 46.38222932443023,
            "count": 0
           },
           {
            "bin_start": 46.38222932443023,
            "bin_end": 52.16238670889288,
            "count": 0
           },
           {
            "bin_start": 52.16238670889288,
            "bin_end": 57.94254409335554,
            "count": 1
           }
          ]
         }
        },
        {
         "name": "xGBuildup",
         "dtype": "float64",
         "stats": {
          "unique_count": 10,
          "nan_count": 0,
          "min": "0.1200420223176478",
          "max": "41.53986083343625",
          "histogram": [
           {
            "bin_start": 0.1200420223176478,
            "bin_end": 4.262023903429508,
            "count": 4
           },
           {
            "bin_start": 4.262023903429508,
            "bin_end": 8.404005784541368,
            "count": 2
           },
           {
            "bin_start": 8.404005784541368,
            "bin_end": 12.545987665653229,
            "count": 1
           },
           {
            "bin_start": 12.545987665653229,
            "bin_end": 16.68796954676509,
            "count": 1
           },
           {
            "bin_start": 16.68796954676509,
            "bin_end": 20.82995142787695,
            "count": 1
           },
           {
            "bin_start": 20.82995142787695,
            "bin_end": 24.97193330898881,
            "count": 0
           },
           {
            "bin_start": 24.97193330898881,
            "bin_end": 29.11391519010067,
            "count": 0
           },
           {
            "bin_start": 29.11391519010067,
            "bin_end": 33.25589707121253,
            "count": 0
           },
           {
            "bin_start": 33.25589707121253,
            "bin_end": 37.39787895232439,
            "count": 0
           },
           {
            "bin_start": 37.39787895232439,
            "bin_end": 41.53986083343625,
            "count": 1
           }
          ]
         }
        },
        {
         "name": "_deepnote_index_column",
         "dtype": "int64"
        }
       ],
       "rows": [
        {
         "player": "Aaron Cresswell",
         "goals": 1,
         "assists": 1,
         "key_passes": 16,
         "xG": 0.4488532580435273,
         "xA": 1.2717930451035495,
         "time": 1141,
         "shots": 9,
         "xGChain": 4.162749409675598,
         "xGBuildup": 3.629713451489806,
         "_deepnote_index_column": 0
        },
        {
         "player": "Aaron Wan-Bissaka",
         "goals": 2,
         "assists": 7,
         "key_passes": 50,
         "xG": 1.7314466405659912,
         "xA": 4.814814663492142,
         "time": 5733,
         "shots": 13,
         "xGChain": 25.293762028217316,
         "xGBuildup": 20.336829675361514,
         "_deepnote_index_column": 1
        },
        {
         "player": "Abdou Diallo",
         "goals": 0,
         "assists": 3,
         "key_passes": 16,
         "xG": 0.9286528835073112,
         "xA": 1.9089168794453142,
         "time": 2309,
         "shots": 7,
         "xGChain": 15.440957721322775,
         "xGBuildup": 14.722932320088148,
         "_deepnote_index_column": 2
        },
        {
         "player": "Abdoulay Konko",
         "goals": 0,
         "assists": 0,
         "key_passes": 2,
         "xG": 0.3065921068191527,
         "xA": 0.0459476225078105,
         "time": 444,
         "shots": 5,
         "xGChain": 0.9425123119726777,
         "xGBuildup": 0.7167727882042526,
         "_deepnote_index_column": 3
        },
        {
         "player": "Abdul Rahman Baba",
         "goals": 0,
         "assists": 3,
         "key_passes": 23,
         "xG": 0.2937984052114186,
         "xA": 2.767257085070014,
         "time": 2610,
         "shots": 7,
         "xGChain": 7.6464341431856155,
         "xGBuildup": 6.006317060440779,
         "_deepnote_index_column": 4
        },
        {
         "player": "Achraf Hakimi",
         "goals": 16,
         "assists": 18,
         "key_passes": 83,
         "xG": 9.960821771994231,
         "xA": 15.188549207523465,
         "time": 8091,
         "shots": 90,
         "xGChain": 57.94254409335554,
         "xGBuildup": 41.53986083343625,
         "_deepnote_index_column": 5
        },
        {
         "player": "Adam Marusic",
         "goals": 5,
         "assists": 6,
         "key_passes": 38,
         "xG": 4.771548897959292,
         "xA": 3.397998044267297,
         "time": 3242,
         "shots": 47,
         "xGChain": 15.215286545455456,
         "xGBuildup": 8.919203892350197,
         "_deepnote_index_column": 6
        },
        {
         "player": "Adama Soumaoro",
         "goals": 0,
         "assists": 0,
         "key_passes": 1,
         "xG": 0,
         "xA": 0.0209282301366329,
         "time": 180,
         "shots": 0,
         "xGChain": 0.1409702487289905,
         "xGBuildup": 0.1200420223176478,
         "_deepnote_index_column": 7
        },
        {
         "player": "Admir Mehmedi",
         "goals": 0,
         "assists": 2,
         "key_passes": 8,
         "xG": 0.20511421002447588,
         "xA": 1.011058270931244,
         "time": 368,
         "shots": 5,
         "xGChain": 1.3404202200472355,
         "xGBuildup": 0.6829927042126654,
         "_deepnote_index_column": 8
        },
        {
         "player": "Adriano",
         "goals": 0,
         "assists": 2,
         "key_passes": 12,
         "xG": 0.3806976396590468,
         "xA": 1.4786196686327457,
         "time": 1199,
         "shots": 7,
         "xGChain": 7.5260065998882055,
         "xGBuildup": 7.094294290989637,
         "_deepnote_index_column": 9
        }
       ]
      },
      "text/plain": "              player  goals  assists  key_passes        xG         xA  time  \\\n0    Aaron Cresswell      1        1          16  0.448853   1.271793  1141   \n1  Aaron Wan-Bissaka      2        7          50  1.731447   4.814815  5733   \n2       Abdou Diallo      0        3          16  0.928653   1.908917  2309   \n3     Abdoulay Konko      0        0           2  0.306592   0.045948   444   \n4  Abdul Rahman Baba      0        3          23  0.293798   2.767257  2610   \n5      Achraf Hakimi     16       18          83  9.960822  15.188549  8091   \n6       Adam Marusic      5        6          38  4.771549   3.397998  3242   \n7     Adama Soumaoro      0        0           1  0.000000   0.020928   180   \n8      Admir Mehmedi      0        2           8  0.205114   1.011058   368   \n9            Adriano      0        2          12  0.380698   1.478620  1199   \n\n   shots    xGChain  xGBuildup  \n0      9   4.162749   3.629713  \n1     13  25.293762  20.336830  \n2      7  15.440958  14.722932  \n3      5   0.942512   0.716773  \n4      7   7.646434   6.006317  \n5     90  57.942544  41.539861  \n6     47  15.215287   8.919204  \n7      0   0.140970   0.120042  \n8      5   1.340420   0.682993  \n9      7   7.526007   7.094294  ",
      "text/html": "<div>\n<style scoped>\n    .dataframe tbody tr th:only-of-type {\n        vertical-align: middle;\n    }\n\n    .dataframe tbody tr th {\n        vertical-align: top;\n    }\n\n    .dataframe thead th {\n        text-align: right;\n    }\n</style>\n<table border=\"1\" class=\"dataframe\">\n  <thead>\n    <tr style=\"text-align: right;\">\n      <th></th>\n      <th>player</th>\n      <th>goals</th>\n      <th>assists</th>\n      <th>key_passes</th>\n      <th>xG</th>\n      <th>xA</th>\n      <th>time</th>\n      <th>shots</th>\n      <th>xGChain</th>\n      <th>xGBuildup</th>\n    </tr>\n  </thead>\n  <tbody>\n    <tr>\n      <th>0</th>\n      <td>Aaron Cresswell</td>\n      <td>1</td>\n      <td>1</td>\n      <td>16</td>\n      <td>0.448853</td>\n      <td>1.271793</td>\n      <td>1141</td>\n      <td>9</td>\n      <td>4.162749</td>\n      <td>3.629713</td>\n    </tr>\n    <tr>\n      <th>1</th>\n      <td>Aaron Wan-Bissaka</td>\n      <td>2</td>\n      <td>7</td>\n      <td>50</td>\n      <td>1.731447</td>\n      <td>4.814815</td>\n      <td>5733</td>\n      <td>13</td>\n      <td>25.293762</td>\n      <td>20.336830</td>\n    </tr>\n    <tr>\n      <th>2</th>\n      <td>Abdou Diallo</td>\n      <td>0</td>\n      <td>3</td>\n      <td>16</td>\n      <td>0.928653</td>\n      <td>1.908917</td>\n      <td>2309</td>\n      <td>7</td>\n      <td>15.440958</td>\n      <td>14.722932</td>\n    </tr>\n    <tr>\n      <th>3</th>\n      <td>Abdoulay Konko</td>\n      <td>0</td>\n      <td>0</td>\n      <td>2</td>\n      <td>0.306592</td>\n      <td>0.045948</td>\n      <td>444</td>\n      <td>5</td>\n      <td>0.942512</td>\n      <td>0.716773</td>\n    </tr>\n    <tr>\n      <th>4</th>\n      <td>Abdul Rahman Baba</td>\n      <td>0</td>\n      <td>3</td>\n      <td>23</td>\n      <td>0.293798</td>\n      <td>2.767257</td>\n      <td>2610</td>\n      <td>7</td>\n      <td>7.646434</td>\n      <td>6.006317</td>\n    </tr>\n    <tr>\n      <th>5</th>\n      <td>Achraf Hakimi</td>\n      <td>16</td>\n      <td>18</td>\n      <td>83</td>\n      <td>9.960822</td>\n      <td>15.188549</td>\n      <td>8091</td>\n      <td>90</td>\n      <td>57.942544</td>\n      <td>41.539861</td>\n    </tr>\n    <tr>\n      <th>6</th>\n      <td>Adam Marusic</td>\n      <td>5</td>\n      <td>6</td>\n      <td>38</td>\n      <td>4.771549</td>\n      <td>3.397998</td>\n      <td>3242</td>\n      <td>47</td>\n      <td>15.215287</td>\n      <td>8.919204</td>\n    </tr>\n    <tr>\n      <th>7</th>\n      <td>Adama Soumaoro</td>\n      <td>0</td>\n      <td>0</td>\n      <td>1</td>\n      <td>0.000000</td>\n      <td>0.020928</td>\n      <td>180</td>\n      <td>0</td>\n      <td>0.140970</td>\n      <td>0.120042</td>\n    </tr>\n    <tr>\n      <th>8</th>\n      <td>Admir Mehmedi</td>\n      <td>0</td>\n      <td>2</td>\n      <td>8</td>\n      <td>0.205114</td>\n      <td>1.011058</td>\n      <td>368</td>\n      <td>5</td>\n      <td>1.340420</td>\n      <td>0.682993</td>\n    </tr>\n    <tr>\n      <th>9</th>\n      <td>Adriano</td>\n      <td>0</td>\n      <td>2</td>\n      <td>12</td>\n      <td>0.380698</td>\n      <td>1.478620</td>\n      <td>1199</td>\n      <td>7</td>\n      <td>7.526007</td>\n      <td>7.094294</td>\n    </tr>\n  </tbody>\n</table>\n</div>"
     },
     "metadata": {}
    }
   ]
  },
  {
   "cell_type": "markdown",
   "source": "### B1. Rank of wingbacks\n***\n\nTo make the comparison and the rank table more precise, I calculate the stats per 90 minutes, i.e official time of a match, and store it in the dataframe `sum_data90`.\n\nEach stat is corresponding to a column, for instance `goals`. To derive the average goals per 90 minutes, I divide the column `goals` by `time` then multiply the result with 90.",
   "metadata": {
    "cell_id": "3bca92aa-f058-40ac-8c27-0cdb85c836c0",
    "tags": [],
    "deepnote_app_coordinates": {
     "x": 0,
     "y": 228,
     "w": 12,
     "h": 5
    },
    "deepnote_cell_type": "markdown",
    "deepnote_cell_height": 182.59375
   }
  },
  {
   "cell_type": "code",
   "metadata": {
    "cell_id": "e3a55cb6-069c-4f62-8f13-db1534fb21f9",
    "tags": [],
    "deepnote_to_be_reexecuted": false,
    "source_hash": "e2084cb",
    "execution_start": 1653580494858,
    "execution_millis": 120,
    "deepnote_app_coordinates": {
     "x": 0,
     "y": 234,
     "w": 12,
     "h": 5
    },
    "deepnote_cell_type": "code",
    "deepnote_cell_height": 832.796875
   },
   "source": "# divide columns by `time`\nsum_data90 = sum_data[['goals', 'assists', 'key_passes', 'xG', 'xA', 'shots',\n       'xGChain', 'xGBuildup']].div(sum_data.time, axis=0)\n\n# then multiply with 90\nsum_data90[['goals', 'assists', 'key_passes', 'xG', 'xA', 'shots',\n       'xGChain', 'xGBuildup']] = sum_data90[['goals', 'assists', 'key_passes', 'xG', 'xA', 'shots',\n       'xGChain', 'xGBuildup']].apply(lambda x: x*90)\n\n# rename the columns\nsum_data90.columns.values[[0, 1, 2, 3, 4, 5, 6, 7]] = ['goals90', 'assists90', 'key_passes90', 'xG90', 'xA90', 'shots90',\n       'xGChain90', 'xGBuildup90']\nsum_data90.head(10)",
   "execution_count": null,
   "outputs": [
    {
     "output_type": "execute_result",
     "execution_count": 15,
     "data": {
      "application/vnd.deepnote.dataframe.v3+json": {
       "column_count": 8,
       "row_count": 10,
       "columns": [
        {
         "name": "goals90",
         "dtype": "float64",
         "stats": {
          "unique_count": 5,
          "nan_count": 0,
          "min": "0.0",
          "max": "0.17797552836484984",
          "histogram": [
           {
            "bin_start": 0,
            "bin_end": 0.017797552836484983,
            "count": 6
           },
           {
            "bin_start": 0.017797552836484983,
            "bin_end": 0.035595105672969966,
            "count": 1
           },
           {
            "bin_start": 0.035595105672969966,
            "bin_end": 0.053392658509454946,
            "count": 0
           },
           {
            "bin_start": 0.053392658509454946,
            "bin_end": 0.07119021134593993,
            "count": 0
           },
           {
            "bin_start": 0.07119021134593993,
            "bin_end": 0.08898776418242492,
            "count": 1
           },
           {
            "bin_start": 0.08898776418242492,
            "bin_end": 0.10678531701890989,
            "count": 0
           },
           {
            "bin_start": 0.10678531701890989,
            "bin_end": 0.12458286985539488,
            "count": 0
           },
           {
            "bin_start": 0.12458286985539488,
            "bin_end": 0.14238042269187987,
            "count": 1
           },
           {
            "bin_start": 0.14238042269187987,
            "bin_end": 0.16017797552836485,
            "count": 0
           },
           {
            "bin_start": 0.16017797552836485,
            "bin_end": 0.17797552836484984,
            "count": 1
           }
          ]
         }
        },
        {
         "name": "assists90",
         "dtype": "float64",
         "stats": {
          "unique_count": 9,
          "nan_count": 0,
          "min": "0.0",
          "max": "0.4891304347826087",
          "histogram": [
           {
            "bin_start": 0,
            "bin_end": 0.04891304347826087,
            "count": 2
           },
           {
            "bin_start": 0.04891304347826087,
            "bin_end": 0.09782608695652174,
            "count": 1
           },
           {
            "bin_start": 0.09782608695652174,
            "bin_end": 0.14673913043478262,
            "count": 3
           },
           {
            "bin_start": 0.14673913043478262,
            "bin_end": 0.1956521739130435,
            "count": 2
           },
           {
            "bin_start": 0.1956521739130435,
            "bin_end": 0.24456521739130435,
            "count": 1
           },
           {
            "bin_start": 0.24456521739130435,
            "bin_end": 0.29347826086956524,
            "count": 0
           },
           {
            "bin_start": 0.29347826086956524,
            "bin_end": 0.3423913043478261,
            "count": 0
           },
           {
            "bin_start": 0.3423913043478261,
            "bin_end": 0.391304347826087,
            "count": 0
           },
           {
            "bin_start": 0.391304347826087,
            "bin_end": 0.44021739130434784,
            "count": 0
           },
           {
            "bin_start": 0.44021739130434784,
            "bin_end": 0.4891304347826087,
            "count": 1
           }
          ]
         }
        },
        {
         "name": "key_passes90",
         "dtype": "float64",
         "stats": {
          "unique_count": 10,
          "nan_count": 0,
          "min": "0.40540540540540543",
          "max": "1.9565217391304348",
          "histogram": [
           {
            "bin_start": 0.40540540540540543,
            "bin_end": 0.5605170387779084,
            "count": 2
           },
           {
            "bin_start": 0.5605170387779084,
            "bin_end": 0.7156286721504113,
            "count": 1
           },
           {
            "bin_start": 0.7156286721504113,
            "bin_end": 0.8707403055229143,
            "count": 2
           },
           {
            "bin_start": 0.8707403055229143,
            "bin_end": 1.0258519388954173,
            "count": 2
           },
           {
            "bin_start": 1.0258519388954173,
            "bin_end": 1.1809635722679201,
            "count": 1
           },
           {
            "bin_start": 1.1809635722679201,
            "bin_end": 1.336075205640423,
            "count": 1
           },
           {
            "bin_start": 1.336075205640423,
            "bin_end": 1.4911868390129261,
            "count": 0
           },
           {
            "bin_start": 1.4911868390129261,
            "bin_end": 1.646298472385429,
            "count": 0
           },
           {
            "bin_start": 1.646298472385429,
            "bin_end": 1.801410105757932,
            "count": 0
           },
           {
            "bin_start": 1.801410105757932,
            "bin_end": 1.9565217391304348,
            "count": 1
           }
          ]
         }
        },
        {
         "name": "xG90",
         "dtype": "float64",
         "stats": {
          "unique_count": 10,
          "nan_count": 0,
          "min": "0.0",
          "max": "0.13246125873421846",
          "histogram": [
           {
            "bin_start": 0,
            "bin_end": 0.013246125873421846,
            "count": 2
           },
           {
            "bin_start": 0.013246125873421846,
            "bin_end": 0.026492251746843692,
            "count": 0
           },
           {
            "bin_start": 0.026492251746843692,
            "bin_end": 0.03973837762026554,
            "count": 4
           },
           {
            "bin_start": 0.03973837762026554,
            "bin_end": 0.052984503493687385,
            "count": 1
           },
           {
            "bin_start": 0.052984503493687385,
            "bin_end": 0.06623062936710923,
            "count": 1
           },
           {
            "bin_start": 0.06623062936710923,
            "bin_end": 0.07947675524053108,
            "count": 0
           },
           {
            "bin_start": 0.07947675524053108,
            "bin_end": 0.09272288111395292,
            "count": 0
           },
           {
            "bin_start": 0.09272288111395292,
            "bin_end": 0.10596900698737477,
            "count": 0
           },
           {
            "bin_start": 0.10596900698737477,
            "bin_end": 0.11921513286079662,
            "count": 1
           },
           {
            "bin_start": 0.11921513286079662,
            "bin_end": 0.13246125873421846,
            "count": 1
           }
          ]
         }
        },
        {
         "name": "xA90",
         "dtype": "float64",
         "stats": {
          "unique_count": 10,
          "nan_count": 0,
          "min": "0.009313707265096723",
          "max": "0.24726968582557596",
          "histogram": [
           {
            "bin_start": 0.009313707265096723,
            "bin_end": 0.03310930512114464,
            "count": 2
           },
           {
            "bin_start": 0.03310930512114464,
            "bin_end": 0.05690490297719257,
            "count": 0
           },
           {
            "bin_start": 0.05690490297719257,
            "bin_end": 0.08070050083324048,
            "count": 2
           },
           {
            "bin_start": 0.08070050083324048,
            "bin_end": 0.10449609868928841,
            "count": 3
           },
           {
            "bin_start": 0.10449609868928841,
            "bin_end": 0.12829169654533634,
            "count": 1
           },
           {
            "bin_start": 0.12829169654533634,
            "bin_end": 0.15208729440138424,
            "count": 0
           },
           {
            "bin_start": 0.15208729440138424,
            "bin_end": 0.17588289225743217,
            "count": 1
           },
           {
            "bin_start": 0.17588289225743217,
            "bin_end": 0.1996784901134801,
            "count": 0
           },
           {
            "bin_start": 0.1996784901134801,
            "bin_end": 0.22347408796952803,
            "count": 0
           },
           {
            "bin_start": 0.22347408796952803,
            "bin_end": 0.24726968582557596,
            "count": 1
           }
          ]
         }
        },
        {
         "name": "shots90",
         "dtype": "float64",
         "stats": {
          "unique_count": 10,
          "nan_count": 0,
          "min": "0.0",
          "max": "1.3047501542257864",
          "histogram": [
           {
            "bin_start": 0,
            "bin_end": 0.13047501542257864,
            "count": 1
           },
           {
            "bin_start": 0.13047501542257864,
            "bin_end": 0.2609500308451573,
            "count": 2
           },
           {
            "bin_start": 0.2609500308451573,
            "bin_end": 0.3914250462677359,
            "count": 1
           },
           {
            "bin_start": 0.3914250462677359,
            "bin_end": 0.5219000616903146,
            "count": 0
           },
           {
            "bin_start": 0.5219000616903146,
            "bin_end": 0.6523750771128932,
            "count": 1
           },
           {
            "bin_start": 0.6523750771128932,
            "bin_end": 0.7828500925354718,
            "count": 1
           },
           {
            "bin_start": 0.7828500925354718,
            "bin_end": 0.9133251079580504,
            "count": 0
           },
           {
            "bin_start": 0.9133251079580504,
            "bin_end": 1.043800123380629,
            "count": 2
           },
           {
            "bin_start": 1.043800123380629,
            "bin_end": 1.1742751388032078,
            "count": 0
           },
           {
            "bin_start": 1.1742751388032078,
            "bin_end": 1.3047501542257864,
            "count": 2
           }
          ]
         }
        },
        {
         "name": "xGChain90",
         "dtype": "float64",
         "stats": {
          "unique_count": 10,
          "nan_count": 0,
          "min": "0.07048512436449525",
          "max": "0.64452218123866",
          "histogram": [
           {
            "bin_start": 0.07048512436449525,
            "bin_end": 0.1278888300519117,
            "count": 1
           },
           {
            "bin_start": 0.1278888300519117,
            "bin_end": 0.1852925357393282,
            "count": 0
           },
           {
            "bin_start": 0.1852925357393282,
            "bin_end": 0.24269624142674465,
            "count": 1
           },
           {
            "bin_start": 0.24269624142674465,
            "bin_end": 0.3000999471141611,
            "count": 1
           },
           {
            "bin_start": 0.3000999471141611,
            "bin_end": 0.3575036528015776,
            "count": 2
           },
           {
            "bin_start": 0.3575036528015776,
            "bin_end": 0.41490735848899407,
            "count": 1
           },
           {
            "bin_start": 0.41490735848899407,
            "bin_end": 0.47231106417641056,
            "count": 1
           },
           {
            "bin_start": 0.47231106417641056,
            "bin_end": 0.529714769863827,
            "count": 0
           },
           {
            "bin_start": 0.529714769863827,
            "bin_end": 0.5871184755512435,
            "count": 1
           },
           {
            "bin_start": 0.5871184755512435,
            "bin_end": 0.64452218123866,
            "count": 2
           }
          ]
         }
        },
        {
         "name": "xGBuildup90",
         "dtype": "float64",
         "stats": {
          "unique_count": 10,
          "nan_count": 0,
          "min": "0.0600210111588239",
          "max": "0.57386916795493",
          "histogram": [
           {
            "bin_start": 0.0600210111588239,
            "bin_end": 0.11140582683843452,
            "count": 1
           },
           {
            "bin_start": 0.11140582683843452,
            "bin_end": 0.16279064251804515,
            "count": 1
           },
           {
            "bin_start": 0.16279064251804515,
            "bin_end": 0.21417545819765577,
            "count": 2
           },
           {
            "bin_start": 0.21417545819765577,
            "bin_end": 0.2655602738772664,
            "count": 1
           },
           {
            "bin_start": 0.2655602738772664,
            "bin_end": 0.316945089556877,
            "count": 1
           },
           {
            "bin_start": 0.316945089556877,
            "bin_end": 0.3683299052364876,
            "count": 1
           },
           {
            "bin_start": 0.3683299052364876,
            "bin_end": 0.41971472091609824,
            "count": 0
           },
           {
            "bin_start": 0.41971472091609824,
            "bin_end": 0.47109953659570886,
            "count": 1
           },
           {
            "bin_start": 0.47109953659570886,
            "bin_end": 0.5224843522753194,
            "count": 0
           },
           {
            "bin_start": 0.5224843522753194,
            "bin_end": 0.57386916795493,
            "count": 2
           }
          ]
         }
        },
        {
         "name": "_deepnote_index_column",
         "dtype": "int64"
        }
       ],
       "rows": [
        {
         "goals90": 0.07887817703768624,
         "assists90": 0.07887817703768624,
         "key_passes90": 1.2620508326029798,
         "xG90": 0.03540472675189961,
         "xA90": 0.10031671696697586,
         "shots90": 0.7099035933391761,
         "xGChain90": 0.32835008489991574,
         "xGBuildup90": 0.2863051802226841,
         "_deepnote_index_column": 0
        },
        {
         "goals90": 0.03139717425431711,
         "assists90": 0.10989010989010989,
         "key_passes90": 0.7849293563579277,
         "xG90": 0.027181265942951196,
         "xA90": 0.075585787495952,
         "shots90": 0.20408163265306123,
         "xGChain90": 0.39707632697358425,
         "xGBuildup90": 0.31925949254884634,
         "_deepnote_index_column": 1
        },
        {
         "goals90": 0,
         "assists90": 0.1169337375487224,
         "key_passes90": 0.6236466002598527,
         "xG90": 0.036196950851302735,
         "xA90": 0.07440559512779484,
         "shots90": 0.2728453876136856,
         "xGChain90": 0.6018562992286919,
         "xGBuildup90": 0.57386916795493,
         "_deepnote_index_column": 2
        },
        {
         "goals90": 0,
         "assists90": 0,
         "key_passes90": 0.40540540540540543,
         "xG90": 0.06214704867955798,
         "xA90": 0.009313707265096723,
         "shots90": 1.0135135135135134,
         "xGChain90": 0.19104979296743468,
         "xGBuildup90": 0.14529178139275392,
         "_deepnote_index_column": 3
        },
        {
         "goals90": 0,
         "assists90": 0.10344827586206896,
         "key_passes90": 0.7931034482758621,
         "xG90": 0.010130979490048916,
         "xA90": 0.09542265810586255,
         "shots90": 0.24137931034482757,
         "xGChain90": 0.2636701428684695,
         "xGBuildup90": 0.20711438139450963,
         "_deepnote_index_column": 4
        },
        {
         "goals90": 0.17797552836484984,
         "assists90": 0.20022246941045607,
         "key_passes90": 0.9232480533926586,
         "xG90": 0.11079890736367332,
         "xA90": 0.16894937939403187,
         "shots90": 1.0011123470522802,
         "xGChain90": 0.64452218123866,
         "xGBuildup90": 0.46206741750207175,
         "_deepnote_index_column": 5
        },
        {
         "goals90": 0.13880320789636028,
         "assists90": 0.16656384947563233,
         "key_passes90": 1.054904380012338,
         "xG90": 0.13246125873421846,
         "xA90": 0.09433060579397184,
         "shots90": 1.3047501542257864,
         "xGChain90": 0.42238611631430933,
         "xGBuildup90": 0.247602822427982,
         "_deepnote_index_column": 6
        },
        {
         "goals90": 0,
         "assists90": 0,
         "key_passes90": 0.5,
         "xG90": 0,
         "xA90": 0.01046411506831645,
         "shots90": 0,
         "xGChain90": 0.07048512436449525,
         "xGBuildup90": 0.0600210111588239,
         "_deepnote_index_column": 7
        },
        {
         "goals90": 0,
         "assists90": 0.4891304347826087,
         "key_passes90": 1.9565217391304348,
         "xG90": 0.050163801364681605,
         "xA90": 0.24726968582557596,
         "shots90": 1.2228260869565217,
         "xGChain90": 0.32782016251155216,
         "xGBuildup90": 0.16703625918244536,
         "_deepnote_index_column": 8
        },
        {
         "goals90": 0,
         "assists90": 0.1501251042535446,
         "key_passes90": 0.9007506255212677,
         "xG90": 0.02857613642144638,
         "xA90": 0.11098896595241628,
         "shots90": 0.5254378648874062,
         "xGChain90": 0.5649212627105409,
         "xGBuildup90": 0.5325158350200729,
         "_deepnote_index_column": 9
        }
       ]
      },
      "text/plain": "    goals90  assists90  key_passes90      xG90      xA90   shots90  xGChain90  \\\n0  0.078878   0.078878      1.262051  0.035405  0.100317  0.709904   0.328350   \n1  0.031397   0.109890      0.784929  0.027181  0.075586  0.204082   0.397076   \n2  0.000000   0.116934      0.623647  0.036197  0.074406  0.272845   0.601856   \n3  0.000000   0.000000      0.405405  0.062147  0.009314  1.013514   0.191050   \n4  0.000000   0.103448      0.793103  0.010131  0.095423  0.241379   0.263670   \n5  0.177976   0.200222      0.923248  0.110799  0.168949  1.001112   0.644522   \n6  0.138803   0.166564      1.054904  0.132461  0.094331  1.304750   0.422386   \n7  0.000000   0.000000      0.500000  0.000000  0.010464  0.000000   0.070485   \n8  0.000000   0.489130      1.956522  0.050164  0.247270  1.222826   0.327820   \n9  0.000000   0.150125      0.900751  0.028576  0.110989  0.525438   0.564921   \n\n   xGBuildup90  \n0     0.286305  \n1     0.319259  \n2     0.573869  \n3     0.145292  \n4     0.207114  \n5     0.462067  \n6     0.247603  \n7     0.060021  \n8     0.167036  \n9     0.532516  ",
      "text/html": "<div>\n<style scoped>\n    .dataframe tbody tr th:only-of-type {\n        vertical-align: middle;\n    }\n\n    .dataframe tbody tr th {\n        vertical-align: top;\n    }\n\n    .dataframe thead th {\n        text-align: right;\n    }\n</style>\n<table border=\"1\" class=\"dataframe\">\n  <thead>\n    <tr style=\"text-align: right;\">\n      <th></th>\n      <th>goals90</th>\n      <th>assists90</th>\n      <th>key_passes90</th>\n      <th>xG90</th>\n      <th>xA90</th>\n      <th>shots90</th>\n      <th>xGChain90</th>\n      <th>xGBuildup90</th>\n    </tr>\n  </thead>\n  <tbody>\n    <tr>\n      <th>0</th>\n      <td>0.078878</td>\n      <td>0.078878</td>\n      <td>1.262051</td>\n      <td>0.035405</td>\n      <td>0.100317</td>\n      <td>0.709904</td>\n      <td>0.328350</td>\n      <td>0.286305</td>\n    </tr>\n    <tr>\n      <th>1</th>\n      <td>0.031397</td>\n      <td>0.109890</td>\n      <td>0.784929</td>\n      <td>0.027181</td>\n      <td>0.075586</td>\n      <td>0.204082</td>\n      <td>0.397076</td>\n      <td>0.319259</td>\n    </tr>\n    <tr>\n      <th>2</th>\n      <td>0.000000</td>\n      <td>0.116934</td>\n      <td>0.623647</td>\n      <td>0.036197</td>\n      <td>0.074406</td>\n      <td>0.272845</td>\n      <td>0.601856</td>\n      <td>0.573869</td>\n    </tr>\n    <tr>\n      <th>3</th>\n      <td>0.000000</td>\n      <td>0.000000</td>\n      <td>0.405405</td>\n      <td>0.062147</td>\n      <td>0.009314</td>\n      <td>1.013514</td>\n      <td>0.191050</td>\n      <td>0.145292</td>\n    </tr>\n    <tr>\n      <th>4</th>\n      <td>0.000000</td>\n      <td>0.103448</td>\n      <td>0.793103</td>\n      <td>0.010131</td>\n      <td>0.095423</td>\n      <td>0.241379</td>\n      <td>0.263670</td>\n      <td>0.207114</td>\n    </tr>\n    <tr>\n      <th>5</th>\n      <td>0.177976</td>\n      <td>0.200222</td>\n      <td>0.923248</td>\n      <td>0.110799</td>\n      <td>0.168949</td>\n      <td>1.001112</td>\n      <td>0.644522</td>\n      <td>0.462067</td>\n    </tr>\n    <tr>\n      <th>6</th>\n      <td>0.138803</td>\n      <td>0.166564</td>\n      <td>1.054904</td>\n      <td>0.132461</td>\n      <td>0.094331</td>\n      <td>1.304750</td>\n      <td>0.422386</td>\n      <td>0.247603</td>\n    </tr>\n    <tr>\n      <th>7</th>\n      <td>0.000000</td>\n      <td>0.000000</td>\n      <td>0.500000</td>\n      <td>0.000000</td>\n      <td>0.010464</td>\n      <td>0.000000</td>\n      <td>0.070485</td>\n      <td>0.060021</td>\n    </tr>\n    <tr>\n      <th>8</th>\n      <td>0.000000</td>\n      <td>0.489130</td>\n      <td>1.956522</td>\n      <td>0.050164</td>\n      <td>0.247270</td>\n      <td>1.222826</td>\n      <td>0.327820</td>\n      <td>0.167036</td>\n    </tr>\n    <tr>\n      <th>9</th>\n      <td>0.000000</td>\n      <td>0.150125</td>\n      <td>0.900751</td>\n      <td>0.028576</td>\n      <td>0.110989</td>\n      <td>0.525438</td>\n      <td>0.564921</td>\n      <td>0.532516</td>\n    </tr>\n  </tbody>\n</table>\n</div>"
     },
     "metadata": {}
    }
   ]
  },
  {
   "cell_type": "markdown",
   "source": "In the next step, I simply concatenate two dataframes `sum_data` and `sum_data90` into one, namely `best_wingbacks`.",
   "metadata": {
    "cell_id": "20875b07-a88d-4e23-bd9d-500dcf3b8aea",
    "tags": [],
    "deepnote_app_coordinates": {
     "x": 0,
     "y": 240,
     "w": 12,
     "h": 5
    },
    "deepnote_cell_type": "markdown",
    "deepnote_cell_height": 52.390625
   }
  },
  {
   "cell_type": "code",
   "metadata": {
    "cell_id": "3f805098-bb3d-4a0a-acb7-9a01e87802f7",
    "tags": [],
    "deepnote_to_be_reexecuted": false,
    "source_hash": "9b7be6db",
    "execution_start": 1653580494991,
    "execution_millis": 822,
    "deepnote_app_coordinates": {
     "x": 0,
     "y": 246,
     "w": 12,
     "h": 5
    },
    "deepnote_cell_type": "code",
    "deepnote_cell_height": 483.796875
   },
   "source": "\nbest_wingbacks = pd.concat([sum_data, sum_data90], axis = 1)\nbest_wingbacks.drop(['goals', 'assists', 'key_passes', 'xG', 'xA', 'shots',\n       'xGChain', 'xGBuildup'], axis = 1, inplace = True)\nbest_wingbacks.head()",
   "execution_count": null,
   "outputs": [
    {
     "output_type": "execute_result",
     "execution_count": 16,
     "data": {
      "application/vnd.deepnote.dataframe.v3+json": {
       "column_count": 10,
       "row_count": 5,
       "columns": [
        {
         "name": "player",
         "dtype": "object",
         "stats": {
          "unique_count": 5,
          "nan_count": 0,
          "categories": [
           {
            "name": "Aaron Cresswell",
            "count": 1
           },
           {
            "name": "Aaron Wan-Bissaka",
            "count": 1
           },
           {
            "name": "3 others",
            "count": 3
           }
          ]
         }
        },
        {
         "name": "time",
         "dtype": "int64",
         "stats": {
          "unique_count": 5,
          "nan_count": 0,
          "min": "444",
          "max": "5733",
          "histogram": [
           {
            "bin_start": 444,
            "bin_end": 972.9,
            "count": 1
           },
           {
            "bin_start": 972.9,
            "bin_end": 1501.8,
            "count": 1
           },
           {
            "bin_start": 1501.8,
            "bin_end": 2030.6999999999998,
            "count": 0
           },
           {
            "bin_start": 2030.6999999999998,
            "bin_end": 2559.6,
            "count": 1
           },
           {
            "bin_start": 2559.6,
            "bin_end": 3088.5,
            "count": 1
           },
           {
            "bin_start": 3088.5,
            "bin_end": 3617.3999999999996,
            "count": 0
           },
           {
            "bin_start": 3617.3999999999996,
            "bin_end": 4146.299999999999,
            "count": 0
           },
           {
            "bin_start": 4146.299999999999,
            "bin_end": 4675.2,
            "count": 0
           },
           {
            "bin_start": 4675.2,
            "bin_end": 5204.099999999999,
            "count": 0
           },
           {
            "bin_start": 5204.099999999999,
            "bin_end": 5733,
            "count": 1
           }
          ]
         }
        },
        {
         "name": "goals90",
         "dtype": "float64",
         "stats": {
          "unique_count": 3,
          "nan_count": 0,
          "min": "0.0",
          "max": "0.07887817703768624",
          "histogram": [
           {
            "bin_start": 0,
            "bin_end": 0.007887817703768623,
            "count": 3
           },
           {
            "bin_start": 0.007887817703768623,
            "bin_end": 0.015775635407537247,
            "count": 0
           },
           {
            "bin_start": 0.015775635407537247,
            "bin_end": 0.023663453111305868,
            "count": 0
           },
           {
            "bin_start": 0.023663453111305868,
            "bin_end": 0.03155127081507449,
            "count": 1
           },
           {
            "bin_start": 0.03155127081507449,
            "bin_end": 0.03943908851884312,
            "count": 0
           },
           {
            "bin_start": 0.03943908851884312,
            "bin_end": 0.047326906222611737,
            "count": 0
           },
           {
            "bin_start": 0.047326906222611737,
            "bin_end": 0.05521472392638036,
            "count": 0
           },
           {
            "bin_start": 0.05521472392638036,
            "bin_end": 0.06310254163014899,
            "count": 0
           },
           {
            "bin_start": 0.06310254163014899,
            "bin_end": 0.0709903593339176,
            "count": 0
           },
           {
            "bin_start": 0.0709903593339176,
            "bin_end": 0.07887817703768624,
            "count": 1
           }
          ]
         }
        },
        {
         "name": "assists90",
         "dtype": "float64",
         "stats": {
          "unique_count": 5,
          "nan_count": 0,
          "min": "0.0",
          "max": "0.1169337375487224",
          "histogram": [
           {
            "bin_start": 0,
            "bin_end": 0.01169337375487224,
            "count": 1
           },
           {
            "bin_start": 0.01169337375487224,
            "bin_end": 0.02338674750974448,
            "count": 0
           },
           {
            "bin_start": 0.02338674750974448,
            "bin_end": 0.035080121264616716,
            "count": 0
           },
           {
            "bin_start": 0.035080121264616716,
            "bin_end": 0.04677349501948896,
            "count": 0
           },
           {
            "bin_start": 0.04677349501948896,
            "bin_end": 0.0584668687743612,
            "count": 0
           },
           {
            "bin_start": 0.0584668687743612,
            "bin_end": 0.07016024252923343,
            "count": 0
           },
           {
            "bin_start": 0.07016024252923343,
            "bin_end": 0.08185361628410567,
            "count": 1
           },
           {
            "bin_start": 0.08185361628410567,
            "bin_end": 0.09354699003897791,
            "count": 0
           },
           {
            "bin_start": 0.09354699003897791,
            "bin_end": 0.10524036379385016,
            "count": 1
           },
           {
            "bin_start": 0.10524036379385016,
            "bin_end": 0.1169337375487224,
            "count": 2
           }
          ]
         }
        },
        {
         "name": "key_passes90",
         "dtype": "float64",
         "stats": {
          "unique_count": 5,
          "nan_count": 0,
          "min": "0.40540540540540543",
          "max": "1.2620508326029798",
          "histogram": [
           {
            "bin_start": 0.40540540540540543,
            "bin_end": 0.49106994812516286,
            "count": 1
           },
           {
            "bin_start": 0.49106994812516286,
            "bin_end": 0.5767344908449203,
            "count": 0
           },
           {
            "bin_start": 0.5767344908449203,
            "bin_end": 0.6623990335646777,
            "count": 1
           },
           {
            "bin_start": 0.6623990335646777,
            "bin_end": 0.7480635762844352,
            "count": 0
           },
           {
            "bin_start": 0.7480635762844352,
            "bin_end": 0.8337281190041925,
            "count": 2
           },
           {
            "bin_start": 0.8337281190041925,
            "bin_end": 0.9193926617239501,
            "count": 0
           },
           {
            "bin_start": 0.9193926617239501,
            "bin_end": 1.0050572044437074,
            "count": 0
           },
           {
            "bin_start": 1.0050572044437074,
            "bin_end": 1.090721747163465,
            "count": 0
           },
           {
            "bin_start": 1.090721747163465,
            "bin_end": 1.1763862898832222,
            "count": 0
           },
           {
            "bin_start": 1.1763862898832222,
            "bin_end": 1.2620508326029798,
            "count": 1
           }
          ]
         }
        },
        {
         "name": "xG90",
         "dtype": "float64",
         "stats": {
          "unique_count": 5,
          "nan_count": 0,
          "min": "0.010130979490048916",
          "max": "0.06214704867955798",
          "histogram": [
           {
            "bin_start": 0.010130979490048916,
            "bin_end": 0.015332586408999822,
            "count": 1
           },
           {
            "bin_start": 0.015332586408999822,
            "bin_end": 0.02053419332795073,
            "count": 0
           },
           {
            "bin_start": 0.02053419332795073,
            "bin_end": 0.025735800246901638,
            "count": 0
           },
           {
            "bin_start": 0.025735800246901638,
            "bin_end": 0.030937407165852544,
            "count": 1
           },
           {
            "bin_start": 0.030937407165852544,
            "bin_end": 0.03613901408480345,
            "count": 1
           },
           {
            "bin_start": 0.03613901408480345,
            "bin_end": 0.04134062100375436,
            "count": 1
           },
           {
            "bin_start": 0.04134062100375436,
            "bin_end": 0.046542227922705265,
            "count": 0
           },
           {
            "bin_start": 0.046542227922705265,
            "bin_end": 0.05174383484165617,
            "count": 0
           },
           {
            "bin_start": 0.05174383484165617,
            "bin_end": 0.05694544176060708,
            "count": 0
           },
           {
            "bin_start": 0.05694544176060708,
            "bin_end": 0.06214704867955798,
            "count": 1
           }
          ]
         }
        },
        {
         "name": "xA90",
         "dtype": "float64",
         "stats": {
          "unique_count": 5,
          "nan_count": 0,
          "min": "0.009313707265096723",
          "max": "0.10031671696697586",
          "histogram": [
           {
            "bin_start": 0.009313707265096723,
            "bin_end": 0.018414008235284635,
            "count": 1
           },
           {
            "bin_start": 0.018414008235284635,
            "bin_end": 0.02751430920547255,
            "count": 0
           },
           {
            "bin_start": 0.02751430920547255,
            "bin_end": 0.036614610175660464,
            "count": 0
           },
           {
            "bin_start": 0.036614610175660464,
            "bin_end": 0.04571491114584837,
            "count": 0
           },
           {
            "bin_start": 0.04571491114584837,
            "bin_end": 0.054815212116036294,
            "count": 0
           },
           {
            "bin_start": 0.054815212116036294,
            "bin_end": 0.0639155130862242,
            "count": 0
           },
           {
            "bin_start": 0.0639155130862242,
            "bin_end": 0.07301581405641212,
            "count": 0
           },
           {
            "bin_start": 0.07301581405641212,
            "bin_end": 0.08211611502660003,
            "count": 2
           },
           {
            "bin_start": 0.08211611502660003,
            "bin_end": 0.09121641599678794,
            "count": 0
           },
           {
            "bin_start": 0.09121641599678794,
            "bin_end": 0.10031671696697586,
            "count": 2
           }
          ]
         }
        },
        {
         "name": "shots90",
         "dtype": "float64",
         "stats": {
          "unique_count": 5,
          "nan_count": 0,
          "min": "0.20408163265306123",
          "max": "1.0135135135135134",
          "histogram": [
           {
            "bin_start": 0.20408163265306123,
            "bin_end": 0.28502482073910645,
            "count": 3
           },
           {
            "bin_start": 0.28502482073910645,
            "bin_end": 0.3659680088251517,
            "count": 0
           },
           {
            "bin_start": 0.3659680088251517,
            "bin_end": 0.44691119691119685,
            "count": 0
           },
           {
            "bin_start": 0.44691119691119685,
            "bin_end": 0.5278543849972421,
            "count": 0
           },
           {
            "bin_start": 0.5278543849972421,
            "bin_end": 0.6087975730832873,
            "count": 0
           },
           {
            "bin_start": 0.6087975730832873,
            "bin_end": 0.6897407611693325,
            "count": 0
           },
           {
            "bin_start": 0.6897407611693325,
            "bin_end": 0.7706839492553778,
            "count": 1
           },
           {
            "bin_start": 0.7706839492553778,
            "bin_end": 0.8516271373414229,
            "count": 0
           },
           {
            "bin_start": 0.8516271373414229,
            "bin_end": 0.9325703254274681,
            "count": 0
           },
           {
            "bin_start": 0.9325703254274681,
            "bin_end": 1.0135135135135134,
            "count": 1
           }
          ]
         }
        },
        {
         "name": "xGChain90",
         "dtype": "float64",
         "stats": {
          "unique_count": 5,
          "nan_count": 0,
          "min": "0.19104979296743468",
          "max": "0.6018562992286919",
          "histogram": [
           {
            "bin_start": 0.19104979296743468,
            "bin_end": 0.2321304435935604,
            "count": 1
           },
           {
            "bin_start": 0.2321304435935604,
            "bin_end": 0.27321109421968615,
            "count": 1
           },
           {
            "bin_start": 0.27321109421968615,
            "bin_end": 0.31429174484581185,
            "count": 0
           },
           {
            "bin_start": 0.31429174484581185,
            "bin_end": 0.35537239547193755,
            "count": 1
           },
           {
            "bin_start": 0.35537239547193755,
            "bin_end": 0.39645304609806326,
            "count": 0
           },
           {
            "bin_start": 0.39645304609806326,
            "bin_end": 0.43753369672418896,
            "count": 1
           },
           {
            "bin_start": 0.43753369672418896,
            "bin_end": 0.4786143473503147,
            "count": 0
           },
           {
            "bin_start": 0.4786143473503147,
            "bin_end": 0.5196949979764405,
            "count": 0
           },
           {
            "bin_start": 0.5196949979764405,
            "bin_end": 0.5607756486025661,
            "count": 0
           },
           {
            "bin_start": 0.5607756486025661,
            "bin_end": 0.6018562992286919,
            "count": 1
           }
          ]
         }
        },
        {
         "name": "xGBuildup90",
         "dtype": "float64",
         "stats": {
          "unique_count": 5,
          "nan_count": 0,
          "min": "0.14529178139275392",
          "max": "0.57386916795493",
          "histogram": [
           {
            "bin_start": 0.14529178139275392,
            "bin_end": 0.18814952004897154,
            "count": 1
           },
           {
            "bin_start": 0.18814952004897154,
            "bin_end": 0.23100725870518915,
            "count": 1
           },
           {
            "bin_start": 0.23100725870518915,
            "bin_end": 0.2738649973614068,
            "count": 0
           },
           {
            "bin_start": 0.2738649973614068,
            "bin_end": 0.31672273601762435,
            "count": 1
           },
           {
            "bin_start": 0.31672273601762435,
            "bin_end": 0.359580474673842,
            "count": 1
           },
           {
            "bin_start": 0.359580474673842,
            "bin_end": 0.4024382133300596,
            "count": 0
           },
           {
            "bin_start": 0.4024382133300596,
            "bin_end": 0.44529595198627725,
            "count": 0
           },
           {
            "bin_start": 0.44529595198627725,
            "bin_end": 0.4881536906424948,
            "count": 0
           },
           {
            "bin_start": 0.4881536906424948,
            "bin_end": 0.5310114292987125,
            "count": 0
           },
           {
            "bin_start": 0.5310114292987125,
            "bin_end": 0.57386916795493,
            "count": 1
           }
          ]
         }
        },
        {
         "name": "_deepnote_index_column",
         "dtype": "int64"
        }
       ],
       "rows": [
        {
         "player": "Aaron Cresswell",
         "time": 1141,
         "goals90": 0.07887817703768624,
         "assists90": 0.07887817703768624,
         "key_passes90": 1.2620508326029798,
         "xG90": 0.03540472675189961,
         "xA90": 0.10031671696697586,
         "shots90": 0.7099035933391761,
         "xGChain90": 0.32835008489991574,
         "xGBuildup90": 0.2863051802226841,
         "_deepnote_index_column": 0
        },
        {
         "player": "Aaron Wan-Bissaka",
         "time": 5733,
         "goals90": 0.03139717425431711,
         "assists90": 0.10989010989010989,
         "key_passes90": 0.7849293563579277,
         "xG90": 0.027181265942951196,
         "xA90": 0.075585787495952,
         "shots90": 0.20408163265306123,
         "xGChain90": 0.39707632697358425,
         "xGBuildup90": 0.31925949254884634,
         "_deepnote_index_column": 1
        },
        {
         "player": "Abdou Diallo",
         "time": 2309,
         "goals90": 0,
         "assists90": 0.1169337375487224,
         "key_passes90": 0.6236466002598527,
         "xG90": 0.036196950851302735,
         "xA90": 0.07440559512779484,
         "shots90": 0.2728453876136856,
         "xGChain90": 0.6018562992286919,
         "xGBuildup90": 0.57386916795493,
         "_deepnote_index_column": 2
        },
        {
         "player": "Abdoulay Konko",
         "time": 444,
         "goals90": 0,
         "assists90": 0,
         "key_passes90": 0.40540540540540543,
         "xG90": 0.06214704867955798,
         "xA90": 0.009313707265096723,
         "shots90": 1.0135135135135134,
         "xGChain90": 0.19104979296743468,
         "xGBuildup90": 0.14529178139275392,
         "_deepnote_index_column": 3
        },
        {
         "player": "Abdul Rahman Baba",
         "time": 2610,
         "goals90": 0,
         "assists90": 0.10344827586206896,
         "key_passes90": 0.7931034482758621,
         "xG90": 0.010130979490048916,
         "xA90": 0.09542265810586255,
         "shots90": 0.24137931034482757,
         "xGChain90": 0.2636701428684695,
         "xGBuildup90": 0.20711438139450963,
         "_deepnote_index_column": 4
        }
       ]
      },
      "text/plain": "              player  time   goals90  assists90  key_passes90      xG90  \\\n0    Aaron Cresswell  1141  0.078878   0.078878      1.262051  0.035405   \n1  Aaron Wan-Bissaka  5733  0.031397   0.109890      0.784929  0.027181   \n2       Abdou Diallo  2309  0.000000   0.116934      0.623647  0.036197   \n3     Abdoulay Konko   444  0.000000   0.000000      0.405405  0.062147   \n4  Abdul Rahman Baba  2610  0.000000   0.103448      0.793103  0.010131   \n\n       xA90   shots90  xGChain90  xGBuildup90  \n0  0.100317  0.709904   0.328350     0.286305  \n1  0.075586  0.204082   0.397076     0.319259  \n2  0.074406  0.272845   0.601856     0.573869  \n3  0.009314  1.013514   0.191050     0.145292  \n4  0.095423  0.241379   0.263670     0.207114  ",
      "text/html": "<div>\n<style scoped>\n    .dataframe tbody tr th:only-of-type {\n        vertical-align: middle;\n    }\n\n    .dataframe tbody tr th {\n        vertical-align: top;\n    }\n\n    .dataframe thead th {\n        text-align: right;\n    }\n</style>\n<table border=\"1\" class=\"dataframe\">\n  <thead>\n    <tr style=\"text-align: right;\">\n      <th></th>\n      <th>player</th>\n      <th>time</th>\n      <th>goals90</th>\n      <th>assists90</th>\n      <th>key_passes90</th>\n      <th>xG90</th>\n      <th>xA90</th>\n      <th>shots90</th>\n      <th>xGChain90</th>\n      <th>xGBuildup90</th>\n    </tr>\n  </thead>\n  <tbody>\n    <tr>\n      <th>0</th>\n      <td>Aaron Cresswell</td>\n      <td>1141</td>\n      <td>0.078878</td>\n      <td>0.078878</td>\n      <td>1.262051</td>\n      <td>0.035405</td>\n      <td>0.100317</td>\n      <td>0.709904</td>\n      <td>0.328350</td>\n      <td>0.286305</td>\n    </tr>\n    <tr>\n      <th>1</th>\n      <td>Aaron Wan-Bissaka</td>\n      <td>5733</td>\n      <td>0.031397</td>\n      <td>0.109890</td>\n      <td>0.784929</td>\n      <td>0.027181</td>\n      <td>0.075586</td>\n      <td>0.204082</td>\n      <td>0.397076</td>\n      <td>0.319259</td>\n    </tr>\n    <tr>\n      <th>2</th>\n      <td>Abdou Diallo</td>\n      <td>2309</td>\n      <td>0.000000</td>\n      <td>0.116934</td>\n      <td>0.623647</td>\n      <td>0.036197</td>\n      <td>0.074406</td>\n      <td>0.272845</td>\n      <td>0.601856</td>\n      <td>0.573869</td>\n    </tr>\n    <tr>\n      <th>3</th>\n      <td>Abdoulay Konko</td>\n      <td>444</td>\n      <td>0.000000</td>\n      <td>0.000000</td>\n      <td>0.405405</td>\n      <td>0.062147</td>\n      <td>0.009314</td>\n      <td>1.013514</td>\n      <td>0.191050</td>\n      <td>0.145292</td>\n    </tr>\n    <tr>\n      <th>4</th>\n      <td>Abdul Rahman Baba</td>\n      <td>2610</td>\n      <td>0.000000</td>\n      <td>0.103448</td>\n      <td>0.793103</td>\n      <td>0.010131</td>\n      <td>0.095423</td>\n      <td>0.241379</td>\n      <td>0.263670</td>\n      <td>0.207114</td>\n    </tr>\n  </tbody>\n</table>\n</div>"
     },
     "metadata": {}
    }
   ]
  },
  {
   "cell_type": "markdown",
   "source": "Now I make a rank for all the wingbacks, based on `xGChain90`. \n\nWhat I found is that, some players have really high average stats when they played at wingbacks position. That's because `wingbacks` weren't their main roles in their teams, they played there for only a short `time`. Therefore, I decide to consider only players that played at these positions long enough, namely at least 5000 minutes.",
   "metadata": {
    "cell_id": "d4d9fc39-2204-438a-9706-48778ffe260e",
    "tags": [],
    "deepnote_app_coordinates": {
     "x": 0,
     "y": 252,
     "w": 12,
     "h": 5
    },
    "deepnote_cell_type": "markdown",
    "deepnote_cell_height": 133.59375
   }
  },
  {
   "cell_type": "code",
   "metadata": {
    "cell_id": "8d46f5df-82c5-4f0a-90fb-742e685162f7",
    "tags": [],
    "deepnote_to_be_reexecuted": false,
    "source_hash": "eb9460b8",
    "execution_start": 1653580495165,
    "execution_millis": 677,
    "deepnote_table_state": {
     "pageSize": 25,
     "pageIndex": 0,
     "filters": [],
     "sortBy": []
    },
    "deepnote_table_loading": false,
    "deepnote_app_coordinates": {
     "x": 0,
     "y": 377,
     "w": 12,
     "h": 50
    },
    "deepnote_cell_type": "code",
    "deepnote_cell_height": 1278.796875
   },
   "source": "# remove all `player` with `time` less than 5000 minutes and sort the rest\nrank_wingbacks = best_wingbacks.drop(best_wingbacks[best_wingbacks['time']<5000].index)\n\nrank_wingbacks.sort_values('xGChain90',ascending=False,inplace=True)\nrank_wingbacks.reset_index(inplace=True, drop=True)\n\n# add a column called `rank`\nrank_wingbacks['rank'] = range(1,len(rank_wingbacks)+1)\n\n# rearrange the columns\nrank_wingbacks = rank_wingbacks[['rank', 'player', 'time', 'xGChain90', 'xGBuildup90', 'goals90', 'assists90', 'key_passes90', 'xG90', 'xA90', 'shots90']]\n\n# round to 3 decimal digits\nrank_wingbacks =  rank_wingbacks.round(3)\nrank_wingbacks.head(20)",
   "execution_count": null,
   "outputs": [
    {
     "output_type": "execute_result",
     "execution_count": 17,
     "data": {
      "application/vnd.deepnote.dataframe.v3+json": {
       "column_count": 11,
       "row_count": 20,
       "columns": [
        {
         "name": "rank",
         "dtype": "int64",
         "stats": {
          "unique_count": 20,
          "nan_count": 0,
          "min": "1",
          "max": "20",
          "histogram": [
           {
            "bin_start": 1,
            "bin_end": 2.9,
            "count": 2
           },
           {
            "bin_start": 2.9,
            "bin_end": 4.8,
            "count": 2
           },
           {
            "bin_start": 4.8,
            "bin_end": 6.699999999999999,
            "count": 2
           },
           {
            "bin_start": 6.699999999999999,
            "bin_end": 8.6,
            "count": 2
           },
           {
            "bin_start": 8.6,
            "bin_end": 10.5,
            "count": 2
           },
           {
            "bin_start": 10.5,
            "bin_end": 12.399999999999999,
            "count": 2
           },
           {
            "bin_start": 12.399999999999999,
            "bin_end": 14.299999999999999,
            "count": 2
           },
           {
            "bin_start": 14.299999999999999,
            "bin_end": 16.2,
            "count": 2
           },
           {
            "bin_start": 16.2,
            "bin_end": 18.099999999999998,
            "count": 2
           },
           {
            "bin_start": 18.099999999999998,
            "bin_end": 20,
            "count": 2
           }
          ]
         }
        },
        {
         "name": "player",
         "dtype": "object",
         "stats": {
          "unique_count": 20,
          "nan_count": 0,
          "categories": [
           {
            "name": "Alphonso Davies",
            "count": 1
           },
           {
            "name": "Joshua Kimmich",
            "count": 1
           },
           {
            "name": "18 others",
            "count": 18
           }
          ]
         }
        },
        {
         "name": "time",
         "dtype": "int64",
         "stats": {
          "unique_count": 20,
          "nan_count": 0,
          "min": "5026",
          "max": "16178",
          "histogram": [
           {
            "bin_start": 5026,
            "bin_end": 6141.2,
            "count": 6
           },
           {
            "bin_start": 6141.2,
            "bin_end": 7256.4,
            "count": 1
           },
           {
            "bin_start": 7256.4,
            "bin_end": 8371.6,
            "count": 6
           },
           {
            "bin_start": 8371.6,
            "bin_end": 9486.8,
            "count": 2
           },
           {
            "bin_start": 9486.8,
            "bin_end": 10602,
            "count": 0
           },
           {
            "bin_start": 10602,
            "bin_end": 11717.2,
            "count": 1
           },
           {
            "bin_start": 11717.2,
            "bin_end": 12832.400000000001,
            "count": 1
           },
           {
            "bin_start": 12832.400000000001,
            "bin_end": 13947.6,
            "count": 1
           },
           {
            "bin_start": 13947.6,
            "bin_end": 15062.800000000001,
            "count": 1
           },
           {
            "bin_start": 15062.800000000001,
            "bin_end": 16178,
            "count": 1
           }
          ]
         }
        },
        {
         "name": "xGChain90",
         "dtype": "float64",
         "stats": {
          "unique_count": 20,
          "nan_count": 0,
          "min": "0.565",
          "max": "0.839",
          "histogram": [
           {
            "bin_start": 0.565,
            "bin_end": 0.5923999999999999,
            "count": 3
           },
           {
            "bin_start": 0.5923999999999999,
            "bin_end": 0.6197999999999999,
            "count": 6
           },
           {
            "bin_start": 0.6197999999999999,
            "bin_end": 0.6472,
            "count": 3
           },
           {
            "bin_start": 0.6472,
            "bin_end": 0.6746,
            "count": 1
           },
           {
            "bin_start": 0.6746,
            "bin_end": 0.702,
            "count": 2
           },
           {
            "bin_start": 0.702,
            "bin_end": 0.7293999999999999,
            "count": 0
           },
           {
            "bin_start": 0.7293999999999999,
            "bin_end": 0.7567999999999999,
            "count": 2
           },
           {
            "bin_start": 0.7567999999999999,
            "bin_end": 0.7842,
            "count": 1
           },
           {
            "bin_start": 0.7842,
            "bin_end": 0.8116,
            "count": 1
           },
           {
            "bin_start": 0.8116,
            "bin_end": 0.839,
            "count": 1
           }
          ]
         }
        },
        {
         "name": "xGBuildup90",
         "dtype": "float64",
         "stats": {
          "unique_count": 19,
          "nan_count": 0,
          "min": "0.426",
          "max": "0.672",
          "histogram": [
           {
            "bin_start": 0.426,
            "bin_end": 0.4506,
            "count": 3
           },
           {
            "bin_start": 0.4506,
            "bin_end": 0.4752,
            "count": 2
           },
           {
            "bin_start": 0.4752,
            "bin_end": 0.4998,
            "count": 3
           },
           {
            "bin_start": 0.4998,
            "bin_end": 0.5244,
            "count": 3
           },
           {
            "bin_start": 0.5244,
            "bin_end": 0.549,
            "count": 2
           },
           {
            "bin_start": 0.549,
            "bin_end": 0.5736,
            "count": 2
           },
           {
            "bin_start": 0.5736,
            "bin_end": 0.5982000000000001,
            "count": 1
           },
           {
            "bin_start": 0.5982000000000001,
            "bin_end": 0.6228,
            "count": 2
           },
           {
            "bin_start": 0.6228,
            "bin_end": 0.6474,
            "count": 1
           },
           {
            "bin_start": 0.6474,
            "bin_end": 0.672,
            "count": 1
           }
          ]
         }
        },
        {
         "name": "goals90",
         "dtype": "float64",
         "stats": {
          "unique_count": 19,
          "nan_count": 0,
          "min": "0.019",
          "max": "0.275",
          "histogram": [
           {
            "bin_start": 0.019,
            "bin_end": 0.0446,
            "count": 5
           },
           {
            "bin_start": 0.0446,
            "bin_end": 0.0702,
            "count": 7
           },
           {
            "bin_start": 0.0702,
            "bin_end": 0.09580000000000001,
            "count": 5
           },
           {
            "bin_start": 0.09580000000000001,
            "bin_end": 0.12140000000000001,
            "count": 1
           },
           {
            "bin_start": 0.12140000000000001,
            "bin_end": 0.147,
            "count": 0
           },
           {
            "bin_start": 0.147,
            "bin_end": 0.1726,
            "count": 0
           },
           {
            "bin_start": 0.1726,
            "bin_end": 0.1982,
            "count": 1
           },
           {
            "bin_start": 0.1982,
            "bin_end": 0.2238,
            "count": 0
           },
           {
            "bin_start": 0.2238,
            "bin_end": 0.2494,
            "count": 0
           },
           {
            "bin_start": 0.2494,
            "bin_end": 0.275,
            "count": 1
           }
          ]
         }
        },
        {
         "name": "assists90",
         "dtype": "float64",
         "stats": {
          "unique_count": 18,
          "nan_count": 0,
          "min": "0.076",
          "max": "0.343",
          "histogram": [
           {
            "bin_start": 0.076,
            "bin_end": 0.1027,
            "count": 3
           },
           {
            "bin_start": 0.1027,
            "bin_end": 0.12940000000000002,
            "count": 0
           },
           {
            "bin_start": 0.12940000000000002,
            "bin_end": 0.15610000000000002,
            "count": 4
           },
           {
            "bin_start": 0.15610000000000002,
            "bin_end": 0.18280000000000002,
            "count": 3
           },
           {
            "bin_start": 0.18280000000000002,
            "bin_end": 0.20950000000000002,
            "count": 2
           },
           {
            "bin_start": 0.20950000000000002,
            "bin_end": 0.23620000000000002,
            "count": 3
           },
           {
            "bin_start": 0.23620000000000002,
            "bin_end": 0.2629,
            "count": 1
           },
           {
            "bin_start": 0.2629,
            "bin_end": 0.2896,
            "count": 2
           },
           {
            "bin_start": 0.2896,
            "bin_end": 0.3163,
            "count": 0
           },
           {
            "bin_start": 0.3163,
            "bin_end": 0.343,
            "count": 2
           }
          ]
         }
        },
        {
         "name": "key_passes90",
         "dtype": "float64",
         "stats": {
          "unique_count": 20,
          "nan_count": 0,
          "min": "0.74",
          "max": "2.306",
          "histogram": [
           {
            "bin_start": 0.74,
            "bin_end": 0.8966000000000001,
            "count": 3
           },
           {
            "bin_start": 0.8966000000000001,
            "bin_end": 1.0532,
            "count": 2
           },
           {
            "bin_start": 1.0532,
            "bin_end": 1.2098,
            "count": 4
           },
           {
            "bin_start": 1.2098,
            "bin_end": 1.3664,
            "count": 3
           },
           {
            "bin_start": 1.3664,
            "bin_end": 1.5230000000000001,
            "count": 2
           },
           {
            "bin_start": 1.5230000000000001,
            "bin_end": 1.6796000000000002,
            "count": 1
           },
           {
            "bin_start": 1.6796000000000002,
            "bin_end": 1.8362,
            "count": 2
           },
           {
            "bin_start": 1.8362,
            "bin_end": 1.9928000000000001,
            "count": 0
           },
           {
            "bin_start": 1.9928000000000001,
            "bin_end": 2.1494,
            "count": 1
           },
           {
            "bin_start": 2.1494,
            "bin_end": 2.306,
            "count": 2
           }
          ]
         }
        },
        {
         "name": "xG90",
         "dtype": "float64",
         "stats": {
          "unique_count": 20,
          "nan_count": 0,
          "min": "0.02",
          "max": "0.173",
          "histogram": [
           {
            "bin_start": 0.02,
            "bin_end": 0.0353,
            "count": 4
           },
           {
            "bin_start": 0.0353,
            "bin_end": 0.0506,
            "count": 5
           },
           {
            "bin_start": 0.0506,
            "bin_end": 0.0659,
            "count": 5
           },
           {
            "bin_start": 0.0659,
            "bin_end": 0.0812,
            "count": 4
           },
           {
            "bin_start": 0.0812,
            "bin_end": 0.0965,
            "count": 0
           },
           {
            "bin_start": 0.0965,
            "bin_end": 0.1118,
            "count": 1
           },
           {
            "bin_start": 0.1118,
            "bin_end": 0.1271,
            "count": 0
           },
           {
            "bin_start": 0.1271,
            "bin_end": 0.1424,
            "count": 0
           },
           {
            "bin_start": 0.1424,
            "bin_end": 0.15769999999999998,
            "count": 0
           },
           {
            "bin_start": 0.15769999999999998,
            "bin_end": 0.173,
            "count": 1
           }
          ]
         }
        },
        {
         "name": "xA90",
         "dtype": "float64",
         "stats": {
          "unique_count": 20,
          "nan_count": 0,
          "min": "0.085",
          "max": "0.309",
          "histogram": [
           {
            "bin_start": 0.085,
            "bin_end": 0.1074,
            "count": 3
           },
           {
            "bin_start": 0.1074,
            "bin_end": 0.1298,
            "count": 1
           },
           {
            "bin_start": 0.1298,
            "bin_end": 0.1522,
            "count": 1
           },
           {
            "bin_start": 0.1522,
            "bin_end": 0.17459999999999998,
            "count": 5
           },
           {
            "bin_start": 0.17459999999999998,
            "bin_end": 0.197,
            "count": 3
           },
           {
            "bin_start": 0.197,
            "bin_end": 0.21939999999999998,
            "count": 4
           },
           {
            "bin_start": 0.21939999999999998,
            "bin_end": 0.24179999999999996,
            "count": 0
           },
           {
            "bin_start": 0.24179999999999996,
            "bin_end": 0.2642,
            "count": 1
           },
           {
            "bin_start": 0.2642,
            "bin_end": 0.28659999999999997,
            "count": 0
           },
           {
            "bin_start": 0.28659999999999997,
            "bin_end": 0.309,
            "count": 2
           }
          ]
         }
        },
        {
         "name": "shots90",
         "dtype": "float64",
         "stats": {
          "unique_count": 20,
          "nan_count": 0,
          "min": "0.272",
          "max": "1.44",
          "histogram": [
           {
            "bin_start": 0.272,
            "bin_end": 0.38880000000000003,
            "count": 2
           },
           {
            "bin_start": 0.38880000000000003,
            "bin_end": 0.5056,
            "count": 4
           },
           {
            "bin_start": 0.5056,
            "bin_end": 0.6224,
            "count": 2
           },
           {
            "bin_start": 0.6224,
            "bin_end": 0.7392,
            "count": 2
           },
           {
            "bin_start": 0.7392,
            "bin_end": 0.856,
            "count": 2
           },
           {
            "bin_start": 0.856,
            "bin_end": 0.9727999999999999,
            "count": 2
           },
           {
            "bin_start": 0.9727999999999999,
            "bin_end": 1.0896,
            "count": 2
           },
           {
            "bin_start": 1.0896,
            "bin_end": 1.2064,
            "count": 0
           },
           {
            "bin_start": 1.2064,
            "bin_end": 1.3232,
            "count": 2
           },
           {
            "bin_start": 1.3232,
            "bin_end": 1.44,
            "count": 2
           }
          ]
         }
        },
        {
         "name": "_deepnote_index_column",
         "dtype": "int64"
        }
       ],
       "rows": [
        {
         "rank": 1,
         "player": "Alphonso Davies",
         "time": 5026,
         "xGChain90": 0.839,
         "xGBuildup90": 0.672,
         "goals90": 0.054,
         "assists90": 0.179,
         "key_passes90": 1.343,
         "xG90": 0.059,
         "xA90": 0.165,
         "shots90": 0.501,
         "_deepnote_index_column": 0
        },
        {
         "rank": 2,
         "player": "Joshua Kimmich",
         "time": 5775,
         "xGChain90": 0.801,
         "xGBuildup90": 0.625,
         "goals90": 0.047,
         "assists90": 0.343,
         "key_passes90": 2.306,
         "xG90": 0.044,
         "xA90": 0.309,
         "shots90": 0.545,
         "_deepnote_index_column": 1
        },
        {
         "rank": 3,
         "player": "Jordi Alba",
         "time": 16178,
         "xGChain90": 0.763,
         "xGBuildup90": 0.602,
         "goals90": 0.056,
         "assists90": 0.228,
         "key_passes90": 1.185,
         "xG90": 0.067,
         "xA90": 0.201,
         "shots90": 0.462,
         "_deepnote_index_column": 2
        },
        {
         "rank": 4,
         "player": "Dani Alves",
         "time": 8055,
         "xGChain90": 0.747,
         "xGBuildup90": 0.621,
         "goals90": 0.045,
         "assists90": 0.212,
         "key_passes90": 1.52,
         "xG90": 0.047,
         "xA90": 0.17,
         "shots90": 0.961,
         "_deepnote_index_column": 3
        },
        {
         "rank": 5,
         "player": "Raphael Guerreiro",
         "time": 5561,
         "xGChain90": 0.738,
         "xGBuildup90": 0.548,
         "goals90": 0.275,
         "assists90": 0.21,
         "key_passes90": 1.716,
         "xG90": 0.173,
         "xA90": 0.179,
         "shots90": 1.44,
         "_deepnote_index_column": 4
        },
        {
         "rank": 6,
         "player": "David Alaba",
         "time": 7421,
         "xGChain90": 0.692,
         "xGBuildup90": 0.551,
         "goals90": 0.109,
         "assists90": 0.133,
         "key_passes90": 1.346,
         "xG90": 0.079,
         "xA90": 0.178,
         "shots90": 1.346,
         "_deepnote_index_column": 5
        },
        {
         "rank": 7,
         "player": "Marcelo",
         "time": 13870,
         "xGChain90": 0.677,
         "xGBuildup90": 0.511,
         "goals90": 0.065,
         "assists90": 0.195,
         "key_passes90": 1.726,
         "xG90": 0.062,
         "xA90": 0.204,
         "shots90": 1.038,
         "_deepnote_index_column": 6
        },
        {
         "rank": 8,
         "player": "Sergi Roberto",
         "time": 7906,
         "xGChain90": 0.662,
         "xGBuildup90": 0.579,
         "goals90": 0.023,
         "assists90": 0.239,
         "key_passes90": 1.07,
         "xG90": 0.026,
         "xA90": 0.155,
         "shots90": 0.387,
         "_deepnote_index_column": 7
        },
        {
         "rank": 9,
         "player": "Achraf Hakimi",
         "time": 8091,
         "xGChain90": 0.645,
         "xGBuildup90": 0.462,
         "goals90": 0.178,
         "assists90": 0.2,
         "key_passes90": 0.923,
         "xG90": 0.111,
         "xA90": 0.169,
         "shots90": 1.001,
         "_deepnote_index_column": 8
        },
        {
         "rank": 10,
         "player": "Maxwell",
         "time": 5949,
         "xGChain90": 0.63,
         "xGBuildup90": 0.54,
         "goals90": 0.076,
         "assists90": 0.166,
         "key_passes90": 0.983,
         "xG90": 0.025,
         "xA90": 0.174,
         "shots90": 0.272,
         "_deepnote_index_column": 9
        },
        {
         "rank": 11,
         "player": "Thomas Meunier",
         "time": 8204,
         "xGChain90": 0.623,
         "xGBuildup90": 0.482,
         "goals90": 0.077,
         "assists90": 0.165,
         "key_passes90": 1.13,
         "xG90": 0.06,
         "xA90": 0.203,
         "shots90": 0.801,
         "_deepnote_index_column": 10
        },
        {
         "rank": 12,
         "player": "João Cancelo",
         "time": 8935,
         "xGChain90": 0.617,
         "xGBuildup90": 0.478,
         "goals90": 0.04,
         "assists90": 0.131,
         "key_passes90": 1.45,
         "xG90": 0.068,
         "xA90": 0.19,
         "shots90": 1.32,
         "_deepnote_index_column": 11
        },
        {
         "rank": 13,
         "player": "Juan Cuadrado",
         "time": 6332,
         "xGChain90": 0.613,
         "xGBuildup90": 0.446,
         "goals90": 0.085,
         "assists90": 0.27,
         "key_passes90": 2.018,
         "xG90": 0.074,
         "xA90": 0.242,
         "shots90": 0.967,
         "_deepnote_index_column": 12
        },
        {
         "rank": 14,
         "player": "Danilo",
         "time": 9228,
         "xGChain90": 0.612,
         "xGBuildup90": 0.522,
         "goals90": 0.078,
         "assists90": 0.137,
         "key_passes90": 0.8,
         "xG90": 0.05,
         "xA90": 0.085,
         "shots90": 0.809,
         "_deepnote_index_column": 13
        },
        {
         "rank": 15,
         "player": "Trent Alexander-Arnold",
         "time": 11673,
         "xGChain90": 0.607,
         "xGBuildup90": 0.426,
         "goals90": 0.077,
         "assists90": 0.324,
         "key_passes90": 2.197,
         "xG90": 0.064,
         "xA90": 0.287,
         "shots90": 1.257,
         "_deepnote_index_column": 14
        },
        {
         "rank": 16,
         "player": "Rafinha",
         "time": 5923,
         "xGChain90": 0.606,
         "xGBuildup90": 0.55,
         "goals90": 0.03,
         "assists90": 0.076,
         "key_passes90": 1.109,
         "xG90": 0.02,
         "xA90": 0.087,
         "shots90": 0.456,
         "_deepnote_index_column": 15
        },
        {
         "rank": 17,
         "player": "Daniel Carvajal",
         "time": 14262,
         "xGChain90": 0.602,
         "xGBuildup90": 0.496,
         "goals90": 0.019,
         "assists90": 0.133,
         "key_passes90": 1.319,
         "xG90": 0.035,
         "xA90": 0.152,
         "shots90": 0.461,
         "_deepnote_index_column": 16
        },
        {
         "rank": 18,
         "player": "Andrew Robertson",
         "time": 12832,
         "xGChain90": 0.585,
         "xGBuildup90": 0.456,
         "goals90": 0.035,
         "assists90": 0.274,
         "key_passes90": 1.529,
         "xG90": 0.04,
         "xA90": 0.215,
         "shots90": 0.519,
         "_deepnote_index_column": 17
        },
        {
         "rank": 19,
         "player": "Juan Bernat",
         "time": 7368,
         "xGChain90": 0.58,
         "xGBuildup90": 0.447,
         "goals90": 0.049,
         "assists90": 0.086,
         "key_passes90": 0.806,
         "xG90": 0.055,
         "xA90": 0.125,
         "shots90": 0.635,
         "_deepnote_index_column": 18
        },
        {
         "rank": 20,
         "player": "Benjamin Pavard",
         "time": 5229,
         "xGChain90": 0.565,
         "xGBuildup90": 0.511,
         "goals90": 0.069,
         "assists90": 0.086,
         "key_passes90": 0.74,
         "xG90": 0.038,
         "xA90": 0.099,
         "shots90": 0.637,
         "_deepnote_index_column": 19
        }
       ]
      },
      "text/plain": "    rank                  player   time  xGChain90  xGBuildup90  goals90  \\\n0      1         Alphonso Davies   5026      0.839        0.672    0.054   \n1      2          Joshua Kimmich   5775      0.801        0.625    0.047   \n2      3              Jordi Alba  16178      0.763        0.602    0.056   \n3      4              Dani Alves   8055      0.747        0.621    0.045   \n4      5       Raphael Guerreiro   5561      0.738        0.548    0.275   \n5      6             David Alaba   7421      0.692        0.551    0.109   \n6      7                 Marcelo  13870      0.677        0.511    0.065   \n7      8           Sergi Roberto   7906      0.662        0.579    0.023   \n8      9           Achraf Hakimi   8091      0.645        0.462    0.178   \n9     10                 Maxwell   5949      0.630        0.540    0.076   \n10    11          Thomas Meunier   8204      0.623        0.482    0.077   \n11    12            João Cancelo   8935      0.617        0.478    0.040   \n12    13           Juan Cuadrado   6332      0.613        0.446    0.085   \n13    14                  Danilo   9228      0.612        0.522    0.078   \n14    15  Trent Alexander-Arnold  11673      0.607        0.426    0.077   \n15    16                 Rafinha   5923      0.606        0.550    0.030   \n16    17         Daniel Carvajal  14262      0.602        0.496    0.019   \n17    18        Andrew Robertson  12832      0.585        0.456    0.035   \n18    19             Juan Bernat   7368      0.580        0.447    0.049   \n19    20         Benjamin Pavard   5229      0.565        0.511    0.069   \n\n    assists90  key_passes90   xG90   xA90  shots90  \n0       0.179         1.343  0.059  0.165    0.501  \n1       0.343         2.306  0.044  0.309    0.545  \n2       0.228         1.185  0.067  0.201    0.462  \n3       0.212         1.520  0.047  0.170    0.961  \n4       0.210         1.716  0.173  0.179    1.440  \n5       0.133         1.346  0.079  0.178    1.346  \n6       0.195         1.726  0.062  0.204    1.038  \n7       0.239         1.070  0.026  0.155    0.387  \n8       0.200         0.923  0.111  0.169    1.001  \n9       0.166         0.983  0.025  0.174    0.272  \n10      0.165         1.130  0.060  0.203    0.801  \n11      0.131         1.450  0.068  0.190    1.320  \n12      0.270         2.018  0.074  0.242    0.967  \n13      0.137         0.800  0.050  0.085    0.809  \n14      0.324         2.197  0.064  0.287    1.257  \n15      0.076         1.109  0.020  0.087    0.456  \n16      0.133         1.319  0.035  0.152    0.461  \n17      0.274         1.529  0.040  0.215    0.519  \n18      0.086         0.806  0.055  0.125    0.635  \n19      0.086         0.740  0.038  0.099    0.637  ",
      "text/html": "<div>\n<style scoped>\n    .dataframe tbody tr th:only-of-type {\n        vertical-align: middle;\n    }\n\n    .dataframe tbody tr th {\n        vertical-align: top;\n    }\n\n    .dataframe thead th {\n        text-align: right;\n    }\n</style>\n<table border=\"1\" class=\"dataframe\">\n  <thead>\n    <tr style=\"text-align: right;\">\n      <th></th>\n      <th>rank</th>\n      <th>player</th>\n      <th>time</th>\n      <th>xGChain90</th>\n      <th>xGBuildup90</th>\n      <th>goals90</th>\n      <th>assists90</th>\n      <th>key_passes90</th>\n      <th>xG90</th>\n      <th>xA90</th>\n      <th>shots90</th>\n    </tr>\n  </thead>\n  <tbody>\n    <tr>\n      <th>0</th>\n      <td>1</td>\n      <td>Alphonso Davies</td>\n      <td>5026</td>\n      <td>0.839</td>\n      <td>0.672</td>\n      <td>0.054</td>\n      <td>0.179</td>\n      <td>1.343</td>\n      <td>0.059</td>\n      <td>0.165</td>\n      <td>0.501</td>\n    </tr>\n    <tr>\n      <th>1</th>\n      <td>2</td>\n      <td>Joshua Kimmich</td>\n      <td>5775</td>\n      <td>0.801</td>\n      <td>0.625</td>\n      <td>0.047</td>\n      <td>0.343</td>\n      <td>2.306</td>\n      <td>0.044</td>\n      <td>0.309</td>\n      <td>0.545</td>\n    </tr>\n    <tr>\n      <th>2</th>\n      <td>3</td>\n      <td>Jordi Alba</td>\n      <td>16178</td>\n      <td>0.763</td>\n      <td>0.602</td>\n      <td>0.056</td>\n      <td>0.228</td>\n      <td>1.185</td>\n      <td>0.067</td>\n      <td>0.201</td>\n      <td>0.462</td>\n    </tr>\n    <tr>\n      <th>3</th>\n      <td>4</td>\n      <td>Dani Alves</td>\n      <td>8055</td>\n      <td>0.747</td>\n      <td>0.621</td>\n      <td>0.045</td>\n      <td>0.212</td>\n      <td>1.520</td>\n      <td>0.047</td>\n      <td>0.170</td>\n      <td>0.961</td>\n    </tr>\n    <tr>\n      <th>4</th>\n      <td>5</td>\n      <td>Raphael Guerreiro</td>\n      <td>5561</td>\n      <td>0.738</td>\n      <td>0.548</td>\n      <td>0.275</td>\n      <td>0.210</td>\n      <td>1.716</td>\n      <td>0.173</td>\n      <td>0.179</td>\n      <td>1.440</td>\n    </tr>\n    <tr>\n      <th>5</th>\n      <td>6</td>\n      <td>David Alaba</td>\n      <td>7421</td>\n      <td>0.692</td>\n      <td>0.551</td>\n      <td>0.109</td>\n      <td>0.133</td>\n      <td>1.346</td>\n      <td>0.079</td>\n      <td>0.178</td>\n      <td>1.346</td>\n    </tr>\n    <tr>\n      <th>6</th>\n      <td>7</td>\n      <td>Marcelo</td>\n      <td>13870</td>\n      <td>0.677</td>\n      <td>0.511</td>\n      <td>0.065</td>\n      <td>0.195</td>\n      <td>1.726</td>\n      <td>0.062</td>\n      <td>0.204</td>\n      <td>1.038</td>\n    </tr>\n    <tr>\n      <th>7</th>\n      <td>8</td>\n      <td>Sergi Roberto</td>\n      <td>7906</td>\n      <td>0.662</td>\n      <td>0.579</td>\n      <td>0.023</td>\n      <td>0.239</td>\n      <td>1.070</td>\n      <td>0.026</td>\n      <td>0.155</td>\n      <td>0.387</td>\n    </tr>\n    <tr>\n      <th>8</th>\n      <td>9</td>\n      <td>Achraf Hakimi</td>\n      <td>8091</td>\n      <td>0.645</td>\n      <td>0.462</td>\n      <td>0.178</td>\n      <td>0.200</td>\n      <td>0.923</td>\n      <td>0.111</td>\n      <td>0.169</td>\n      <td>1.001</td>\n    </tr>\n    <tr>\n      <th>9</th>\n      <td>10</td>\n      <td>Maxwell</td>\n      <td>5949</td>\n      <td>0.630</td>\n      <td>0.540</td>\n      <td>0.076</td>\n      <td>0.166</td>\n      <td>0.983</td>\n      <td>0.025</td>\n      <td>0.174</td>\n      <td>0.272</td>\n    </tr>\n    <tr>\n      <th>10</th>\n      <td>11</td>\n      <td>Thomas Meunier</td>\n      <td>8204</td>\n      <td>0.623</td>\n      <td>0.482</td>\n      <td>0.077</td>\n      <td>0.165</td>\n      <td>1.130</td>\n      <td>0.060</td>\n      <td>0.203</td>\n      <td>0.801</td>\n    </tr>\n    <tr>\n      <th>11</th>\n      <td>12</td>\n      <td>João Cancelo</td>\n      <td>8935</td>\n      <td>0.617</td>\n      <td>0.478</td>\n      <td>0.040</td>\n      <td>0.131</td>\n      <td>1.450</td>\n      <td>0.068</td>\n      <td>0.190</td>\n      <td>1.320</td>\n    </tr>\n    <tr>\n      <th>12</th>\n      <td>13</td>\n      <td>Juan Cuadrado</td>\n      <td>6332</td>\n      <td>0.613</td>\n      <td>0.446</td>\n      <td>0.085</td>\n      <td>0.270</td>\n      <td>2.018</td>\n      <td>0.074</td>\n      <td>0.242</td>\n      <td>0.967</td>\n    </tr>\n    <tr>\n      <th>13</th>\n      <td>14</td>\n      <td>Danilo</td>\n      <td>9228</td>\n      <td>0.612</td>\n      <td>0.522</td>\n      <td>0.078</td>\n      <td>0.137</td>\n      <td>0.800</td>\n      <td>0.050</td>\n      <td>0.085</td>\n      <td>0.809</td>\n    </tr>\n    <tr>\n      <th>14</th>\n      <td>15</td>\n      <td>Trent Alexander-Arnold</td>\n      <td>11673</td>\n      <td>0.607</td>\n      <td>0.426</td>\n      <td>0.077</td>\n      <td>0.324</td>\n      <td>2.197</td>\n      <td>0.064</td>\n      <td>0.287</td>\n      <td>1.257</td>\n    </tr>\n    <tr>\n      <th>15</th>\n      <td>16</td>\n      <td>Rafinha</td>\n      <td>5923</td>\n      <td>0.606</td>\n      <td>0.550</td>\n      <td>0.030</td>\n      <td>0.076</td>\n      <td>1.109</td>\n      <td>0.020</td>\n      <td>0.087</td>\n      <td>0.456</td>\n    </tr>\n    <tr>\n      <th>16</th>\n      <td>17</td>\n      <td>Daniel Carvajal</td>\n      <td>14262</td>\n      <td>0.602</td>\n      <td>0.496</td>\n      <td>0.019</td>\n      <td>0.133</td>\n      <td>1.319</td>\n      <td>0.035</td>\n      <td>0.152</td>\n      <td>0.461</td>\n    </tr>\n    <tr>\n      <th>17</th>\n      <td>18</td>\n      <td>Andrew Robertson</td>\n      <td>12832</td>\n      <td>0.585</td>\n      <td>0.456</td>\n      <td>0.035</td>\n      <td>0.274</td>\n      <td>1.529</td>\n      <td>0.040</td>\n      <td>0.215</td>\n      <td>0.519</td>\n    </tr>\n    <tr>\n      <th>18</th>\n      <td>19</td>\n      <td>Juan Bernat</td>\n      <td>7368</td>\n      <td>0.580</td>\n      <td>0.447</td>\n      <td>0.049</td>\n      <td>0.086</td>\n      <td>0.806</td>\n      <td>0.055</td>\n      <td>0.125</td>\n      <td>0.635</td>\n    </tr>\n    <tr>\n      <th>19</th>\n      <td>20</td>\n      <td>Benjamin Pavard</td>\n      <td>5229</td>\n      <td>0.565</td>\n      <td>0.511</td>\n      <td>0.069</td>\n      <td>0.086</td>\n      <td>0.740</td>\n      <td>0.038</td>\n      <td>0.099</td>\n      <td>0.637</td>\n    </tr>\n  </tbody>\n</table>\n</div>"
     },
     "metadata": {}
    }
   ]
  },
  {
   "cell_type": "markdown",
   "source": "### B2. Some radar charts for top players\n***",
   "metadata": {
    "cell_id": "00055-e041cf45-9328-4db5-a66e-b47abb92901f",
    "deepnote_app_coordinates": {
     "x": 0,
     "y": 264,
     "w": 12,
     "h": 5
    },
    "deepnote_cell_type": "markdown",
    "deepnote_cell_height": 79
   }
  },
  {
   "cell_type": "markdown",
   "source": "The packages I use to make radar charts are downloaded at https://mplsoccer.readthedocs.io/en/latest/gallery/radar/plot_radar.html",
   "metadata": {
    "cell_id": "cff19ab5-8e6f-4153-bc9c-d4e66c0fa651",
    "tags": [],
    "deepnote_app_coordinates": {
     "x": 0,
     "y": 270,
     "w": 12,
     "h": 5
    },
    "deepnote_cell_type": "markdown",
    "deepnote_cell_height": 74.796875
   }
  },
  {
   "cell_type": "code",
   "metadata": {
    "cell_id": "1f6387d7-d005-40e7-93f9-66d20b09852f",
    "tags": [],
    "deepnote_to_be_reexecuted": false,
    "source_hash": "4d5fed00",
    "execution_start": 1653580495331,
    "execution_millis": 887,
    "deepnote_app_coordinates": {
     "x": 0,
     "y": 276,
     "w": 12,
     "h": 5
    },
    "deepnote_cell_type": "code",
    "deepnote_cell_height": 81
   },
   "source": "from mplsoccer import Radar, FontManager",
   "execution_count": null,
   "outputs": []
  },
  {
   "cell_type": "markdown",
   "source": "To draw a radar chart, we first collect needed stats in the form of a list. My first radar chart is dedicated to the champion, **Alphonso Davies**.",
   "metadata": {
    "cell_id": "6bff0059-f168-4c6e-a304-a0f5fd77cfa5",
    "tags": [],
    "deepnote_app_coordinates": {
     "x": 0,
     "y": 282,
     "w": 12,
     "h": 5
    },
    "deepnote_cell_type": "markdown",
    "deepnote_cell_height": 74.796875
   }
  },
  {
   "cell_type": "code",
   "metadata": {
    "cell_id": "21e939bd-6148-4529-b731-22c204165b99",
    "tags": [],
    "deepnote_to_be_reexecuted": false,
    "source_hash": "c2de4c2f",
    "execution_start": 1653580496227,
    "execution_millis": 36,
    "deepnote_app_coordinates": {
     "x": 0,
     "y": 288,
     "w": 12,
     "h": 5
    },
    "deepnote_cell_type": "code",
    "deepnote_cell_height": 154.1875,
    "deepnote_output_heights": [
     21.1875
    ]
   },
   "source": "Davies_df = rank_wingbacks.loc[rank_wingbacks['player']=='Alphonso Davies'][['xGChain90', 'xGBuildup90', 'goals90', 'assists90', 'key_passes90', 'xG90', 'xA90', 'shots90']]\nDavies = Davies_df.values.tolist()[0]\nDavies",
   "execution_count": null,
   "outputs": [
    {
     "output_type": "execute_result",
     "execution_count": 19,
     "data": {
      "text/plain": "[0.839, 0.672, 0.054, 0.179, 1.343, 0.059, 0.165, 0.501]"
     },
     "metadata": {}
    }
   ]
  },
  {
   "cell_type": "code",
   "metadata": {
    "cell_id": "96640e79-8cf2-42cc-aca6-a8824f382d53",
    "tags": [],
    "deepnote_to_be_reexecuted": false,
    "source_hash": "231f25f1",
    "execution_start": 1653580496261,
    "execution_millis": 18,
    "deepnote_app_coordinates": {
     "x": 0,
     "y": 294,
     "w": 12,
     "h": 5
    },
    "deepnote_cell_type": "code",
    "deepnote_cell_height": 279
   },
   "source": "# Names of the stats\nstats = ['xGChain90', 'xGBuildup90', 'goals90', 'assists90', 'key_passes90', 'xG90', 'xA90', 'shots90']\n\n# The lower and upper bounds for the stats\nlow =  [0.269, 0.213, 0.0, 0.053, 0.583, 0.009, 0.056, 0.12]\nhigh = [0.839, 0.672, 0.275, 0.343, 2.306, 0.173, 0.309, 1.832]\n\n# Make a radar\nradar = Radar(stats, low, high,\n              round_int=[False]*8,\n              num_rings=4,\n              ring_width=4, center_circle_radius=1)",
   "execution_count": null,
   "outputs": []
  },
  {
   "cell_type": "markdown",
   "source": "Download some fonts.",
   "metadata": {
    "cell_id": "05b25aee-de99-4c4c-bd81-db6d43fcbce7",
    "tags": [],
    "deepnote_app_coordinates": {
     "x": 0,
     "y": 300,
     "w": 12,
     "h": 5
    },
    "deepnote_cell_type": "markdown",
    "deepnote_cell_height": 52.390625
   }
  },
  {
   "cell_type": "code",
   "metadata": {
    "cell_id": "2da84784-69b8-42ba-8625-2a192b7b5cf0",
    "tags": [],
    "deepnote_to_be_reexecuted": false,
    "source_hash": "c083a889",
    "execution_start": 1653580496281,
    "execution_millis": 907,
    "deepnote_app_coordinates": {
     "x": 0,
     "y": 306,
     "w": 12,
     "h": 5
    },
    "deepnote_cell_type": "code",
    "deepnote_cell_height": 333
   },
   "source": "URL1 = ('https://github.com/googlefonts/SourceSerifProGFVersion/blob/main/'\n        'fonts/SourceSerifPro-Regular.ttf?raw=true')\nserif_regular = FontManager(URL1)\nURL2 = ('https://github.com/googlefonts/SourceSerifProGFVersion/blob/main/'\n        'fonts/SourceSerifPro-ExtraLight.ttf?raw=true')\nserif_extra_light = FontManager(URL2)\nURL3 = ('https://github.com/google/fonts/blob/main/ofl/rubikmonoone/'\n        'RubikMonoOne-Regular.ttf?raw=true')\nrubik_regular = FontManager(URL3)\nURL4 = 'https://github.com/googlefonts/roboto/blob/main/src/hinted/Roboto-Thin.ttf?raw=true'\nrobotto_thin = FontManager(URL4)\nURL5 = 'https://github.com/googlefonts/roboto/blob/main/src/hinted/Roboto-Regular.ttf?raw=true'\nrobotto_regular = FontManager(URL5)\nURL6 = 'https://github.com/googlefonts/roboto/blob/main/src/hinted/Roboto-Bold.ttf?raw=true'\nrobotto_bold = FontManager(URL6)",
   "execution_count": null,
   "outputs": []
  },
  {
   "cell_type": "markdown",
   "source": "#### Alphonso Davies\n\n<figure>\n<img src=\"https://media.gettyimages.com/photos/alphonso-davies-of-bayern-munich-in-action-during-the-uefa-champions-picture-id1208693910?s=2048x2048\" alt=\"Trulli\" style=\"width:100%\">\n<figcaption align = \"center\"><b>Davies in an attacking situation. Source: gettyimages.de</b></figcaption>\n</figure>\n<br/>",
   "metadata": {
    "cell_id": "9d545fb1-6f93-4bbe-b33c-60854f745327",
    "tags": [],
    "deepnote_app_coordinates": {
     "x": 0,
     "y": 312,
     "w": 12,
     "h": 5
    },
    "deepnote_cell_type": "markdown",
    "deepnote_cell_height": 138.796875
   }
  },
  {
   "cell_type": "code",
   "metadata": {
    "cell_id": "aba2d3f3-b29c-474d-9c38-c9c8960ad7d4",
    "tags": [],
    "deepnote_to_be_reexecuted": false,
    "source_hash": "c9f8c65",
    "execution_start": 1653580497198,
    "execution_millis": 456,
    "deepnote_app_coordinates": {
     "x": 0,
     "y": 318,
     "w": 12,
     "h": 5
    },
    "deepnote_cell_type": "code",
    "deepnote_cell_height": 906,
    "deepnote_output_heights": [
     611
    ]
   },
   "source": "fig, ax = radar.setup_axis()  # format axis as a radar\nrings_inner = radar.draw_circles(ax=ax, facecolor='#ffb2b2', edgecolor='#fc5f5f')  # draw circles\nradar_output = radar.draw_radar(Davies, ax=ax,\n                                kwargs_radar={'facecolor': '#aa65b2'},\n                                kwargs_rings={'facecolor': '#66d8ba'})  # draw the radar\nradar_poly, rings_outer, vertices = radar_output\nrange_labels = radar.draw_range_labels(ax=ax, fontsize=15,\n                                       fontproperties=robotto_thin.prop)  # draw the range labels\nparam_labels = radar.draw_param_labels(ax=ax, fontsize=15,\n                                       fontproperties=robotto_regular.prop)  # draw the param labels\n\n",
   "execution_count": null,
   "outputs": [
    {
     "data": {
      "text/plain": "<Figure size 864x864 with 1 Axes>",
      "image/png": "[encoded data removed]"
     },
     "metadata": {
      "image/png": {
       "width": 666,
       "height": 666
      }
     },
     "output_type": "display_data"
    }
   ]
  },
  {
   "cell_type": "markdown",
   "source": "The chart shows that **Davies** is exceptionally good in building up his team's play, both his `xGChain90` and `xGBuildup90` are unbelievable. However, other important stats, which are directly related to goals like `key_passes90`, `assists90`, `xA90`, are not very impressing.\n\nIn contrast, **Trent Alexander-Arnold** is extremely high in these stats. Arnold has an amazing passing skill, which contributes to his high `xA90`.\n\n#### Trent Alexander-Arnold (Liverpool FC)\n\n<figure>\n<img src=\"https://ronaldo.com/wp-content/uploads/2019/04/GettyImages-1144203614.jpg\" alt=\"Trulli\" style=\"width:100%\">\n<figcaption align = \"center\"><b>Arnold is also an excellent free-kick taker. Source: gettyimages</b></figcaption>\n</figure>\n<br/>\n",
   "metadata": {
    "cell_id": "7403522b-f52d-4fbf-adee-ecfb6574b919",
    "tags": [],
    "deepnote_app_coordinates": {
     "x": 0,
     "y": 324,
     "w": 12,
     "h": 5
    },
    "deepnote_cell_type": "markdown",
    "deepnote_cell_height": 278.796875
   }
  },
  {
   "cell_type": "code",
   "metadata": {
    "cell_id": "00056-92d05db3-b77c-4b3b-a336-1c62a66d66fa",
    "deepnote_to_be_reexecuted": false,
    "source_hash": "98d88c51",
    "execution_start": 1653580497667,
    "execution_millis": 37,
    "deepnote_app_coordinates": {
     "x": 0,
     "y": 330,
     "w": 12,
     "h": 5
    },
    "deepnote_cell_type": "code",
    "deepnote_cell_height": 154.1875,
    "deepnote_output_heights": [
     21.1875
    ]
   },
   "source": "Arnold_df = rank_wingbacks.loc[rank_wingbacks['player']=='Trent Alexander-Arnold'][['xGChain90', 'xGBuildup90', 'goals90', 'assists90', 'key_passes90', 'xG90', 'xA90', 'shots90']]\nArnold = Arnold_df.values.tolist()[0]\nArnold",
   "execution_count": null,
   "outputs": [
    {
     "output_type": "execute_result",
     "execution_count": 23,
     "data": {
      "text/plain": "[0.607, 0.426, 0.077, 0.324, 2.197, 0.064, 0.287, 1.257]"
     },
     "metadata": {}
    }
   ]
  },
  {
   "cell_type": "code",
   "metadata": {
    "cell_id": "e22e4576-7482-4044-87bd-b354ffacffbc",
    "tags": [],
    "deepnote_to_be_reexecuted": false,
    "source_hash": "b6bd8119",
    "execution_start": 1653580497703,
    "execution_millis": 795,
    "deepnote_app_coordinates": {
     "x": 0,
     "y": 336,
     "w": 12,
     "h": 5
    },
    "deepnote_cell_type": "code",
    "deepnote_cell_height": 870,
    "deepnote_output_heights": [
     611
    ]
   },
   "source": "fig, ax = radar.setup_axis() \nrings_inner = radar.draw_circles(ax=ax, facecolor='#ffb2b2', edgecolor='#fc5f5f')\nradar_output = radar.draw_radar(Arnold, ax=ax,\n                                kwargs_radar={'facecolor': '#aa65b2'},\n                                kwargs_rings={'facecolor': '#66d8ba'}) \nradar_poly, rings_outer, vertices = radar_output\nrange_labels = radar.draw_range_labels(ax=ax, fontsize=15,\n                                       fontproperties=robotto_thin.prop)\nparam_labels = radar.draw_param_labels(ax=ax, fontsize=15,\n                                       fontproperties=robotto_regular.prop)",
   "execution_count": null,
   "outputs": [
    {
     "data": {
      "text/plain": "<Figure size 864x864 with 1 Axes>",
      "image/png": "[encoded data removed]"
     },
     "metadata": {
      "image/png": {
       "width": 666,
       "height": 666
      }
     },
     "output_type": "display_data"
    }
   ]
  },
  {
   "cell_type": "markdown",
   "source": "From the rank rable, it is quite surprising to me that **Raphael Guerreiro** has a really good well-rounded stats. \n\n#### Raphael Guerreiro (Borussia Dortmund)\n\n<figure>\n<img src=\"https://media.minutemediacdn.com/process?url=https%3A%2F%2F90min-images-original.s3.amazonaws.com%2Fproduction%2Fborussia-moenchengladbach-v-borussia-dortmund-bundesliga-5d7a41adcccf229345000001.jpg&filters%5Bcrop%5D%5Bw%5D=0.8649237472766883&filters%5Bcrop%5D%5Bh%5D=1.0&filters%5Bcrop%5D%5Bo_x%5D=0.05004201680672268&filters%5Bcrop%5D%5Bo_y%5D=0.0&filters%5Bquality%5D%5Btarget%5D=80&type=.jpg&filters%5Bresize%5D%5Bw%5D=630&filters%5Bresize%5D%5Bh%5D=472\" alt=\"Trulli\" style=\"width:100%\">\n<figcaption align = \"center\"><b>Raphael Guerreiro. Source: 90min.com</b></figcaption>\n</figure>\n<br/>",
   "metadata": {
    "cell_id": "cab13d29-eb01-45c2-a723-32646bae54d1",
    "tags": [],
    "deepnote_app_coordinates": {
     "x": 0,
     "y": 342,
     "w": 12,
     "h": 5
    },
    "deepnote_cell_type": "markdown",
    "deepnote_cell_height": 175.1875
   }
  },
  {
   "cell_type": "code",
   "metadata": {
    "cell_id": "00057-a467aca4-73d4-427d-a328-b54e35de9373",
    "deepnote_to_be_reexecuted": false,
    "source_hash": "f0f215bd",
    "execution_start": 1653580498270,
    "execution_millis": 22,
    "deepnote_app_coordinates": {
     "x": 0,
     "y": 348,
     "w": 12,
     "h": 5
    },
    "deepnote_cell_type": "code",
    "deepnote_cell_height": 154.1875,
    "deepnote_output_heights": [
     21.1875
    ]
   },
   "source": "Rafael_df = rank_wingbacks.loc[rank_wingbacks['player']=='Raphael Guerreiro'][['xGChain90', 'xGBuildup90', 'goals90', 'assists90', 'key_passes90', 'xG90', 'xA90', 'shots90']]\nRafael = Rafael_df.values.tolist()[0]\nRafael",
   "execution_count": null,
   "outputs": [
    {
     "output_type": "execute_result",
     "execution_count": 25,
     "data": {
      "text/plain": "[0.738, 0.548, 0.275, 0.21, 1.716, 0.173, 0.179, 1.44]"
     },
     "metadata": {}
    }
   ]
  },
  {
   "cell_type": "code",
   "metadata": {
    "cell_id": "00062-6d35cf32-9213-46dc-b49a-7f5713a1d31c",
    "deepnote_to_be_reexecuted": false,
    "source_hash": "6f81c9ce",
    "execution_start": 1653580498299,
    "execution_millis": 698,
    "deepnote_app_coordinates": {
     "x": 0,
     "y": 354,
     "w": 12,
     "h": 5
    },
    "deepnote_cell_type": "code",
    "deepnote_cell_height": 870,
    "deepnote_output_heights": [
     611
    ]
   },
   "source": "fig, ax = radar.setup_axis() \nrings_inner = radar.draw_circles(ax=ax, facecolor='#ffb2b2', edgecolor='#fc5f5f')\nradar_output = radar.draw_radar(Rafael, ax=ax,\n                                kwargs_radar={'facecolor': '#aa65b2'},\n                                kwargs_rings={'facecolor': '#66d8ba'}) \nradar_poly, rings_outer, vertices = radar_output\nrange_labels = radar.draw_range_labels(ax=ax, fontsize=15,\n                                       fontproperties=robotto_thin.prop)\nparam_labels = radar.draw_param_labels(ax=ax, fontsize=15,\n                                       fontproperties=robotto_regular.prop)",
   "execution_count": null,
   "outputs": [
    {
     "data": {
      "text/plain": "<Figure size 864x864 with 1 Axes>",
      "image/png": "[encoded data removed]"
     },
     "metadata": {
      "image/png": {
       "width": 666,
       "height": 666
      }
     },
     "output_type": "display_data"
    }
   ]
  },
  {
   "cell_type": "markdown",
   "source": "However, a little research shows that he is really amazing. He is considered to be Bundesliga's **Gareth Bale**, a famous winger used to start his career as a pacy left back. Current manager of Chelsea FC, **Thomas Tuchel** admitted that Rafael is \"much too good to be limited to just one position\".",
   "metadata": {
    "cell_id": "68631418-327d-40f7-9605-263ce6239b9f",
    "tags": [],
    "deepnote_app_coordinates": {
     "x": 0,
     "y": 360,
     "w": 12,
     "h": 5
    },
    "deepnote_cell_type": "markdown",
    "deepnote_cell_height": 97.1875
   }
  },
  {
   "cell_type": "markdown",
   "source": "Many wingbacks in top 20 in the rank table above have interesting stories behind. Because of the efficiency and prominency in attacking, it is not surprising that some day, some of them might change the role, as we already saw the case of **Kimmich**, who is now playing as a central midfielder at Bayern Munich. \n\nIt is not the purpose of this project to give an overall outlook of wingbacks, instead it focuses only on their contribution to building up team's play. This reason also explains the gap of the market values between them, since we have not yet seen how good they are in defending, or other important factors like ages, injury histories...",
   "metadata": {
    "cell_id": "243e88da-39f5-4ef7-8946-eb36b155ac67",
    "tags": [],
    "deepnote_app_coordinates": {
     "x": 0,
     "y": 366,
     "w": 12,
     "h": 5
    },
    "deepnote_cell_type": "markdown",
    "deepnote_cell_height": 178.390625
   }
  },
  {
   "cell_type": "markdown",
   "source": "<a style='text-decoration:none;line-height:16px;display:flex;color:#5B5B62;padding:10px;justify-content:end;' href='https://deepnote.com?utm_source=created-in-deepnote-cell&projectId=f7ffa858-4e2e-42c3-bf6d-b07859d0ba27' target=\"_blank\">\n<img alt='Created in deepnote.com' style='display:inline;max-height:16px;margin:0px;margin-right:7.5px;' src='data:image/svg+xml;base64,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' > </img>\nCreated in <span style='font-weight:600;margin-left:4px;'>Deepnote</span></a>",
   "metadata": {
    "tags": [],
    "created_in_deepnote_cell": true,
    "deepnote_cell_type": "markdown"
   }
  }
 ],
 "nbformat": 4,
 "nbformat_minor": 4,
 "metadata": {
  "kernelspec": {
   "display_name": "Python 3",
   "language": "python",
   "name": "python3"
  },
  "language_info": {
   "codemirror_mode": {
    "name": "ipython",
    "version": 3
   },
   "file_extension": ".py",
   "mimetype": "text/x-python",
   "name": "python",
   "nbconvert_exporter": "python",
   "pygments_lexer": "ipython3",
   "version": "3.8.3"
  },
  "deepnote_notebook_id": "48440bb1-561d-4501-b525-506fe4ea5109",
  "deepnote": {},
  "deepnote_execution_queue": [],
  "deepnote_app_layout": "article"
 }
}